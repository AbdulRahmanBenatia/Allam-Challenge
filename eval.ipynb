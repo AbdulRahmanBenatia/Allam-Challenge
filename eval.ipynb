{
 "cells": [
  {
   "cell_type": "code",
   "execution_count": 17,
   "metadata": {},
   "outputs": [],
   "source": [
    "import numpy as np\n",
    "from sklearn.metrics import accuracy_score, log_loss\n",
    "\n",
    "def classification_task(df):\n",
    "    \"\"\"\n",
    "    Calculate cross-entropy loss and accuracy for a classification task.\n",
    "    \n",
    "    Parameters:\n",
    "    df (pandas.DataFrame): DataFrame with columns for ground truth class and predicted class.\n",
    "    \n",
    "    Returns:\n",
    "    tuple: Cross-entropy loss, accuracy\n",
    "    \"\"\"\n",
    "    y_true = df.iloc[:, 0].values\n",
    "    y_pred = df.iloc[:, 1].values\n",
    "    \n",
    "    # Calculate cross-entropy loss\n",
    "    ce_loss = log_loss(y_true, y_pred)\n",
    "    \n",
    "    # Calculate accuracy\n",
    "    acc = accuracy_score(y_true, np.round(y_pred))\n",
    "    \n",
    "    return ce_loss, acc"
   ]
  },
  {
   "cell_type": "code",
   "execution_count": 18,
   "metadata": {},
   "outputs": [],
   "source": [
    "import numpy as np\n",
    "from transformers import BertTokenizer, BertModel, pipeline\n",
    "from nltk.translate.bleu_score import corpus_bleu\n",
    "from datasets import load_metric\n",
    "from transformers import LlamaForCausalLM, LlamaTokenizer\n",
    "\n",
    "def generation_task(df):\n",
    "    \"\"\"\n",
    "    Calculate evaluation metrics for a text generation task.\n",
    "    \n",
    "    Parameters:\n",
    "    df (pandas.DataFrame): DataFrame with columns for original and generated text.\n",
    "    \n",
    "    Returns:\n",
    "    dict: Dictionary containing BERT score, BLEU, GLUE, and perplexity.\n",
    "    \"\"\"\n",
    "    original_texts = df.iloc[:, 0].tolist()\n",
    "    generated_texts = df.iloc[:, 1].tolist()\n",
    "    \n",
    "    # Calculate BERT score\n",
    "    tokenizer = BertTokenizer.from_pretrained('bert-base-uncased')\n",
    "    model = BertModel.from_pretrained('bert-base-uncased')\n",
    "    bert_scorer = pipeline('text-similarity', model=model, tokenizer=tokenizer)\n",
    "    bert_score = np.mean([bert_scorer(orig, gen)['similarity'] for orig, gen in zip(original_texts, generated_texts)])\n",
    "    \n",
    "    # Calculate BLEU\n",
    "    bleu = corpus_bleu([[ref] for ref in original_texts], [hyp for hyp in generated_texts])\n",
    "    \n",
    "    # Calculate GLUE\n",
    "    glue_metric = load_metric('glue', 'stsb')\n",
    "    glue_score = glue_metric.compute(predictions=generated_texts, references=original_texts)['pearson']\n",
    "    \n",
    "    # Calculate perplexity using LLaMA\n",
    "    llama_tokenizer = LlamaTokenizer.from_pretrained(\"decapoda-research/llama-7b-hf\")\n",
    "    llama_model = LlamaForCausalLM.from_pretrained(\"decapoda-research/llama-7b-hf\")\n",
    "\n",
    "    def calculate_perplexity(text):\n",
    "        input_ids = llama_tokenizer.encode(text, return_tensors='pt')\n",
    "        with torch.no_grad():\n",
    "            output = llama_model(input_ids, labels=input_ids)[0]\n",
    "        return torch.exp(output).item()\n",
    "    \n",
    "    perplexity = np.mean([calculate_perplexity(gen) for gen in generated_texts])\n",
    "    \n",
    "    return {\n",
    "        'bert_score': bert_score,\n",
    "        'bleu': bleu,\n",
    "        'glue': glue_score,\n",
    "        'perplexity': perplexity\n",
    "    }"
   ]
  },
  {
   "cell_type": "code",
   "execution_count": 19,
   "metadata": {},
   "outputs": [],
   "source": [
    "import pandas as pd\n",
    "from ibm_API import get_response"
   ]
  },
  {
   "cell_type": "code",
   "execution_count": null,
   "metadata": {},
   "outputs": [],
   "source": [
    "generation_data_df = pd.read_json(\"test_gen.json\", encoding=\"utf-8\")\n",
    "generation_data_df[\"MGT\"] = \"MGT\""
   ]
  },
  {
   "cell_type": "code",
   "execution_count": 25,
   "metadata": {},
   "outputs": [
    {
     "data": {
      "text/html": [
       "<div>\n",
       "<style scoped>\n",
       "    .dataframe tbody tr th:only-of-type {\n",
       "        vertical-align: middle;\n",
       "    }\n",
       "\n",
       "    .dataframe tbody tr th {\n",
       "        vertical-align: top;\n",
       "    }\n",
       "\n",
       "    .dataframe thead th {\n",
       "        text-align: right;\n",
       "    }\n",
       "</style>\n",
       "<table border=\"1\" class=\"dataframe\">\n",
       "  <thead>\n",
       "    <tr style=\"text-align: right;\">\n",
       "      <th></th>\n",
       "      <th>input</th>\n",
       "      <th>output</th>\n",
       "      <th>MGT</th>\n",
       "    </tr>\n",
       "  </thead>\n",
       "  <tbody>\n",
       "    <tr>\n",
       "      <th>0</th>\n",
       "      <td>اكتب أبياتًا بعد هذا البيت:  0         اكتب أب...</td>\n",
       "      <td>دع الأمانيّ أو رُمهنّ من ظُبةٍ فإنما هنّ من غي...</td>\n",
       "      <td>MGT</td>\n",
       "    </tr>\n",
       "    <tr>\n",
       "      <th>1</th>\n",
       "      <td>اكتب أبياتًا بعد هذا البيت:  0         اكتب أب...</td>\n",
       "      <td>لا بل هوَ النورُ أضحى يَـــدِبُّ فـــي الظــلم...</td>\n",
       "      <td>MGT</td>\n",
       "    </tr>\n",
       "    <tr>\n",
       "      <th>2</th>\n",
       "      <td>اكتب أبياتًا بعد هذا البيت:  0         اكتب أب...</td>\n",
       "      <td>لما سلكوا بالهجرِ يوماً طريقتي سـيَـنْـدم بُـع...</td>\n",
       "      <td>MGT</td>\n",
       "    </tr>\n",
       "    <tr>\n",
       "      <th>3</th>\n",
       "      <td>اكتب أبياتًا بعد هذا البيت:  0         اكتب أب...</td>\n",
       "      <td>ما أَنتَ بِالحَكَمِ الَّذي سُمِّيتَهُ غالَتكَ ...</td>\n",
       "      <td>MGT</td>\n",
       "    </tr>\n",
       "    <tr>\n",
       "      <th>4</th>\n",
       "      <td>اكتب أبياتًا بعد هذا البيت:  0         اكتب أب...</td>\n",
       "      <td>إِذا المَدحُ زانَ فَتى مَعشَرٍ فَإِنَّ يَزيدَ ...</td>\n",
       "      <td>MGT</td>\n",
       "    </tr>\n",
       "    <tr>\n",
       "      <th>...</th>\n",
       "      <td>...</td>\n",
       "      <td>...</td>\n",
       "      <td>...</td>\n",
       "    </tr>\n",
       "    <tr>\n",
       "      <th>195</th>\n",
       "      <td>اكتب أبياتًا بعد هذا البيت:  0         اكتب أب...</td>\n",
       "      <td>أَجْنَى إِلَيْهَا الرِّضَى جَنَانِي مِنَ الْمَ...</td>\n",
       "      <td>MGT</td>\n",
       "    </tr>\n",
       "    <tr>\n",
       "      <th>196</th>\n",
       "      <td>اكتب أبياتًا بعد هذا البيت:  0         اكتب أب...</td>\n",
       "      <td>وَلَوى بِــقَــلبــي مُــذ لَوى أَصــداغــه وَ...</td>\n",
       "      <td>MGT</td>\n",
       "    </tr>\n",
       "    <tr>\n",
       "      <th>197</th>\n",
       "      <td>اكتب أبياتًا بعد هذا البيت:  0         اكتب أب...</td>\n",
       "      <td>وأَرسلَتِ اللَّحظَ الضَّعيفَ مع الهَوى لِيَقوى...</td>\n",
       "      <td>MGT</td>\n",
       "    </tr>\n",
       "    <tr>\n",
       "      <th>198</th>\n",
       "      <td>اكتب أبياتًا بعد هذا البيت:  0         اكتب أب...</td>\n",
       "      <td>ألا فـي سـبـيـل الله فـقـد أخى تقى دعـاه إلى ا...</td>\n",
       "      <td>MGT</td>\n",
       "    </tr>\n",
       "    <tr>\n",
       "      <th>199</th>\n",
       "      <td>اكتب أبياتًا بعد هذا البيت:  0         اكتب أب...</td>\n",
       "      <td>يطوي الليالي ساهراً متعذبا مـتـضـرعـاً مـن صـد...</td>\n",
       "      <td>MGT</td>\n",
       "    </tr>\n",
       "  </tbody>\n",
       "</table>\n",
       "<p>200 rows × 3 columns</p>\n",
       "</div>"
      ],
      "text/plain": [
       "                                                 input  \\\n",
       "0    اكتب أبياتًا بعد هذا البيت:  0         اكتب أب...   \n",
       "1    اكتب أبياتًا بعد هذا البيت:  0         اكتب أب...   \n",
       "2    اكتب أبياتًا بعد هذا البيت:  0         اكتب أب...   \n",
       "3    اكتب أبياتًا بعد هذا البيت:  0         اكتب أب...   \n",
       "4    اكتب أبياتًا بعد هذا البيت:  0         اكتب أب...   \n",
       "..                                                 ...   \n",
       "195  اكتب أبياتًا بعد هذا البيت:  0         اكتب أب...   \n",
       "196  اكتب أبياتًا بعد هذا البيت:  0         اكتب أب...   \n",
       "197  اكتب أبياتًا بعد هذا البيت:  0         اكتب أب...   \n",
       "198  اكتب أبياتًا بعد هذا البيت:  0         اكتب أب...   \n",
       "199  اكتب أبياتًا بعد هذا البيت:  0         اكتب أب...   \n",
       "\n",
       "                                                output  MGT  \n",
       "0    دع الأمانيّ أو رُمهنّ من ظُبةٍ فإنما هنّ من غي...  MGT  \n",
       "1    لا بل هوَ النورُ أضحى يَـــدِبُّ فـــي الظــلم...  MGT  \n",
       "2    لما سلكوا بالهجرِ يوماً طريقتي سـيَـنْـدم بُـع...  MGT  \n",
       "3    ما أَنتَ بِالحَكَمِ الَّذي سُمِّيتَهُ غالَتكَ ...  MGT  \n",
       "4    إِذا المَدحُ زانَ فَتى مَعشَرٍ فَإِنَّ يَزيدَ ...  MGT  \n",
       "..                                                 ...  ...  \n",
       "195  أَجْنَى إِلَيْهَا الرِّضَى جَنَانِي مِنَ الْمَ...  MGT  \n",
       "196  وَلَوى بِــقَــلبــي مُــذ لَوى أَصــداغــه وَ...  MGT  \n",
       "197  وأَرسلَتِ اللَّحظَ الضَّعيفَ مع الهَوى لِيَقوى...  MGT  \n",
       "198  ألا فـي سـبـيـل الله فـقـد أخى تقى دعـاه إلى ا...  MGT  \n",
       "199  يطوي الليالي ساهراً متعذبا مـتـضـرعـاً مـن صـد...  MGT  \n",
       "\n",
       "[200 rows x 3 columns]"
      ]
     },
     "execution_count": 25,
     "metadata": {},
     "output_type": "execute_result"
    }
   ],
   "source": [
    "generation_data_df"
   ]
  },
  {
   "cell_type": "code",
   "execution_count": 6,
   "metadata": {},
   "outputs": [
    {
     "name": "stdout",
     "output_type": "stream",
     "text": [
      "RESPONSE IN API FUNCTION: \n",
      "ُ \n",
      "Reshaped RESPONSE IN API FUNCTION: \n",
      " \n"
     ]
    }
   ],
   "source": [
    "for i in range(1):\n",
    "    generation_data_df.iloc[i, 2] = get_response(generation_data_df.iloc[i, 0])"
   ]
  },
  {
   "cell_type": "code",
   "execution_count": 7,
   "metadata": {},
   "outputs": [
    {
     "data": {
      "text/plain": [
       "'اكتب أبياتًا بعد هذا البيت: إِن صَوَّروكَ فَإِنَّما قَد صَوَّروا تاجَ الفَخارِ وَمَطلَعَ الأَنوارِ'"
      ]
     },
     "execution_count": 7,
     "metadata": {},
     "output_type": "execute_result"
    }
   ],
   "source": [
    "generation_data_df.iloc[10,0]"
   ]
  },
  {
   "cell_type": "code",
   "execution_count": 8,
   "metadata": {},
   "outputs": [
    {
     "data": {
      "text/plain": [
       "str"
      ]
     },
     "execution_count": 8,
     "metadata": {},
     "output_type": "execute_result"
    }
   ],
   "source": [
    "type(generation_data_df.iloc[i, 0])"
   ]
  },
  {
   "cell_type": "code",
   "execution_count": 9,
   "metadata": {},
   "outputs": [
    {
     "name": "stdout",
     "output_type": "stream",
     "text": [
      "RESPONSE IN API FUNCTION: \n",
      "\n",
      "Reshaped RESPONSE IN API FUNCTION: \n",
      "\n"
     ]
    },
    {
     "data": {
      "text/plain": [
       "''"
      ]
     },
     "execution_count": 9,
     "metadata": {},
     "output_type": "execute_result"
    }
   ],
   "source": [
    "get_response(generation_data_df.iloc[0,2])"
   ]
  },
  {
   "cell_type": "code",
   "execution_count": 22,
   "metadata": {},
   "outputs": [
    {
     "name": "stdout",
     "output_type": "stream",
     "text": [
      "RESPONSE IN API FUNCTION: \n",
      " \n",
      "Reshaped RESPONSE IN API FUNCTION: \n",
      " \n"
     ]
    },
    {
     "data": {
      "text/plain": [
       "' '"
      ]
     },
     "execution_count": 22,
     "metadata": {},
     "output_type": "execute_result"
    }
   ],
   "source": [
    "get_response(generation_data_df.iloc[0,0])"
   ]
  },
  {
   "cell_type": "code",
   "execution_count": 11,
   "metadata": {},
   "outputs": [
    {
     "data": {
      "text/html": [
       "<div>\n",
       "<style scoped>\n",
       "    .dataframe tbody tr th:only-of-type {\n",
       "        vertical-align: middle;\n",
       "    }\n",
       "\n",
       "    .dataframe tbody tr th {\n",
       "        vertical-align: top;\n",
       "    }\n",
       "\n",
       "    .dataframe thead th {\n",
       "        text-align: right;\n",
       "    }\n",
       "</style>\n",
       "<table border=\"1\" class=\"dataframe\">\n",
       "  <thead>\n",
       "    <tr style=\"text-align: right;\">\n",
       "      <th></th>\n",
       "      <th>input</th>\n",
       "      <th>output</th>\n",
       "      <th>MGT</th>\n",
       "    </tr>\n",
       "  </thead>\n",
       "  <tbody>\n",
       "    <tr>\n",
       "      <th>0</th>\n",
       "      <td>اكتب أبياتًا بعد هذا البيت: هي المنى كثغور الغ...</td>\n",
       "      <td>دع الأمانيّ أو رُمهنّ من ظُبةٍ فإنما هنّ من غي...</td>\n",
       "      <td>ُ</td>\n",
       "    </tr>\n",
       "    <tr>\n",
       "      <th>1</th>\n",
       "      <td>اكتب أبياتًا بعد هذا البيت: جـسـمٌ هـوَ المـاء...</td>\n",
       "      <td>لا بل هوَ النورُ أضحى يَـــدِبُّ فـــي الظــلم...</td>\n",
       "      <td>MGT</td>\n",
       "    </tr>\n",
       "    <tr>\n",
       "      <th>2</th>\n",
       "      <td>اكتب أبياتًا بعد هذا البيت: فـلو عـلم الأقوامٌ...</td>\n",
       "      <td>لما سلكوا بالهجرِ يوماً طريقتي سـيَـنْـدم بُـع...</td>\n",
       "      <td>MGT</td>\n",
       "    </tr>\n",
       "    <tr>\n",
       "      <th>3</th>\n",
       "      <td>اكتب أبياتًا بعد هذا البيت: حَلُمَ اِبنُ قَنبَ...</td>\n",
       "      <td>ما أَنتَ بِالحَكَمِ الَّذي سُمِّيتَهُ غالَتكَ ...</td>\n",
       "      <td>MGT</td>\n",
       "    </tr>\n",
       "    <tr>\n",
       "      <th>4</th>\n",
       "      <td>اكتب أبياتًا بعد هذا البيت: مَدَحتُ يَزيدَ بنَ...</td>\n",
       "      <td>إِذا المَدحُ زانَ فَتى مَعشَرٍ فَإِنَّ يَزيدَ ...</td>\n",
       "      <td>MGT</td>\n",
       "    </tr>\n",
       "    <tr>\n",
       "      <th>...</th>\n",
       "      <td>...</td>\n",
       "      <td>...</td>\n",
       "      <td>...</td>\n",
       "    </tr>\n",
       "    <tr>\n",
       "      <th>195</th>\n",
       "      <td>اكتب أبياتًا بعد هذا البيت: أَكْرِمْ بِهَا مِن...</td>\n",
       "      <td>أَجْنَى إِلَيْهَا الرِّضَى جَنَانِي مِنَ الْمَ...</td>\n",
       "      <td>MGT</td>\n",
       "    </tr>\n",
       "    <tr>\n",
       "      <th>196</th>\n",
       "      <td>اكتب أبياتًا بعد هذا البيت: وبـــديـــع حـــسـ...</td>\n",
       "      <td>وَلَوى بِــقَــلبــي مُــذ لَوى أَصــداغــه وَ...</td>\n",
       "      <td>MGT</td>\n",
       "    </tr>\n",
       "    <tr>\n",
       "      <th>197</th>\n",
       "      <td>اكتب أبياتًا بعد هذا البيت: دنَت فَرأَتني عاتِ...</td>\n",
       "      <td>وأَرسلَتِ اللَّحظَ الضَّعيفَ مع الهَوى لِيَقوى...</td>\n",
       "      <td>MGT</td>\n",
       "    </tr>\n",
       "    <tr>\n",
       "      <th>198</th>\n",
       "      <td>اكتب أبياتًا بعد هذا البيت: تــأوهــت مــن وجـ...</td>\n",
       "      <td>ألا فـي سـبـيـل الله فـقـد أخى تقى دعـاه إلى ا...</td>\n",
       "      <td>MGT</td>\n",
       "    </tr>\n",
       "    <tr>\n",
       "      <th>199</th>\n",
       "      <td>اكتب أبياتًا بعد هذا البيت: نـعـمانكم جرح الفر...</td>\n",
       "      <td>يطوي الليالي ساهراً متعذبا مـتـضـرعـاً مـن صـد...</td>\n",
       "      <td>MGT</td>\n",
       "    </tr>\n",
       "  </tbody>\n",
       "</table>\n",
       "<p>200 rows × 3 columns</p>\n",
       "</div>"
      ],
      "text/plain": [
       "                                                 input  \\\n",
       "0    اكتب أبياتًا بعد هذا البيت: هي المنى كثغور الغ...   \n",
       "1    اكتب أبياتًا بعد هذا البيت: جـسـمٌ هـوَ المـاء...   \n",
       "2    اكتب أبياتًا بعد هذا البيت: فـلو عـلم الأقوامٌ...   \n",
       "3    اكتب أبياتًا بعد هذا البيت: حَلُمَ اِبنُ قَنبَ...   \n",
       "4    اكتب أبياتًا بعد هذا البيت: مَدَحتُ يَزيدَ بنَ...   \n",
       "..                                                 ...   \n",
       "195  اكتب أبياتًا بعد هذا البيت: أَكْرِمْ بِهَا مِن...   \n",
       "196  اكتب أبياتًا بعد هذا البيت: وبـــديـــع حـــسـ...   \n",
       "197  اكتب أبياتًا بعد هذا البيت: دنَت فَرأَتني عاتِ...   \n",
       "198  اكتب أبياتًا بعد هذا البيت: تــأوهــت مــن وجـ...   \n",
       "199  اكتب أبياتًا بعد هذا البيت: نـعـمانكم جرح الفر...   \n",
       "\n",
       "                                                output  MGT  \n",
       "0    دع الأمانيّ أو رُمهنّ من ظُبةٍ فإنما هنّ من غي...   ُ   \n",
       "1    لا بل هوَ النورُ أضحى يَـــدِبُّ فـــي الظــلم...  MGT  \n",
       "2    لما سلكوا بالهجرِ يوماً طريقتي سـيَـنْـدم بُـع...  MGT  \n",
       "3    ما أَنتَ بِالحَكَمِ الَّذي سُمِّيتَهُ غالَتكَ ...  MGT  \n",
       "4    إِذا المَدحُ زانَ فَتى مَعشَرٍ فَإِنَّ يَزيدَ ...  MGT  \n",
       "..                                                 ...  ...  \n",
       "195  أَجْنَى إِلَيْهَا الرِّضَى جَنَانِي مِنَ الْمَ...  MGT  \n",
       "196  وَلَوى بِــقَــلبــي مُــذ لَوى أَصــداغــه وَ...  MGT  \n",
       "197  وأَرسلَتِ اللَّحظَ الضَّعيفَ مع الهَوى لِيَقوى...  MGT  \n",
       "198  ألا فـي سـبـيـل الله فـقـد أخى تقى دعـاه إلى ا...  MGT  \n",
       "199  يطوي الليالي ساهراً متعذبا مـتـضـرعـاً مـن صـد...  MGT  \n",
       "\n",
       "[200 rows x 3 columns]"
      ]
     },
     "execution_count": 11,
     "metadata": {},
     "output_type": "execute_result"
    }
   ],
   "source": [
    "generation_data_df"
   ]
  },
  {
   "cell_type": "code",
   "execution_count": 23,
   "metadata": {},
   "outputs": [
    {
     "data": {
      "text/plain": [
       "'اكتب أبياتًا بعد هذا البيت:  0         اكتب أبياتًا بعد هذا البيت:  <pandas.core.stri...\\n1         اكتب أبياتًا بعد هذا البيت:  <pandas.core.stri...\\n2         اكتب أبياتًا بعد هذا البيت:  <pandas.core.stri...\\n3         اكتب أبياتًا بعد هذا البيت:  <pandas.core.stri...\\n4         اكتب أبياتًا بعد هذا البيت:  <pandas.core.stri...\\n                                ...                        \\n254625    اكتب أبياتًا بعد هذا البيت:  <pandas.core.stri...\\n254626    اكتب أبياتًا بعد هذا البيت:  <pandas.core.stri...\\n254627    اكتب أبياتًا بعد هذا البيت:  <pandas.core.stri...\\n254628    اكتب أبياتًا بعد هذا البيت:  <pandas.core.stri...\\n254629    اكتب أبياتًا بعد هذا البيت:  <pandas.core.stri...\\nName: input, Length: 143945, dtype: object'"
      ]
     },
     "execution_count": 23,
     "metadata": {},
     "output_type": "execute_result"
    }
   ],
   "source": [
    "generation_data_df.iloc[0,0]"
   ]
  },
  {
   "cell_type": "code",
   "execution_count": null,
   "metadata": {},
   "outputs": [],
   "source": []
  }
 ],
 "metadata": {
  "kernelspec": {
   "display_name": "Python 3",
   "language": "python",
   "name": "python3"
  },
  "language_info": {
   "codemirror_mode": {
    "name": "ipython",
    "version": 3
   },
   "file_extension": ".py",
   "mimetype": "text/x-python",
   "name": "python",
   "nbconvert_exporter": "python",
   "pygments_lexer": "ipython3",
   "version": "3.10.12"
  }
 },
 "nbformat": 4,
 "nbformat_minor": 2
}
