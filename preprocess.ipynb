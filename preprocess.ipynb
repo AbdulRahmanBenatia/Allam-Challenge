{
 "cells": [
  {
   "cell_type": "code",
   "execution_count": 1,
   "metadata": {},
   "outputs": [],
   "source": [
    "import pandas as pd"
   ]
  },
  {
   "cell_type": "code",
   "execution_count": 2,
   "metadata": {},
   "outputs": [],
   "source": [
    "from datasets import load_dataset\n",
    "\n",
    "ashaar = load_dataset(\"arbml/ashaar\")"
   ]
  },
  {
   "cell_type": "code",
   "execution_count": 3,
   "metadata": {},
   "outputs": [
    {
     "name": "stdout",
     "output_type": "stream",
     "text": [
      "dict_keys(['train'])\n"
     ]
    }
   ],
   "source": [
    "print(ashaar.keys())"
   ]
  },
  {
   "cell_type": "code",
   "execution_count": 4,
   "metadata": {},
   "outputs": [
    {
     "data": {
      "text/html": [
       "<div>\n",
       "<style scoped>\n",
       "    .dataframe tbody tr th:only-of-type {\n",
       "        vertical-align: middle;\n",
       "    }\n",
       "\n",
       "    .dataframe tbody tr th {\n",
       "        vertical-align: top;\n",
       "    }\n",
       "\n",
       "    .dataframe thead th {\n",
       "        text-align: right;\n",
       "    }\n",
       "</style>\n",
       "<table border=\"1\" class=\"dataframe\">\n",
       "  <thead>\n",
       "    <tr style=\"text-align: right;\">\n",
       "      <th></th>\n",
       "      <th>poem title</th>\n",
       "      <th>poem meter</th>\n",
       "      <th>poem verses</th>\n",
       "      <th>poem theme</th>\n",
       "      <th>poem url</th>\n",
       "      <th>poet name</th>\n",
       "      <th>poet description</th>\n",
       "      <th>poet url</th>\n",
       "      <th>poet era</th>\n",
       "      <th>poet location</th>\n",
       "      <th>poem description</th>\n",
       "      <th>poem language type</th>\n",
       "    </tr>\n",
       "  </thead>\n",
       "  <tbody>\n",
       "    <tr>\n",
       "      <th>0</th>\n",
       "      <td>أصبح الملك للذي فطر الخلق</td>\n",
       "      <td>بحر الخفيف</td>\n",
       "      <td>[أَصبَحَ المُلك لِلَّذي فَطر الخَل, قَ بِتَقدي...</td>\n",
       "      <td>قصيدة دينية</td>\n",
       "      <td>https://www.aldiwan.net/poem16182.html</td>\n",
       "      <td>الامير منجك باشا</td>\n",
       "      <td>منجك بن محمد بن منجك بن ابي بكر بن عبد القادر ...</td>\n",
       "      <td>https://www.aldiwan.net/cat-poet-alamir-mnczyk...</td>\n",
       "      <td>العصر العثماني</td>\n",
       "      <td>None</td>\n",
       "      <td>None</td>\n",
       "      <td>None</td>\n",
       "    </tr>\n",
       "    <tr>\n",
       "      <th>1</th>\n",
       "      <td>من أي مولى ارتجي</td>\n",
       "      <td>بحر مجزوء الرمل</td>\n",
       "      <td>[مِن أَي مَولى اِرتَجي, وَلاي باب التَجي, وَال...</td>\n",
       "      <td>قصيدة دينية</td>\n",
       "      <td>https://www.aldiwan.net/poem16183.html</td>\n",
       "      <td>الامير منجك باشا</td>\n",
       "      <td>منجك بن محمد بن منجك بن ابي بكر بن عبد القادر ...</td>\n",
       "      <td>https://www.aldiwan.net/cat-poet-alamir-mnczyk...</td>\n",
       "      <td>العصر العثماني</td>\n",
       "      <td>None</td>\n",
       "      <td>None</td>\n",
       "      <td>None</td>\n",
       "    </tr>\n",
       "    <tr>\n",
       "      <th>2</th>\n",
       "      <td>العبد عبدك يا من أنت سيده</td>\n",
       "      <td>بحر البسيط</td>\n",
       "      <td>[العَبد عَبدك يا مَن أَنتَ سَيدهُ, وَلَيسَ غَي...</td>\n",
       "      <td>قصيدة ذم</td>\n",
       "      <td>https://www.aldiwan.net/poem16184.html</td>\n",
       "      <td>الامير منجك باشا</td>\n",
       "      <td>منجك بن محمد بن منجك بن ابي بكر بن عبد القادر ...</td>\n",
       "      <td>https://www.aldiwan.net/cat-poet-alamir-mnczyk...</td>\n",
       "      <td>العصر العثماني</td>\n",
       "      <td>None</td>\n",
       "      <td>None</td>\n",
       "      <td>None</td>\n",
       "    </tr>\n",
       "    <tr>\n",
       "      <th>3</th>\n",
       "      <td>لو كنت أطمع بالمنام توهما</td>\n",
       "      <td>بحر الكامل</td>\n",
       "      <td>[لَو كُنتَ أَطمَع بِالمَنام تَوهما, لَسالَت طَ...</td>\n",
       "      <td>قصيدة عامه</td>\n",
       "      <td>https://www.aldiwan.net/poem16185.html</td>\n",
       "      <td>الامير منجك باشا</td>\n",
       "      <td>منجك بن محمد بن منجك بن ابي بكر بن عبد القادر ...</td>\n",
       "      <td>https://www.aldiwan.net/cat-poet-alamir-mnczyk...</td>\n",
       "      <td>العصر العثماني</td>\n",
       "      <td>None</td>\n",
       "      <td>None</td>\n",
       "      <td>None</td>\n",
       "    </tr>\n",
       "    <tr>\n",
       "      <th>4</th>\n",
       "      <td>يعد علي أنفاسي ذنوبا</td>\n",
       "      <td>بحر الوافر</td>\n",
       "      <td>[يعد عَليَّ أَنفاسي ذُنوباً, إِذا ما قُلت أَفد...</td>\n",
       "      <td>قصيدة عامه</td>\n",
       "      <td>https://www.aldiwan.net/poem16186.html</td>\n",
       "      <td>الامير منجك باشا</td>\n",
       "      <td>منجك بن محمد بن منجك بن ابي بكر بن عبد القادر ...</td>\n",
       "      <td>https://www.aldiwan.net/cat-poet-alamir-mnczyk...</td>\n",
       "      <td>العصر العثماني</td>\n",
       "      <td>None</td>\n",
       "      <td>None</td>\n",
       "      <td>None</td>\n",
       "    </tr>\n",
       "  </tbody>\n",
       "</table>\n",
       "</div>"
      ],
      "text/plain": [
       "                  poem title       poem meter  \\\n",
       "0  أصبح الملك للذي فطر الخلق       بحر الخفيف   \n",
       "1           من أي مولى ارتجي  بحر مجزوء الرمل   \n",
       "2  العبد عبدك يا من أنت سيده       بحر البسيط   \n",
       "3  لو كنت أطمع بالمنام توهما       بحر الكامل   \n",
       "4       يعد علي أنفاسي ذنوبا       بحر الوافر   \n",
       "\n",
       "                                         poem verses   poem theme  \\\n",
       "0  [أَصبَحَ المُلك لِلَّذي فَطر الخَل, قَ بِتَقدي...  قصيدة دينية   \n",
       "1  [مِن أَي مَولى اِرتَجي, وَلاي باب التَجي, وَال...  قصيدة دينية   \n",
       "2  [العَبد عَبدك يا مَن أَنتَ سَيدهُ, وَلَيسَ غَي...     قصيدة ذم   \n",
       "3  [لَو كُنتَ أَطمَع بِالمَنام تَوهما, لَسالَت طَ...   قصيدة عامه   \n",
       "4  [يعد عَليَّ أَنفاسي ذُنوباً, إِذا ما قُلت أَفد...   قصيدة عامه   \n",
       "\n",
       "                                 poem url         poet name  \\\n",
       "0  https://www.aldiwan.net/poem16182.html  الامير منجك باشا   \n",
       "1  https://www.aldiwan.net/poem16183.html  الامير منجك باشا   \n",
       "2  https://www.aldiwan.net/poem16184.html  الامير منجك باشا   \n",
       "3  https://www.aldiwan.net/poem16185.html  الامير منجك باشا   \n",
       "4  https://www.aldiwan.net/poem16186.html  الامير منجك باشا   \n",
       "\n",
       "                                    poet description  \\\n",
       "0  منجك بن محمد بن منجك بن ابي بكر بن عبد القادر ...   \n",
       "1  منجك بن محمد بن منجك بن ابي بكر بن عبد القادر ...   \n",
       "2  منجك بن محمد بن منجك بن ابي بكر بن عبد القادر ...   \n",
       "3  منجك بن محمد بن منجك بن ابي بكر بن عبد القادر ...   \n",
       "4  منجك بن محمد بن منجك بن ابي بكر بن عبد القادر ...   \n",
       "\n",
       "                                            poet url        poet era  \\\n",
       "0  https://www.aldiwan.net/cat-poet-alamir-mnczyk...  العصر العثماني   \n",
       "1  https://www.aldiwan.net/cat-poet-alamir-mnczyk...  العصر العثماني   \n",
       "2  https://www.aldiwan.net/cat-poet-alamir-mnczyk...  العصر العثماني   \n",
       "3  https://www.aldiwan.net/cat-poet-alamir-mnczyk...  العصر العثماني   \n",
       "4  https://www.aldiwan.net/cat-poet-alamir-mnczyk...  العصر العثماني   \n",
       "\n",
       "  poet location poem description poem language type  \n",
       "0          None             None               None  \n",
       "1          None             None               None  \n",
       "2          None             None               None  \n",
       "3          None             None               None  \n",
       "4          None             None               None  "
      ]
     },
     "execution_count": 4,
     "metadata": {},
     "output_type": "execute_result"
    }
   ],
   "source": [
    "df_ashaar = ashaar['train'].to_pandas()\n",
    "df_ashaar.head()"
   ]
  },
  {
   "cell_type": "code",
   "execution_count": 5,
   "metadata": {},
   "outputs": [
    {
     "data": {
      "text/plain": [
       "<bound method DataFrame.info of                        poem title       poem meter  \\\n",
       "0       أصبح الملك للذي فطر الخلق       بحر الخفيف   \n",
       "1                من أي مولى ارتجي  بحر مجزوء الرمل   \n",
       "2       العبد عبدك يا من أنت سيده       بحر البسيط   \n",
       "3       لو كنت أطمع بالمنام توهما       بحر الكامل   \n",
       "4            يعد علي أنفاسي ذنوبا       بحر الوافر   \n",
       "...                           ...              ...   \n",
       "254625                       None          المضارع   \n",
       "254626                       None          المضارع   \n",
       "254627                       None          المضارع   \n",
       "254628                       None          المضارع   \n",
       "254629                       None          المضارع   \n",
       "\n",
       "                                              poem verses   poem theme  \\\n",
       "0       [أَصبَحَ المُلك لِلَّذي فَطر الخَل, قَ بِتَقدي...  قصيدة دينية   \n",
       "1       [مِن أَي مَولى اِرتَجي, وَلاي باب التَجي, وَال...  قصيدة دينية   \n",
       "2       [العَبد عَبدك يا مَن أَنتَ سَيدهُ, وَلَيسَ غَي...     قصيدة ذم   \n",
       "3       [لَو كُنتَ أَطمَع بِالمَنام تَوهما, لَسالَت طَ...   قصيدة عامه   \n",
       "4       [يعد عَليَّ أَنفاسي ذُنوباً, إِذا ما قُلت أَفد...   قصيدة عامه   \n",
       "...                                                   ...          ...   \n",
       "254625                [وعندنا ليس محض, إلى الشرق أن تولي]         None   \n",
       "254626                  [من الليالي نهار, ومن عتمها ضياء]         None   \n",
       "254627                 [مقامه إذ تجلى, وفي البيد إذ تحلى]         None   \n",
       "254628  [على بابك انتظرنا, وفي البال ألف حيلة, من الوص...         None   \n",
       "254629  [خذ الصفر لا تبالي, فللصفر للرجال, وليس في ذاك...         None   \n",
       "\n",
       "                                      poem url           poet name  \\\n",
       "0       https://www.aldiwan.net/poem16182.html    الامير منجك باشا   \n",
       "1       https://www.aldiwan.net/poem16183.html    الامير منجك باشا   \n",
       "2       https://www.aldiwan.net/poem16184.html    الامير منجك باشا   \n",
       "3       https://www.aldiwan.net/poem16185.html    الامير منجك باشا   \n",
       "4       https://www.aldiwan.net/poem16186.html    الامير منجك باشا   \n",
       "...                                        ...                 ...   \n",
       "254625                                    None  dataset collectors   \n",
       "254626                                    None  dataset collectors   \n",
       "254627                                    None  dataset collectors   \n",
       "254628                                    None  dataset collectors   \n",
       "254629                                    None  dataset collectors   \n",
       "\n",
       "                                         poet description  \\\n",
       "0       منجك بن محمد بن منجك بن ابي بكر بن عبد القادر ...   \n",
       "1       منجك بن محمد بن منجك بن ابي بكر بن عبد القادر ...   \n",
       "2       منجك بن محمد بن منجك بن ابي بكر بن عبد القادر ...   \n",
       "3       منجك بن محمد بن منجك بن ابي بكر بن عبد القادر ...   \n",
       "4       منجك بن محمد بن منجك بن ابي بكر بن عبد القادر ...   \n",
       "...                                                   ...   \n",
       "254625                                               None   \n",
       "254626                                               None   \n",
       "254627                                               None   \n",
       "254628                                               None   \n",
       "254629                                               None   \n",
       "\n",
       "                                                 poet url        poet era  \\\n",
       "0       https://www.aldiwan.net/cat-poet-alamir-mnczyk...  العصر العثماني   \n",
       "1       https://www.aldiwan.net/cat-poet-alamir-mnczyk...  العصر العثماني   \n",
       "2       https://www.aldiwan.net/cat-poet-alamir-mnczyk...  العصر العثماني   \n",
       "3       https://www.aldiwan.net/cat-poet-alamir-mnczyk...  العصر العثماني   \n",
       "4       https://www.aldiwan.net/cat-poet-alamir-mnczyk...  العصر العثماني   \n",
       "...                                                   ...             ...   \n",
       "254625                                               None            None   \n",
       "254626                                               None            None   \n",
       "254627                                               None            None   \n",
       "254628                                               None            None   \n",
       "254629                                               None            None   \n",
       "\n",
       "       poet location poem description poem language type  \n",
       "0               None             None               None  \n",
       "1               None             None               None  \n",
       "2               None             None               None  \n",
       "3               None             None               None  \n",
       "4               None             None               None  \n",
       "...              ...              ...                ...  \n",
       "254625          None             None               فصيح  \n",
       "254626          None             None               فصيح  \n",
       "254627          None             None               فصيح  \n",
       "254628          None             None               فصيح  \n",
       "254629          None             None               فصيح  \n",
       "\n",
       "[254630 rows x 12 columns]>"
      ]
     },
     "execution_count": 5,
     "metadata": {},
     "output_type": "execute_result"
    }
   ],
   "source": [
    "df_ashaar.info"
   ]
  },
  {
   "cell_type": "code",
   "execution_count": 6,
   "metadata": {},
   "outputs": [],
   "source": [
    "df_ashaar = df_ashaar[['poem verses','poem meter']]"
   ]
  },
  {
   "cell_type": "code",
   "execution_count": 7,
   "metadata": {},
   "outputs": [
    {
     "data": {
      "text/html": [
       "<div>\n",
       "<style scoped>\n",
       "    .dataframe tbody tr th:only-of-type {\n",
       "        vertical-align: middle;\n",
       "    }\n",
       "\n",
       "    .dataframe tbody tr th {\n",
       "        vertical-align: top;\n",
       "    }\n",
       "\n",
       "    .dataframe thead th {\n",
       "        text-align: right;\n",
       "    }\n",
       "</style>\n",
       "<table border=\"1\" class=\"dataframe\">\n",
       "  <thead>\n",
       "    <tr style=\"text-align: right;\">\n",
       "      <th></th>\n",
       "      <th>poem verses</th>\n",
       "      <th>poem meter</th>\n",
       "    </tr>\n",
       "  </thead>\n",
       "  <tbody>\n",
       "    <tr>\n",
       "      <th>0</th>\n",
       "      <td>[أَصبَحَ المُلك لِلَّذي فَطر الخَل, قَ بِتَقدي...</td>\n",
       "      <td>بحر الخفيف</td>\n",
       "    </tr>\n",
       "    <tr>\n",
       "      <th>1</th>\n",
       "      <td>[مِن أَي مَولى اِرتَجي, وَلاي باب التَجي, وَال...</td>\n",
       "      <td>بحر مجزوء الرمل</td>\n",
       "    </tr>\n",
       "    <tr>\n",
       "      <th>2</th>\n",
       "      <td>[العَبد عَبدك يا مَن أَنتَ سَيدهُ, وَلَيسَ غَي...</td>\n",
       "      <td>بحر البسيط</td>\n",
       "    </tr>\n",
       "    <tr>\n",
       "      <th>3</th>\n",
       "      <td>[لَو كُنتَ أَطمَع بِالمَنام تَوهما, لَسالَت طَ...</td>\n",
       "      <td>بحر الكامل</td>\n",
       "    </tr>\n",
       "    <tr>\n",
       "      <th>4</th>\n",
       "      <td>[يعد عَليَّ أَنفاسي ذُنوباً, إِذا ما قُلت أَفد...</td>\n",
       "      <td>بحر الوافر</td>\n",
       "    </tr>\n",
       "  </tbody>\n",
       "</table>\n",
       "</div>"
      ],
      "text/plain": [
       "                                         poem verses       poem meter\n",
       "0  [أَصبَحَ المُلك لِلَّذي فَطر الخَل, قَ بِتَقدي...       بحر الخفيف\n",
       "1  [مِن أَي مَولى اِرتَجي, وَلاي باب التَجي, وَال...  بحر مجزوء الرمل\n",
       "2  [العَبد عَبدك يا مَن أَنتَ سَيدهُ, وَلَيسَ غَي...       بحر البسيط\n",
       "3  [لَو كُنتَ أَطمَع بِالمَنام تَوهما, لَسالَت طَ...       بحر الكامل\n",
       "4  [يعد عَليَّ أَنفاسي ذُنوباً, إِذا ما قُلت أَفد...       بحر الوافر"
      ]
     },
     "execution_count": 7,
     "metadata": {},
     "output_type": "execute_result"
    }
   ],
   "source": [
    "df_ashaar.head()"
   ]
  },
  {
   "cell_type": "code",
   "execution_count": 8,
   "metadata": {},
   "outputs": [
    {
     "name": "stdout",
     "output_type": "stream",
     "text": [
      "<class 'pandas.core.frame.DataFrame'>\n",
      "RangeIndex: 254630 entries, 0 to 254629\n",
      "Data columns (total 2 columns):\n",
      " #   Column       Non-Null Count   Dtype \n",
      "---  ------       --------------   ----- \n",
      " 0   poem verses  254630 non-null  object\n",
      " 1   poem meter   153353 non-null  object\n",
      "dtypes: object(2)\n",
      "memory usage: 3.9+ MB\n"
     ]
    }
   ],
   "source": [
    "df_ashaar.info()"
   ]
  },
  {
   "cell_type": "code",
   "execution_count": 9,
   "metadata": {},
   "outputs": [
    {
     "data": {
      "text/plain": [
       "['أَصبَحَ المُلك لِلَّذي فَطر الخَل قَ بِتَقديرٍ للعَزيز العَليمِ',\n",
       " 'غافر الذَنب للمسيءِ بِعَفوٍ قابل التَوب ذي العَطاء العَميمِ',\n",
       " 'مُرسل المُصطَفى البَشير إِلَينا رَحمة مِنهُ بِالكَلام القَديمِ',\n",
       " 'رَبَنا رَبّنا إِلَيكَ أَنينا فَأَجرنا مِن حَر نار الجَحيمِ',\n",
       " 'وَاكفِنا شَرّ ما نَخاف بِلُطفٍ يا عَظيماً يَرجى لِكُل عَظيمِ',\n",
       " 'وَتَقبل أَعمالَنا وَاعفُ عَنا وَأَنلنا دُخول دار النَعيمِ',\n",
       " 'بِنَبي بَعثَتهُ فَهَدانا لِصِراط مِن الهُدى مُستَقيمِ',\n",
       " 'وَبِمَن نَحنُ في حِماهُ مَدى الدَهر أَخيهِ يَحيى الحصور الكَريمِ',\n",
       " 'أَدرك أَدرك قَوماً أَتوا بافتقار وَاِنكِسار وَمَدمَع مَسجومِ',\n",
       " 'شَهدت أَرواحَهُم أَنكَ اللَهُ وَجاءوا بِكُل قَلبٍ سَليم']"
      ]
     },
     "execution_count": 9,
     "metadata": {},
     "output_type": "execute_result"
    }
   ],
   "source": [
    "def poem_to_verses(poem):\n",
    "    return [' '.join(poem[i:i+2]) for i in range(0,len(poem),2)]\n",
    "\n",
    "p=  df_ashaar.head(1)\n",
    "p.head()\n",
    "poem_to_verses(p['poem verses'].to_list()[0])\n",
    "# p['poem verses'].to_list()[0]"
   ]
  },
  {
   "cell_type": "code",
   "execution_count": 10,
   "metadata": {},
   "outputs": [
    {
     "name": "stderr",
     "output_type": "stream",
     "text": [
      "C:\\Users\\abdul\\AppData\\Local\\Temp\\ipykernel_23532\\2729166800.py:1: SettingWithCopyWarning: \n",
      "A value is trying to be set on a copy of a slice from a DataFrame.\n",
      "Try using .loc[row_indexer,col_indexer] = value instead\n",
      "\n",
      "See the caveats in the documentation: https://pandas.pydata.org/pandas-docs/stable/user_guide/indexing.html#returning-a-view-versus-a-copy\n",
      "  df_ashaar['single verses'] = df_ashaar['poem verses'].apply(poem_to_verses)\n"
     ]
    }
   ],
   "source": [
    "df_ashaar['single verses'] = df_ashaar['poem verses'].apply(poem_to_verses)"
   ]
  },
  {
   "cell_type": "code",
   "execution_count": 11,
   "metadata": {},
   "outputs": [],
   "source": [
    "df_ashaar = df_ashaar.explode('single verses')"
   ]
  },
  {
   "cell_type": "code",
   "execution_count": 12,
   "metadata": {},
   "outputs": [
    {
     "data": {
      "text/html": [
       "<div>\n",
       "<style scoped>\n",
       "    .dataframe tbody tr th:only-of-type {\n",
       "        vertical-align: middle;\n",
       "    }\n",
       "\n",
       "    .dataframe tbody tr th {\n",
       "        vertical-align: top;\n",
       "    }\n",
       "\n",
       "    .dataframe thead th {\n",
       "        text-align: right;\n",
       "    }\n",
       "</style>\n",
       "<table border=\"1\" class=\"dataframe\">\n",
       "  <thead>\n",
       "    <tr style=\"text-align: right;\">\n",
       "      <th></th>\n",
       "      <th>poem verses</th>\n",
       "      <th>poem meter</th>\n",
       "      <th>single verses</th>\n",
       "    </tr>\n",
       "  </thead>\n",
       "  <tbody>\n",
       "    <tr>\n",
       "      <th>0</th>\n",
       "      <td>[أَصبَحَ المُلك لِلَّذي فَطر الخَل, قَ بِتَقدي...</td>\n",
       "      <td>بحر الخفيف</td>\n",
       "      <td>أَصبَحَ المُلك لِلَّذي فَطر الخَل قَ بِتَقديرٍ...</td>\n",
       "    </tr>\n",
       "    <tr>\n",
       "      <th>0</th>\n",
       "      <td>[أَصبَحَ المُلك لِلَّذي فَطر الخَل, قَ بِتَقدي...</td>\n",
       "      <td>بحر الخفيف</td>\n",
       "      <td>غافر الذَنب للمسيءِ بِعَفوٍ قابل التَوب ذي الع...</td>\n",
       "    </tr>\n",
       "    <tr>\n",
       "      <th>0</th>\n",
       "      <td>[أَصبَحَ المُلك لِلَّذي فَطر الخَل, قَ بِتَقدي...</td>\n",
       "      <td>بحر الخفيف</td>\n",
       "      <td>مُرسل المُصطَفى البَشير إِلَينا رَحمة مِنهُ بِ...</td>\n",
       "    </tr>\n",
       "    <tr>\n",
       "      <th>0</th>\n",
       "      <td>[أَصبَحَ المُلك لِلَّذي فَطر الخَل, قَ بِتَقدي...</td>\n",
       "      <td>بحر الخفيف</td>\n",
       "      <td>رَبَنا رَبّنا إِلَيكَ أَنينا فَأَجرنا مِن حَر ...</td>\n",
       "    </tr>\n",
       "    <tr>\n",
       "      <th>0</th>\n",
       "      <td>[أَصبَحَ المُلك لِلَّذي فَطر الخَل, قَ بِتَقدي...</td>\n",
       "      <td>بحر الخفيف</td>\n",
       "      <td>وَاكفِنا شَرّ ما نَخاف بِلُطفٍ يا عَظيماً يَرج...</td>\n",
       "    </tr>\n",
       "  </tbody>\n",
       "</table>\n",
       "</div>"
      ],
      "text/plain": [
       "                                         poem verses  poem meter  \\\n",
       "0  [أَصبَحَ المُلك لِلَّذي فَطر الخَل, قَ بِتَقدي...  بحر الخفيف   \n",
       "0  [أَصبَحَ المُلك لِلَّذي فَطر الخَل, قَ بِتَقدي...  بحر الخفيف   \n",
       "0  [أَصبَحَ المُلك لِلَّذي فَطر الخَل, قَ بِتَقدي...  بحر الخفيف   \n",
       "0  [أَصبَحَ المُلك لِلَّذي فَطر الخَل, قَ بِتَقدي...  بحر الخفيف   \n",
       "0  [أَصبَحَ المُلك لِلَّذي فَطر الخَل, قَ بِتَقدي...  بحر الخفيف   \n",
       "\n",
       "                                       single verses  \n",
       "0  أَصبَحَ المُلك لِلَّذي فَطر الخَل قَ بِتَقديرٍ...  \n",
       "0  غافر الذَنب للمسيءِ بِعَفوٍ قابل التَوب ذي الع...  \n",
       "0  مُرسل المُصطَفى البَشير إِلَينا رَحمة مِنهُ بِ...  \n",
       "0  رَبَنا رَبّنا إِلَيكَ أَنينا فَأَجرنا مِن حَر ...  \n",
       "0  وَاكفِنا شَرّ ما نَخاف بِلُطفٍ يا عَظيماً يَرج...  "
      ]
     },
     "execution_count": 12,
     "metadata": {},
     "output_type": "execute_result"
    }
   ],
   "source": [
    "df_ashaar.head()"
   ]
  },
  {
   "cell_type": "code",
   "execution_count": 13,
   "metadata": {},
   "outputs": [],
   "source": [
    "df_ashaar = df_ashaar[['single verses','poem meter']]"
   ]
  },
  {
   "cell_type": "code",
   "execution_count": 14,
   "metadata": {},
   "outputs": [
    {
     "data": {
      "text/html": [
       "<div>\n",
       "<style scoped>\n",
       "    .dataframe tbody tr th:only-of-type {\n",
       "        vertical-align: middle;\n",
       "    }\n",
       "\n",
       "    .dataframe tbody tr th {\n",
       "        vertical-align: top;\n",
       "    }\n",
       "\n",
       "    .dataframe thead th {\n",
       "        text-align: right;\n",
       "    }\n",
       "</style>\n",
       "<table border=\"1\" class=\"dataframe\">\n",
       "  <thead>\n",
       "    <tr style=\"text-align: right;\">\n",
       "      <th></th>\n",
       "      <th>single verses</th>\n",
       "      <th>poem meter</th>\n",
       "    </tr>\n",
       "  </thead>\n",
       "  <tbody>\n",
       "    <tr>\n",
       "      <th>0</th>\n",
       "      <td>أَصبَحَ المُلك لِلَّذي فَطر الخَل قَ بِتَقديرٍ...</td>\n",
       "      <td>بحر الخفيف</td>\n",
       "    </tr>\n",
       "    <tr>\n",
       "      <th>0</th>\n",
       "      <td>غافر الذَنب للمسيءِ بِعَفوٍ قابل التَوب ذي الع...</td>\n",
       "      <td>بحر الخفيف</td>\n",
       "    </tr>\n",
       "    <tr>\n",
       "      <th>0</th>\n",
       "      <td>مُرسل المُصطَفى البَشير إِلَينا رَحمة مِنهُ بِ...</td>\n",
       "      <td>بحر الخفيف</td>\n",
       "    </tr>\n",
       "    <tr>\n",
       "      <th>0</th>\n",
       "      <td>رَبَنا رَبّنا إِلَيكَ أَنينا فَأَجرنا مِن حَر ...</td>\n",
       "      <td>بحر الخفيف</td>\n",
       "    </tr>\n",
       "    <tr>\n",
       "      <th>0</th>\n",
       "      <td>وَاكفِنا شَرّ ما نَخاف بِلُطفٍ يا عَظيماً يَرج...</td>\n",
       "      <td>بحر الخفيف</td>\n",
       "    </tr>\n",
       "  </tbody>\n",
       "</table>\n",
       "</div>"
      ],
      "text/plain": [
       "                                       single verses  poem meter\n",
       "0  أَصبَحَ المُلك لِلَّذي فَطر الخَل قَ بِتَقديرٍ...  بحر الخفيف\n",
       "0  غافر الذَنب للمسيءِ بِعَفوٍ قابل التَوب ذي الع...  بحر الخفيف\n",
       "0  مُرسل المُصطَفى البَشير إِلَينا رَحمة مِنهُ بِ...  بحر الخفيف\n",
       "0  رَبَنا رَبّنا إِلَيكَ أَنينا فَأَجرنا مِن حَر ...  بحر الخفيف\n",
       "0  وَاكفِنا شَرّ ما نَخاف بِلُطفٍ يا عَظيماً يَرج...  بحر الخفيف"
      ]
     },
     "execution_count": 14,
     "metadata": {},
     "output_type": "execute_result"
    }
   ],
   "source": [
    "df_ashaar.head()"
   ]
  },
  {
   "cell_type": "code",
   "execution_count": 15,
   "metadata": {},
   "outputs": [
    {
     "name": "stdout",
     "output_type": "stream",
     "text": [
      "<class 'pandas.core.frame.DataFrame'>\n",
      "Index: 3869619 entries, 0 to 254629\n",
      "Data columns (total 2 columns):\n",
      " #   Column         Dtype \n",
      "---  ------         ----- \n",
      " 0   single verses  object\n",
      " 1   poem meter     object\n",
      "dtypes: object(2)\n",
      "memory usage: 88.6+ MB\n"
     ]
    }
   ],
   "source": [
    "df_ashaar.info()"
   ]
  },
  {
   "cell_type": "code",
   "execution_count": 16,
   "metadata": {},
   "outputs": [],
   "source": [
    "meters = df_ashaar['poem meter'].unique()"
   ]
  },
  {
   "cell_type": "code",
   "execution_count": 17,
   "metadata": {},
   "outputs": [
    {
     "name": "stdout",
     "output_type": "stream",
     "text": [
      "['بحر الخفيف' 'بحر مجزوء الرمل' 'بحر البسيط' 'بحر الكامل' 'بحر الوافر'\n",
      " 'بحر الطويل' 'بحر السريع' 'بحر المنسرح' 'بحر مجزوء الكامل' 'بحر المجتث'\n",
      " 'بحر الرمل' 'بحر مجزوء الوافر' 'بحر المتقارب' 'بحر مخلع البسيط'\n",
      " 'بحر مجزوء الرجز' 'بحر مجزوء الخفيف' 'بحر الدوبيت' None 'بحر الرجز'\n",
      " 'بحر المديد' 'بحر الهزج' 'بحر مجزوء البسيط' 'نثريه' 'عموديه'\n",
      " 'بحر المواليا' 'بحر موشح' 'بحر مربع البسيط' 'بحر السلسلة'\n",
      " 'بحر منهوك المنسرح' 'بحر تفعيلة المتقارب' 'بحر الكامل المقطوع'\n",
      " 'بحر تفعيلة الرمل' 'بحر المتدارك المنهوك' 'بحر تفعيلة الرجز'\n",
      " 'بحر تفعيلة الكامل' 'بحر المتدارك' 'بحر أحذ الكامل' 'بحر مشطور الرجز'\n",
      " 'بحر المضارع' 'بحر المقتضب' 'بحر مخلع الكامل' 'بحر مجزوء المتدارك'\n",
      " 'بحر مجزوء المتقارب' 'التفعيله' 'بحر مجزوء الدوبيت' 'بحر مجزوء السريع'\n",
      " 'بحر الخبب' 'بحر مجزوء المنسرح' 'بحر مجزوء المجتث' 'بحر مجزوء الرمل '\n",
      " 'بحر مجزوء موشح' 'بحر منهوك الرجز' 'بحر مخلع موشح' 'بحر مجزوء الطويل'\n",
      " 'بحر مخلع الرجز' 'بحر أحذ الوافر' 'بحر القوما' 'بحر مخلع الرمل'\n",
      " 'بحر التفعيله' 'بحر منهوك البسيط' 'بحر مجزوء المديد' 'بحر منهوك الكامل'\n",
      " 'بحر مربع الرجز' 'بحر مشطور السريع' 'بحر مجزوء الهزج' 'بحر مخلع السريع'\n",
      " 'بحر أحذ المديد' 'بحر مشطور الطويل' 'بحر مجزوء المواليا' 'المتقارب'\n",
      " 'الخفيف' 'الكامل' 'الطويل' 'الرجز' 'البسيط' 'الوافر' 'المنسرح' 'المديد'\n",
      " 'الهزج' 'السريع' 'الرمل' 'المجتث' 'زجل' 'المتدارك' 'شعر التفعيلة'\n",
      " 'شعر حر' 'الموشح' 'المواليا' 'المقتضب' 'الدوبيت' 'السلسلة' 'المسحوب'\n",
      " 'الهجيني' 'الصخري' 'الحداء' 'المضارع' 'مجزوء الخفيف' 'عامي' 'الكان كان'\n",
      " 'عدة أبحر' 'بسيط' 'اللويحاني']\n"
     ]
    }
   ],
   "source": [
    "print(meters)"
   ]
  },
  {
   "cell_type": "code",
   "execution_count": 18,
   "metadata": {},
   "outputs": [
    {
     "name": "stdout",
     "output_type": "stream",
     "text": [
      "102\n",
      "بحر الخفيف\n",
      "بحر مجزوء الرمل\n",
      "بحر البسيط\n",
      "بحر الكامل\n",
      "بحر الوافر\n",
      "بحر الطويل\n",
      "بحر السريع\n",
      "بحر المنسرح\n",
      "بحر مجزوء الكامل\n",
      "بحر المجتث\n",
      "بحر الرمل\n",
      "بحر مجزوء الوافر\n",
      "بحر المتقارب\n",
      "بحر مخلع البسيط\n",
      "بحر مجزوء الرجز\n",
      "بحر مجزوء الخفيف\n",
      "بحر الدوبيت\n",
      "None\n",
      "بحر الرجز\n",
      "بحر المديد\n",
      "بحر الهزج\n",
      "بحر مجزوء البسيط\n",
      "نثريه\n",
      "عموديه\n",
      "بحر المواليا\n",
      "بحر موشح\n",
      "بحر مربع البسيط\n",
      "بحر السلسلة\n",
      "بحر منهوك المنسرح\n",
      "بحر تفعيلة المتقارب\n",
      "بحر الكامل المقطوع\n",
      "بحر تفعيلة الرمل\n",
      "بحر المتدارك المنهوك\n",
      "بحر تفعيلة الرجز\n",
      "بحر تفعيلة الكامل\n",
      "بحر المتدارك\n",
      "بحر أحذ الكامل\n",
      "بحر مشطور الرجز\n",
      "بحر المضارع\n",
      "بحر المقتضب\n",
      "بحر مخلع الكامل\n",
      "بحر مجزوء المتدارك\n",
      "بحر مجزوء المتقارب\n",
      "التفعيله\n",
      "بحر مجزوء الدوبيت\n",
      "بحر مجزوء السريع\n",
      "بحر الخبب\n",
      "بحر مجزوء المنسرح\n",
      "بحر مجزوء المجتث\n",
      "بحر مجزوء الرمل \n",
      "بحر مجزوء موشح\n",
      "بحر منهوك الرجز\n",
      "بحر مخلع موشح\n",
      "بحر مجزوء الطويل\n",
      "بحر مخلع الرجز\n",
      "بحر أحذ الوافر\n",
      "بحر القوما\n",
      "بحر مخلع الرمل\n",
      "بحر التفعيله\n",
      "بحر منهوك البسيط\n",
      "بحر مجزوء المديد\n",
      "بحر منهوك الكامل\n",
      "بحر مربع الرجز\n",
      "بحر مشطور السريع\n",
      "بحر مجزوء الهزج\n",
      "بحر مخلع السريع\n",
      "بحر أحذ المديد\n",
      "بحر مشطور الطويل\n",
      "بحر مجزوء المواليا\n",
      "المتقارب\n",
      "الخفيف\n",
      "الكامل\n",
      "الطويل\n",
      "الرجز\n",
      "البسيط\n",
      "الوافر\n",
      "المنسرح\n",
      "المديد\n",
      "الهزج\n",
      "السريع\n",
      "الرمل\n",
      "المجتث\n",
      "زجل\n",
      "المتدارك\n",
      "شعر التفعيلة\n",
      "شعر حر\n",
      "الموشح\n",
      "المواليا\n",
      "المقتضب\n",
      "الدوبيت\n",
      "السلسلة\n",
      "المسحوب\n",
      "الهجيني\n",
      "الصخري\n",
      "الحداء\n",
      "المضارع\n",
      "مجزوء الخفيف\n",
      "عامي\n",
      "الكان كان\n",
      "عدة أبحر\n",
      "بسيط\n",
      "اللويحاني\n"
     ]
    }
   ],
   "source": [
    "print(len(meters))\n",
    "for meter in meters:\n",
    "    print(meter)"
   ]
  },
  {
   "cell_type": "code",
   "execution_count": 19,
   "metadata": {},
   "outputs": [
    {
     "name": "stdout",
     "output_type": "stream",
     "text": [
      "31191\n"
     ]
    }
   ],
   "source": [
    "print(len(df_ashaar[df_ashaar['poem meter'] == 'بحر المتقارب']))"
   ]
  },
  {
   "cell_type": "code",
   "execution_count": 20,
   "metadata": {},
   "outputs": [
    {
     "name": "stdout",
     "output_type": "stream",
     "text": [
      "{'بحر الخفيف': 70035, 'بحر مجزوء الرمل': 10636, 'بحر البسيط': 105345, 'بحر الكامل': 135856, 'بحر الوافر': 65413, 'بحر الطويل': 200479, 'بحر السريع': 28008, 'بحر المنسرح': 15747, 'بحر مجزوء الكامل': 26114, 'بحر المجتث': 7348, 'بحر الرمل': 21836, 'بحر مجزوء الوافر': 3818, 'بحر المتقارب': 31191, 'بحر مخلع البسيط': 5447, 'بحر مجزوء الرجز': 10322, 'بحر مجزوء الخفيف': 3515, 'بحر الدوبيت': 329, None: 0, 'بحر الرجز': 34370, 'بحر المديد': 3674, 'بحر الهزج': 4054, 'بحر مجزوء البسيط': 1261, 'نثريه': 12243, 'عموديه': 53616, 'بحر المواليا': 619, 'بحر موشح': 11242, 'بحر مربع البسيط': 2, 'بحر السلسلة': 44, 'بحر منهوك المنسرح': 258, 'بحر تفعيلة المتقارب': 29, 'بحر الكامل المقطوع': 5, 'بحر تفعيلة الرمل': 16, 'بحر المتدارك المنهوك': 7, 'بحر تفعيلة الرجز': 23, 'بحر تفعيلة الكامل': 58, 'بحر المتدارك': 1754, 'بحر أحذ الكامل': 6024, 'بحر مشطور الرجز': 185, 'بحر المضارع': 60, 'بحر المقتضب': 400, 'بحر مخلع الكامل': 51, 'بحر مجزوء المتدارك': 133, 'بحر مجزوء المتقارب': 358, 'التفعيله': 32091, 'بحر مجزوء الدوبيت': 77, 'بحر مجزوء السريع': 196, 'بحر الخبب': 14, 'بحر مجزوء المنسرح': 5, 'بحر مجزوء المجتث': 3, 'بحر مجزوء الرمل ': 1, 'بحر مجزوء موشح': 374, 'بحر منهوك الرجز': 121, 'بحر مخلع موشح': 44, 'بحر مجزوء الطويل': 57, 'بحر مخلع الرجز': 2, 'بحر أحذ الوافر': 4, 'بحر القوما': 12, 'بحر مخلع الرمل': 8, 'بحر التفعيله': 219, 'بحر منهوك البسيط': 55, 'بحر مجزوء المديد': 54, 'بحر منهوك الكامل': 27, 'بحر مربع الرجز': 10, 'بحر مشطور السريع': 2, 'بحر مجزوء الهزج': 18, 'بحر مخلع السريع': 4, 'بحر أحذ المديد': 20, 'بحر مشطور الطويل': 1, 'بحر مجزوء المواليا': 2, 'المتقارب': 37223, 'الخفيف': 95105, 'الكامل': 221651, 'الطويل': 231017, 'الرجز': 79741, 'البسيط': 142238, 'الوافر': 79359, 'المنسرح': 13638, 'المديد': 3920, 'الهزج': 4317, 'السريع': 32729, 'الرمل': 48892, 'المجتث': 11463, 'زجل': 81, 'المتدارك': 3728, 'شعر التفعيلة': 4656, 'شعر حر': 3684, 'الموشح': 18319, 'المواليا': 1005, 'المقتضب': 401, 'الدوبيت': 2291, 'السلسلة': 772, 'المسحوب': 1135, 'الهجيني': 47, 'الصخري': 16, 'الحداء': 3, 'المضارع': 97, 'مجزوء الخفيف': 53, 'عامي': 6694, 'الكان كان': 59, 'عدة أبحر': 26, 'بسيط': 22, 'اللويحاني': 7}\n"
     ]
    }
   ],
   "source": [
    "meter_count = {}\n",
    "for meter in meters :\n",
    "    meter_count[meter] = len(df_ashaar[df_ashaar['poem meter'] == meter])\n",
    "\n",
    "print(meter_count)"
   ]
  },
  {
   "cell_type": "code",
   "execution_count": 21,
   "metadata": {},
   "outputs": [
    {
     "name": "stdout",
     "output_type": "stream",
     "text": [
      "dict_values([70035, 10636, 105345, 135856, 65413, 200479, 28008, 15747, 26114, 7348, 21836, 3818, 31191, 5447, 10322, 3515, 329, 0, 34370, 3674, 4054, 1261, 12243, 53616, 619, 11242, 2, 44, 258, 29, 5, 16, 7, 23, 58, 1754, 6024, 185, 60, 400, 51, 133, 358, 32091, 77, 196, 14, 5, 3, 1, 374, 121, 44, 57, 2, 4, 12, 8, 219, 55, 54, 27, 10, 2, 18, 4, 20, 1, 2, 37223, 95105, 221651, 231017, 79741, 142238, 79359, 13638, 3920, 4317, 32729, 48892, 11463, 81, 3728, 4656, 3684, 18319, 1005, 401, 2291, 772, 1135, 47, 16, 3, 97, 53, 6694, 59, 26, 22, 7])\n"
     ]
    }
   ],
   "source": [
    "print(meter_count.values())"
   ]
  },
  {
   "cell_type": "code",
   "execution_count": 22,
   "metadata": {},
   "outputs": [
    {
     "name": "stdout",
     "output_type": "stream",
     "text": [
      "1\n"
     ]
    }
   ],
   "source": [
    "print(list(meter_count.values()).count(0))"
   ]
  },
  {
   "cell_type": "code",
   "execution_count": 23,
   "metadata": {},
   "outputs": [
    {
     "name": "stdout",
     "output_type": "stream",
     "text": [
      "                                           single verses   poem meter\n",
      "356    القَوم مَضوا إِلى المَنايا زَمرا ما أَسمعنا ال...  بحر الدوبيت\n",
      "356    حَتّى م تَرى بِزائل مُلتَهياً وَالدَهر يُريك ك...  بحر الدوبيت\n",
      "357    دَمعي أَسَفاً عَلى شَباب يَجري إِذ مَرَّ سُداً...  بحر الدوبيت\n",
      "357    حَظي أَبَداً تَراهُ في نَومِهِ لا يُوقظهُ ضَجي...  بحر الدوبيت\n",
      "358    الهَجر بِنا موكل مَخصوصُ وَالصَبر عَلى اِحتِما...  بحر الدوبيت\n",
      "...                                                  ...          ...\n",
      "69000  عَذْلٌ وَتَسهُّدٌ وَوَجْدٌ وَقِلىً مَا تَمَّ ع...  بحر الدوبيت\n",
      "69020  يا مَنْ هَجر المُحبَّ مِنْ غَيرِ سَببْ وَاسْتب...  بحر الدوبيت\n",
      "69020  إن متُّ مِن الهَجْر فما ذاكَ عجَبْ بَلْ إنْ سَ...  بحر الدوبيت\n",
      "69030  يا مَنْ لِجَمالِ وَجْههِ البَدْرُ سَجدْ ما تَر...  بحر الدوبيت\n",
      "69030  إنْ قِيلَ بِأَنّ لِي عَلى الهَجْرِ جَلَدْ ما أ...  بحر الدوبيت\n",
      "\n",
      "[329 rows x 2 columns]\n"
     ]
    }
   ],
   "source": [
    "print(df_ashaar[df_ashaar['poem meter'] == 'بحر الدوبيت'])"
   ]
  },
  {
   "cell_type": "markdown",
   "metadata": {},
   "source": [
    "Try to save a portion of it as JSON:"
   ]
  },
  {
   "cell_type": "code",
   "execution_count": 24,
   "metadata": {},
   "outputs": [
    {
     "data": {
      "text/plain": [
       "102"
      ]
     },
     "execution_count": 24,
     "metadata": {},
     "output_type": "execute_result"
    }
   ],
   "source": [
    "len(meters)"
   ]
  },
  {
   "cell_type": "code",
   "execution_count": 25,
   "metadata": {},
   "outputs": [],
   "source": [
    "small_df = df_ashaar.head(5)"
   ]
  },
  {
   "cell_type": "code",
   "execution_count": 26,
   "metadata": {},
   "outputs": [
    {
     "data": {
      "text/html": [
       "<div>\n",
       "<style scoped>\n",
       "    .dataframe tbody tr th:only-of-type {\n",
       "        vertical-align: middle;\n",
       "    }\n",
       "\n",
       "    .dataframe tbody tr th {\n",
       "        vertical-align: top;\n",
       "    }\n",
       "\n",
       "    .dataframe thead th {\n",
       "        text-align: right;\n",
       "    }\n",
       "</style>\n",
       "<table border=\"1\" class=\"dataframe\">\n",
       "  <thead>\n",
       "    <tr style=\"text-align: right;\">\n",
       "      <th></th>\n",
       "      <th>single verses</th>\n",
       "      <th>poem meter</th>\n",
       "    </tr>\n",
       "  </thead>\n",
       "  <tbody>\n",
       "    <tr>\n",
       "      <th>0</th>\n",
       "      <td>أَصبَحَ المُلك لِلَّذي فَطر الخَل قَ بِتَقديرٍ...</td>\n",
       "      <td>بحر الخفيف</td>\n",
       "    </tr>\n",
       "    <tr>\n",
       "      <th>0</th>\n",
       "      <td>غافر الذَنب للمسيءِ بِعَفوٍ قابل التَوب ذي الع...</td>\n",
       "      <td>بحر الخفيف</td>\n",
       "    </tr>\n",
       "    <tr>\n",
       "      <th>0</th>\n",
       "      <td>مُرسل المُصطَفى البَشير إِلَينا رَحمة مِنهُ بِ...</td>\n",
       "      <td>بحر الخفيف</td>\n",
       "    </tr>\n",
       "    <tr>\n",
       "      <th>0</th>\n",
       "      <td>رَبَنا رَبّنا إِلَيكَ أَنينا فَأَجرنا مِن حَر ...</td>\n",
       "      <td>بحر الخفيف</td>\n",
       "    </tr>\n",
       "    <tr>\n",
       "      <th>0</th>\n",
       "      <td>وَاكفِنا شَرّ ما نَخاف بِلُطفٍ يا عَظيماً يَرج...</td>\n",
       "      <td>بحر الخفيف</td>\n",
       "    </tr>\n",
       "  </tbody>\n",
       "</table>\n",
       "</div>"
      ],
      "text/plain": [
       "                                       single verses  poem meter\n",
       "0  أَصبَحَ المُلك لِلَّذي فَطر الخَل قَ بِتَقديرٍ...  بحر الخفيف\n",
       "0  غافر الذَنب للمسيءِ بِعَفوٍ قابل التَوب ذي الع...  بحر الخفيف\n",
       "0  مُرسل المُصطَفى البَشير إِلَينا رَحمة مِنهُ بِ...  بحر الخفيف\n",
       "0  رَبَنا رَبّنا إِلَيكَ أَنينا فَأَجرنا مِن حَر ...  بحر الخفيف\n",
       "0  وَاكفِنا شَرّ ما نَخاف بِلُطفٍ يا عَظيماً يَرج...  بحر الخفيف"
      ]
     },
     "execution_count": 26,
     "metadata": {},
     "output_type": "execute_result"
    }
   ],
   "source": [
    "small_df.head()"
   ]
  },
  {
   "cell_type": "code",
   "execution_count": 27,
   "metadata": {},
   "outputs": [
    {
     "data": {
      "text/plain": [
       "[{'input': 'ما هو البحر الشعري لهذا البيت؟ أَصبَحَ المُلك لِلَّذي فَطر الخَل قَ بِتَقديرٍ للعَزيز العَليمِ',\n",
       "  'output': 'بحر الخفيف'},\n",
       " {'input': 'ما هو البحر الشعري لهذا البيت؟ غافر الذَنب للمسيءِ بِعَفوٍ قابل التَوب ذي العَطاء العَميمِ',\n",
       "  'output': 'بحر الخفيف'},\n",
       " {'input': 'ما هو البحر الشعري لهذا البيت؟ مُرسل المُصطَفى البَشير إِلَينا رَحمة مِنهُ بِالكَلام القَديمِ',\n",
       "  'output': 'بحر الخفيف'},\n",
       " {'input': 'ما هو البحر الشعري لهذا البيت؟ رَبَنا رَبّنا إِلَيكَ أَنينا فَأَجرنا مِن حَر نار الجَحيمِ',\n",
       "  'output': 'بحر الخفيف'},\n",
       " {'input': 'ما هو البحر الشعري لهذا البيت؟ وَاكفِنا شَرّ ما نَخاف بِلُطفٍ يا عَظيماً يَرجى لِكُل عَظيمِ',\n",
       "  'output': 'بحر الخفيف'}]"
      ]
     },
     "execution_count": 27,
     "metadata": {},
     "output_type": "execute_result"
    }
   ],
   "source": [
    "json_data = [\n",
    "    {\"input\": \n",
    "    f\"ما هو البحر الشعري لهذا البيت؟ {row['single verses']}\",\n",
    "     \"output\": row['poem meter']}\n",
    "    for _, row in small_df.iterrows()\n",
    "]\n",
    "json_data"
   ]
  },
  {
   "cell_type": "code",
   "execution_count": 28,
   "metadata": {},
   "outputs": [
    {
     "name": "stdout",
     "output_type": "stream",
     "text": [
      "JSON file created successfully.\n"
     ]
    }
   ],
   "source": [
    "import json\n",
    "\n",
    "\n",
    "json_data = [\n",
    "    {\"input\": \n",
    "    f\"ما هو البحر الشعري لهذا البيت؟ {row['single verses']}\",\n",
    "     \"output\": row['poem meter']}\n",
    "    for _, row in small_df.iterrows()\n",
    "]\n",
    "\n",
    "# with open('train.json', 'w') as json_file:\n",
    "#     json.dump(json_data, json_file, indent=4)\n",
    "\n",
    "with open('train.json', 'w', encoding='utf-8') as json_file:\n",
    "    json.dump(json_data, json_file, ensure_ascii=False, indent=4)\n",
    "\n",
    "print(\"JSON file created successfully.\")\n"
   ]
  },
  {
   "cell_type": "markdown",
   "metadata": {},
   "source": [
    "# Data For Generation"
   ]
  },
  {
   "cell_type": "code",
   "execution_count": 29,
   "metadata": {},
   "outputs": [],
   "source": [
    "df_gen = ashaar['train'].to_pandas()"
   ]
  },
  {
   "cell_type": "code",
   "execution_count": 30,
   "metadata": {},
   "outputs": [],
   "source": [
    "df_gen = df_gen[['poem verses','poem meter']]"
   ]
  },
  {
   "cell_type": "code",
   "execution_count": 31,
   "metadata": {},
   "outputs": [
    {
     "data": {
      "text/html": [
       "<div>\n",
       "<style scoped>\n",
       "    .dataframe tbody tr th:only-of-type {\n",
       "        vertical-align: middle;\n",
       "    }\n",
       "\n",
       "    .dataframe tbody tr th {\n",
       "        vertical-align: top;\n",
       "    }\n",
       "\n",
       "    .dataframe thead th {\n",
       "        text-align: right;\n",
       "    }\n",
       "</style>\n",
       "<table border=\"1\" class=\"dataframe\">\n",
       "  <thead>\n",
       "    <tr style=\"text-align: right;\">\n",
       "      <th></th>\n",
       "      <th>poem verses</th>\n",
       "      <th>poem meter</th>\n",
       "    </tr>\n",
       "  </thead>\n",
       "  <tbody>\n",
       "    <tr>\n",
       "      <th>0</th>\n",
       "      <td>[أَصبَحَ المُلك لِلَّذي فَطر الخَل, قَ بِتَقدي...</td>\n",
       "      <td>بحر الخفيف</td>\n",
       "    </tr>\n",
       "    <tr>\n",
       "      <th>1</th>\n",
       "      <td>[مِن أَي مَولى اِرتَجي, وَلاي باب التَجي, وَال...</td>\n",
       "      <td>بحر مجزوء الرمل</td>\n",
       "    </tr>\n",
       "    <tr>\n",
       "      <th>2</th>\n",
       "      <td>[العَبد عَبدك يا مَن أَنتَ سَيدهُ, وَلَيسَ غَي...</td>\n",
       "      <td>بحر البسيط</td>\n",
       "    </tr>\n",
       "    <tr>\n",
       "      <th>3</th>\n",
       "      <td>[لَو كُنتَ أَطمَع بِالمَنام تَوهما, لَسالَت طَ...</td>\n",
       "      <td>بحر الكامل</td>\n",
       "    </tr>\n",
       "    <tr>\n",
       "      <th>4</th>\n",
       "      <td>[يعد عَليَّ أَنفاسي ذُنوباً, إِذا ما قُلت أَفد...</td>\n",
       "      <td>بحر الوافر</td>\n",
       "    </tr>\n",
       "  </tbody>\n",
       "</table>\n",
       "</div>"
      ],
      "text/plain": [
       "                                         poem verses       poem meter\n",
       "0  [أَصبَحَ المُلك لِلَّذي فَطر الخَل, قَ بِتَقدي...       بحر الخفيف\n",
       "1  [مِن أَي مَولى اِرتَجي, وَلاي باب التَجي, وَال...  بحر مجزوء الرمل\n",
       "2  [العَبد عَبدك يا مَن أَنتَ سَيدهُ, وَلَيسَ غَي...       بحر البسيط\n",
       "3  [لَو كُنتَ أَطمَع بِالمَنام تَوهما, لَسالَت طَ...       بحر الكامل\n",
       "4  [يعد عَليَّ أَنفاسي ذُنوباً, إِذا ما قُلت أَفد...       بحر الوافر"
      ]
     },
     "execution_count": 31,
     "metadata": {},
     "output_type": "execute_result"
    }
   ],
   "source": [
    "df_gen.head()"
   ]
  },
  {
   "cell_type": "code",
   "execution_count": 32,
   "metadata": {},
   "outputs": [
    {
     "data": {
      "text/plain": [
       "0    [أَصبَحَ المُلك لِلَّذي فَطر الخَل, قَ بِتَقدي...\n",
       "1    [مِن أَي مَولى اِرتَجي, وَلاي باب التَجي, وَال...\n",
       "2    [العَبد عَبدك يا مَن أَنتَ سَيدهُ, وَلَيسَ غَي...\n",
       "3    [لَو كُنتَ أَطمَع بِالمَنام تَوهما, لَسالَت طَ...\n",
       "4    [يعد عَليَّ أَنفاسي ذُنوباً, إِذا ما قُلت أَفد...\n",
       "Name: poem verses, dtype: object"
      ]
     },
     "execution_count": 32,
     "metadata": {},
     "output_type": "execute_result"
    }
   ],
   "source": [
    "df_gen = df_gen['poem verses']\n",
    "df_gen.head()"
   ]
  },
  {
   "cell_type": "code",
   "execution_count": 33,
   "metadata": {},
   "outputs": [
    {
     "data": {
      "text/plain": [
       "0    [أَصبَحَ المُلك لِلَّذي فَطر الخَل, قَ بِتَقدي...\n",
       "Name: poem verses, dtype: object"
      ]
     },
     "execution_count": 33,
     "metadata": {},
     "output_type": "execute_result"
    }
   ],
   "source": [
    "df_gen.head(1)"
   ]
  },
  {
   "cell_type": "code",
   "execution_count": 39,
   "metadata": {},
   "outputs": [],
   "source": [
    "df_gen = pd.DataFrame(df_gen, columns=['poem verses'])"
   ]
  },
  {
   "cell_type": "code",
   "execution_count": 41,
   "metadata": {},
   "outputs": [
    {
     "data": {
      "text/html": [
       "<div>\n",
       "<style scoped>\n",
       "    .dataframe tbody tr th:only-of-type {\n",
       "        vertical-align: middle;\n",
       "    }\n",
       "\n",
       "    .dataframe tbody tr th {\n",
       "        vertical-align: top;\n",
       "    }\n",
       "\n",
       "    .dataframe thead th {\n",
       "        text-align: right;\n",
       "    }\n",
       "</style>\n",
       "<table border=\"1\" class=\"dataframe\">\n",
       "  <thead>\n",
       "    <tr style=\"text-align: right;\">\n",
       "      <th></th>\n",
       "      <th>poem verses</th>\n",
       "      <th>first_two</th>\n",
       "      <th>others_joined</th>\n",
       "    </tr>\n",
       "  </thead>\n",
       "  <tbody>\n",
       "    <tr>\n",
       "      <th>0</th>\n",
       "      <td>[أَصبَحَ المُلك لِلَّذي فَطر الخَل, قَ بِتَقدي...</td>\n",
       "      <td>أَصبَحَ المُلك لِلَّذي فَطر الخَل قَ بِتَقديرٍ...</td>\n",
       "      <td>غافر الذَنب للمسيءِ بِعَفوٍ قابل التَوب ذي الع...</td>\n",
       "    </tr>\n",
       "    <tr>\n",
       "      <th>1</th>\n",
       "      <td>[مِن أَي مَولى اِرتَجي, وَلاي باب التَجي, وَال...</td>\n",
       "      <td>مِن أَي مَولى اِرتَجي وَلاي باب التَجي</td>\n",
       "      <td>وَاللَهُ حَيٌّ رازِقٌ يُعطي الجَزيل لمُرتَجي\\n...</td>\n",
       "    </tr>\n",
       "    <tr>\n",
       "      <th>2</th>\n",
       "      <td>[العَبد عَبدك يا مَن أَنتَ سَيدهُ, وَلَيسَ غَي...</td>\n",
       "      <td>العَبد عَبدك يا مَن أَنتَ سَيدهُ وَلَيسَ غَيرك...</td>\n",
       "      <td>أَنتَ الَّذي لِسَبيل الخَير تُرشِدُهُ مالي سَو...</td>\n",
       "    </tr>\n",
       "    <tr>\n",
       "      <th>3</th>\n",
       "      <td>[لَو كُنتَ أَطمَع بِالمَنام تَوهما, لَسالَت طَ...</td>\n",
       "      <td>لَو كُنتَ أَطمَع بِالمَنام تَوهما لَسالَت طَيف...</td>\n",
       "      <td>حاشا صُدودك أَن تَذم فَإِنَّها تَحلو لَدَيَّ و...</td>\n",
       "    </tr>\n",
       "    <tr>\n",
       "      <th>4</th>\n",
       "      <td>[يعد عَليَّ أَنفاسي ذُنوباً, إِذا ما قُلت أَفد...</td>\n",
       "      <td>يعد عَليَّ أَنفاسي ذُنوباً إِذا ما قُلت أَفديه...</td>\n",
       "      <td>وَأَبعد ما يَكون الود مِنهُ إِذا ما باتَ مِن أ...</td>\n",
       "    </tr>\n",
       "  </tbody>\n",
       "</table>\n",
       "</div>"
      ],
      "text/plain": [
       "                                         poem verses  \\\n",
       "0  [أَصبَحَ المُلك لِلَّذي فَطر الخَل, قَ بِتَقدي...   \n",
       "1  [مِن أَي مَولى اِرتَجي, وَلاي باب التَجي, وَال...   \n",
       "2  [العَبد عَبدك يا مَن أَنتَ سَيدهُ, وَلَيسَ غَي...   \n",
       "3  [لَو كُنتَ أَطمَع بِالمَنام تَوهما, لَسالَت طَ...   \n",
       "4  [يعد عَليَّ أَنفاسي ذُنوباً, إِذا ما قُلت أَفد...   \n",
       "\n",
       "                                           first_two  \\\n",
       "0  أَصبَحَ المُلك لِلَّذي فَطر الخَل قَ بِتَقديرٍ...   \n",
       "1             مِن أَي مَولى اِرتَجي وَلاي باب التَجي   \n",
       "2  العَبد عَبدك يا مَن أَنتَ سَيدهُ وَلَيسَ غَيرك...   \n",
       "3  لَو كُنتَ أَطمَع بِالمَنام تَوهما لَسالَت طَيف...   \n",
       "4  يعد عَليَّ أَنفاسي ذُنوباً إِذا ما قُلت أَفديه...   \n",
       "\n",
       "                                       others_joined  \n",
       "0  غافر الذَنب للمسيءِ بِعَفوٍ قابل التَوب ذي الع...  \n",
       "1  وَاللَهُ حَيٌّ رازِقٌ يُعطي الجَزيل لمُرتَجي\\n...  \n",
       "2  أَنتَ الَّذي لِسَبيل الخَير تُرشِدُهُ مالي سَو...  \n",
       "3  حاشا صُدودك أَن تَذم فَإِنَّها تَحلو لَدَيَّ و...  \n",
       "4  وَأَبعد ما يَكون الود مِنهُ إِذا ما باتَ مِن أ...  "
      ]
     },
     "execution_count": 41,
     "metadata": {},
     "output_type": "execute_result"
    }
   ],
   "source": [
    "def split_poem(poem):\n",
    "\n",
    "    first = ' '.join(poem[:2])\n",
    "    \n",
    "    rest = '\\n'.join([' '.join(poem[i:i+2]) for i in range(2, len(poem), 2)])\n",
    "    \n",
    "    return pd.Series([first, rest])\n",
    "\n",
    "\n",
    "df_gen[['first_two', 'others_joined']] = df_gen['poem verses'].apply(split_poem)\n",
    "\n",
    "df_gen.head()"
   ]
  },
  {
   "cell_type": "code",
   "execution_count": 45,
   "metadata": {},
   "outputs": [
    {
     "data": {
      "text/plain": [
       "poem verses      [أَصبَحَ المُلك لِلَّذي فَطر الخَل, قَ بِتَقدي...\n",
       "first_two        أَصبَحَ المُلك لِلَّذي فَطر الخَل قَ بِتَقديرٍ...\n",
       "others_joined    غافر الذَنب للمسيءِ بِعَفوٍ قابل التَوب ذي الع...\n",
       "Name: 0, dtype: object"
      ]
     },
     "execution_count": 45,
     "metadata": {},
     "output_type": "execute_result"
    }
   ],
   "source": [
    "df_gen.loc[0]"
   ]
  },
  {
   "cell_type": "code",
   "execution_count": null,
   "metadata": {},
   "outputs": [
    {
     "name": "stdout",
     "output_type": "stream",
     "text": [
      "poem verses      [مِن أَي مَولى اِرتَجي, وَلاي باب التَجي, وَاللَهُ حَيٌّ رازِقٌ, يُعطي الجَزيل لمُرتَجي, رَب جَواد لَم يَزَل, مِن كُل ضيقٍ مَخرَجي, إِن رُحت أَرجوغَيرَهُ, خابَ الرواح مَع المَجي, يا عَيس آمالي أَقصدي, باب الكَريم وَعَرجي, وَضَعي رِحالك وَاِرتَعي, فَالأُم حَمل المُزعجِ, وَتَوسَلي بِمُحمدٍ, وَبِآلهِ كَي تَنتجي, الهاشمي المُصطَفى, صج الهُدى المُتَبَلِجِ, وَبِشَيبة الصَديق صا, حب كل فَضل أَبهَجِ, وَالسَيد الفاروق مِن, بِسِوى الهُدى لَم يَلهجِ, وَبصنوه عُثمان ذي الن, نورَين أَقوم مَنهَجِ, وَعَليٍّ الكرّار فا, تح كُل باب مُرتجِ, وَبَقية الصَحب الكِرا, م أَولي الثَنا المُتَأرجِ, هُم أَبحر الفَضل الَّذي, نَ بِغَيرِهُم لَم تُفرجِ, وَكَذا السَفينة إِن نَجَت, فَجَميع مَن فيها نَجي]\n",
      "first_two                                                                                                                                                                                                                                                                                                                                                                                                                                                                                                                                                                                                                                                                         مِن أَي مَولى اِرتَجي وَلاي باب التَجي\n",
      "others_joined                                                             وَاللَهُ حَيٌّ رازِقٌ يُعطي الجَزيل لمُرتَجي\\nرَب جَواد لَم يَزَل مِن كُل ضيقٍ مَخرَجي\\nإِن رُحت أَرجوغَيرَهُ خابَ الرواح مَع المَجي\\nيا عَيس آمالي أَقصدي باب الكَريم وَعَرجي\\nوَضَعي رِحالك وَاِرتَعي فَالأُم حَمل المُزعجِ\\nوَتَوسَلي بِمُحمدٍ وَبِآلهِ كَي تَنتجي\\nالهاشمي المُصطَفى صج الهُدى المُتَبَلِجِ\\nوَبِشَيبة الصَديق صا حب كل فَضل أَبهَجِ\\nوَالسَيد الفاروق مِن بِسِوى الهُدى لَم يَلهجِ\\nوَبصنوه عُثمان ذي الن نورَين أَقوم مَنهَجِ\\nوَعَليٍّ الكرّار فا تح كُل باب مُرتجِ\\nوَبَقية الصَحب الكِرا م أَولي الثَنا المُتَأرجِ\\nهُم أَبحر الفَضل الَّذي نَ بِغَيرِهُم لَم تُفرجِ\\nوَكَذا السَفينة إِن نَجَت فَجَميع مَن فيها نَجي\n",
      "Name: 1, dtype: object\n"
     ]
    }
   ],
   "source": [
    "with pd.option_context('display.max_colwidth', None):\n",
    "    print(df_gen.iloc[1]) \n"
   ]
  },
  {
   "cell_type": "code",
   "execution_count": 49,
   "metadata": {},
   "outputs": [],
   "source": [
    "small_gen = df_gen.head()"
   ]
  },
  {
   "cell_type": "code",
   "execution_count": 51,
   "metadata": {},
   "outputs": [
    {
     "name": "stdout",
     "output_type": "stream",
     "text": [
      "JSON file created successfully.\n"
     ]
    }
   ],
   "source": [
    "\n",
    "json_data = [\n",
    "    {\"input\": \n",
    "    f\"اكتب أبياتًا بعد هذا البيت: {row['first_two']}\",\n",
    "     \"output\": row['others_joined']}\n",
    "    for _, row in small_gen.iterrows()\n",
    "]\n",
    "\n",
    "\n",
    "with open('train_gen.json', 'w', encoding='utf-8') as json_file:\n",
    "    json.dump(json_data, json_file, ensure_ascii=False, indent=4)\n",
    "\n",
    "print(\"JSON file created successfully.\")"
   ]
  }
 ],
 "metadata": {
  "kernelspec": {
   "display_name": "Python 3",
   "language": "python",
   "name": "python3"
  },
  "language_info": {
   "codemirror_mode": {
    "name": "ipython",
    "version": 3
   },
   "file_extension": ".py",
   "mimetype": "text/x-python",
   "name": "python",
   "nbconvert_exporter": "python",
   "pygments_lexer": "ipython3",
   "version": "3.11.5"
  }
 },
 "nbformat": 4,
 "nbformat_minor": 2
}
