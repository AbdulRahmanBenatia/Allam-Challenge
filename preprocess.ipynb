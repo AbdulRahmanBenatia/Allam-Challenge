{
 "cells": [
  {
   "cell_type": "code",
   "execution_count": 1,
   "metadata": {},
   "outputs": [],
   "source": [
    "import pandas as pd\n",
    "import matplotlib.pyplot as plt\n",
    "import seaborn as sns\n",
    "import re\n",
    "import random"
   ]
  },
  {
   "cell_type": "code",
   "execution_count": 2,
   "metadata": {},
   "outputs": [],
   "source": [
    "khalil_meters = ['الطويل', 'المديد', 'البسيط', 'الكامل', 'الوافر', 'الهزج', 'الرجز', 'الرمل', 'السريع', 'المنسرح', 'المضارع', \"الخفيف\" ,'المقتضب', 'المجتث', 'المتقارب', 'الخبب']"
   ]
  },
  {
   "cell_type": "code",
   "execution_count": 3,
   "metadata": {},
   "outputs": [],
   "source": [
    "from utils import reshape_text"
   ]
  },
  {
   "cell_type": "code",
   "execution_count": 4,
   "metadata": {},
   "outputs": [],
   "source": [
    "from datasets import load_dataset\n",
    "\n",
    "ashaar = load_dataset(\"arbml/ashaar\")"
   ]
  },
  {
   "cell_type": "code",
   "execution_count": 5,
   "metadata": {},
   "outputs": [
    {
     "name": "stdout",
     "output_type": "stream",
     "text": [
      "dict_keys(['train'])\n"
     ]
    }
   ],
   "source": [
    "print(ashaar.keys())"
   ]
  },
  {
   "cell_type": "code",
   "execution_count": 6,
   "metadata": {},
   "outputs": [
    {
     "data": {
      "text/html": [
       "<div>\n",
       "<style scoped>\n",
       "    .dataframe tbody tr th:only-of-type {\n",
       "        vertical-align: middle;\n",
       "    }\n",
       "\n",
       "    .dataframe tbody tr th {\n",
       "        vertical-align: top;\n",
       "    }\n",
       "\n",
       "    .dataframe thead th {\n",
       "        text-align: right;\n",
       "    }\n",
       "</style>\n",
       "<table border=\"1\" class=\"dataframe\">\n",
       "  <thead>\n",
       "    <tr style=\"text-align: right;\">\n",
       "      <th></th>\n",
       "      <th>poem title</th>\n",
       "      <th>poem meter</th>\n",
       "      <th>poem verses</th>\n",
       "      <th>poem theme</th>\n",
       "      <th>poem url</th>\n",
       "      <th>poet name</th>\n",
       "      <th>poet description</th>\n",
       "      <th>poet url</th>\n",
       "      <th>poet era</th>\n",
       "      <th>poet location</th>\n",
       "      <th>poem description</th>\n",
       "      <th>poem language type</th>\n",
       "    </tr>\n",
       "  </thead>\n",
       "  <tbody>\n",
       "    <tr>\n",
       "      <th>0</th>\n",
       "      <td>أصبح الملك للذي فطر الخلق</td>\n",
       "      <td>بحر الخفيف</td>\n",
       "      <td>[أَصبَحَ المُلك لِلَّذي فَطر الخَل, قَ بِتَقدي...</td>\n",
       "      <td>قصيدة دينية</td>\n",
       "      <td>https://www.aldiwan.net/poem16182.html</td>\n",
       "      <td>الامير منجك باشا</td>\n",
       "      <td>منجك بن محمد بن منجك بن ابي بكر بن عبد القادر ...</td>\n",
       "      <td>https://www.aldiwan.net/cat-poet-alamir-mnczyk...</td>\n",
       "      <td>العصر العثماني</td>\n",
       "      <td>None</td>\n",
       "      <td>None</td>\n",
       "      <td>None</td>\n",
       "    </tr>\n",
       "    <tr>\n",
       "      <th>1</th>\n",
       "      <td>من أي مولى ارتجي</td>\n",
       "      <td>بحر مجزوء الرمل</td>\n",
       "      <td>[مِن أَي مَولى اِرتَجي, وَلاي باب التَجي, وَال...</td>\n",
       "      <td>قصيدة دينية</td>\n",
       "      <td>https://www.aldiwan.net/poem16183.html</td>\n",
       "      <td>الامير منجك باشا</td>\n",
       "      <td>منجك بن محمد بن منجك بن ابي بكر بن عبد القادر ...</td>\n",
       "      <td>https://www.aldiwan.net/cat-poet-alamir-mnczyk...</td>\n",
       "      <td>العصر العثماني</td>\n",
       "      <td>None</td>\n",
       "      <td>None</td>\n",
       "      <td>None</td>\n",
       "    </tr>\n",
       "    <tr>\n",
       "      <th>2</th>\n",
       "      <td>العبد عبدك يا من أنت سيده</td>\n",
       "      <td>بحر البسيط</td>\n",
       "      <td>[العَبد عَبدك يا مَن أَنتَ سَيدهُ, وَلَيسَ غَي...</td>\n",
       "      <td>قصيدة ذم</td>\n",
       "      <td>https://www.aldiwan.net/poem16184.html</td>\n",
       "      <td>الامير منجك باشا</td>\n",
       "      <td>منجك بن محمد بن منجك بن ابي بكر بن عبد القادر ...</td>\n",
       "      <td>https://www.aldiwan.net/cat-poet-alamir-mnczyk...</td>\n",
       "      <td>العصر العثماني</td>\n",
       "      <td>None</td>\n",
       "      <td>None</td>\n",
       "      <td>None</td>\n",
       "    </tr>\n",
       "    <tr>\n",
       "      <th>3</th>\n",
       "      <td>لو كنت أطمع بالمنام توهما</td>\n",
       "      <td>بحر الكامل</td>\n",
       "      <td>[لَو كُنتَ أَطمَع بِالمَنام تَوهما, لَسالَت طَ...</td>\n",
       "      <td>قصيدة عامه</td>\n",
       "      <td>https://www.aldiwan.net/poem16185.html</td>\n",
       "      <td>الامير منجك باشا</td>\n",
       "      <td>منجك بن محمد بن منجك بن ابي بكر بن عبد القادر ...</td>\n",
       "      <td>https://www.aldiwan.net/cat-poet-alamir-mnczyk...</td>\n",
       "      <td>العصر العثماني</td>\n",
       "      <td>None</td>\n",
       "      <td>None</td>\n",
       "      <td>None</td>\n",
       "    </tr>\n",
       "    <tr>\n",
       "      <th>4</th>\n",
       "      <td>يعد علي أنفاسي ذنوبا</td>\n",
       "      <td>بحر الوافر</td>\n",
       "      <td>[يعد عَليَّ أَنفاسي ذُنوباً, إِذا ما قُلت أَفد...</td>\n",
       "      <td>قصيدة عامه</td>\n",
       "      <td>https://www.aldiwan.net/poem16186.html</td>\n",
       "      <td>الامير منجك باشا</td>\n",
       "      <td>منجك بن محمد بن منجك بن ابي بكر بن عبد القادر ...</td>\n",
       "      <td>https://www.aldiwan.net/cat-poet-alamir-mnczyk...</td>\n",
       "      <td>العصر العثماني</td>\n",
       "      <td>None</td>\n",
       "      <td>None</td>\n",
       "      <td>None</td>\n",
       "    </tr>\n",
       "  </tbody>\n",
       "</table>\n",
       "</div>"
      ],
      "text/plain": [
       "                  poem title       poem meter  \\\n",
       "0  أصبح الملك للذي فطر الخلق       بحر الخفيف   \n",
       "1           من أي مولى ارتجي  بحر مجزوء الرمل   \n",
       "2  العبد عبدك يا من أنت سيده       بحر البسيط   \n",
       "3  لو كنت أطمع بالمنام توهما       بحر الكامل   \n",
       "4       يعد علي أنفاسي ذنوبا       بحر الوافر   \n",
       "\n",
       "                                         poem verses   poem theme  \\\n",
       "0  [أَصبَحَ المُلك لِلَّذي فَطر الخَل, قَ بِتَقدي...  قصيدة دينية   \n",
       "1  [مِن أَي مَولى اِرتَجي, وَلاي باب التَجي, وَال...  قصيدة دينية   \n",
       "2  [العَبد عَبدك يا مَن أَنتَ سَيدهُ, وَلَيسَ غَي...     قصيدة ذم   \n",
       "3  [لَو كُنتَ أَطمَع بِالمَنام تَوهما, لَسالَت طَ...   قصيدة عامه   \n",
       "4  [يعد عَليَّ أَنفاسي ذُنوباً, إِذا ما قُلت أَفد...   قصيدة عامه   \n",
       "\n",
       "                                 poem url         poet name  \\\n",
       "0  https://www.aldiwan.net/poem16182.html  الامير منجك باشا   \n",
       "1  https://www.aldiwan.net/poem16183.html  الامير منجك باشا   \n",
       "2  https://www.aldiwan.net/poem16184.html  الامير منجك باشا   \n",
       "3  https://www.aldiwan.net/poem16185.html  الامير منجك باشا   \n",
       "4  https://www.aldiwan.net/poem16186.html  الامير منجك باشا   \n",
       "\n",
       "                                    poet description  \\\n",
       "0  منجك بن محمد بن منجك بن ابي بكر بن عبد القادر ...   \n",
       "1  منجك بن محمد بن منجك بن ابي بكر بن عبد القادر ...   \n",
       "2  منجك بن محمد بن منجك بن ابي بكر بن عبد القادر ...   \n",
       "3  منجك بن محمد بن منجك بن ابي بكر بن عبد القادر ...   \n",
       "4  منجك بن محمد بن منجك بن ابي بكر بن عبد القادر ...   \n",
       "\n",
       "                                            poet url        poet era  \\\n",
       "0  https://www.aldiwan.net/cat-poet-alamir-mnczyk...  العصر العثماني   \n",
       "1  https://www.aldiwan.net/cat-poet-alamir-mnczyk...  العصر العثماني   \n",
       "2  https://www.aldiwan.net/cat-poet-alamir-mnczyk...  العصر العثماني   \n",
       "3  https://www.aldiwan.net/cat-poet-alamir-mnczyk...  العصر العثماني   \n",
       "4  https://www.aldiwan.net/cat-poet-alamir-mnczyk...  العصر العثماني   \n",
       "\n",
       "  poet location poem description poem language type  \n",
       "0          None             None               None  \n",
       "1          None             None               None  \n",
       "2          None             None               None  \n",
       "3          None             None               None  \n",
       "4          None             None               None  "
      ]
     },
     "execution_count": 6,
     "metadata": {},
     "output_type": "execute_result"
    }
   ],
   "source": [
    "df_ashaar = ashaar['train'].to_pandas()\n",
    "df_ashaar.head()"
   ]
  },
  {
   "cell_type": "code",
   "execution_count": 7,
   "metadata": {},
   "outputs": [
    {
     "data": {
      "text/plain": [
       "<bound method DataFrame.info of                        poem title       poem meter  \\\n",
       "0       أصبح الملك للذي فطر الخلق       بحر الخفيف   \n",
       "1                من أي مولى ارتجي  بحر مجزوء الرمل   \n",
       "2       العبد عبدك يا من أنت سيده       بحر البسيط   \n",
       "3       لو كنت أطمع بالمنام توهما       بحر الكامل   \n",
       "4            يعد علي أنفاسي ذنوبا       بحر الوافر   \n",
       "...                           ...              ...   \n",
       "254625                       None          المضارع   \n",
       "254626                       None          المضارع   \n",
       "254627                       None          المضارع   \n",
       "254628                       None          المضارع   \n",
       "254629                       None          المضارع   \n",
       "\n",
       "                                              poem verses   poem theme  \\\n",
       "0       [أَصبَحَ المُلك لِلَّذي فَطر الخَل, قَ بِتَقدي...  قصيدة دينية   \n",
       "1       [مِن أَي مَولى اِرتَجي, وَلاي باب التَجي, وَال...  قصيدة دينية   \n",
       "2       [العَبد عَبدك يا مَن أَنتَ سَيدهُ, وَلَيسَ غَي...     قصيدة ذم   \n",
       "3       [لَو كُنتَ أَطمَع بِالمَنام تَوهما, لَسالَت طَ...   قصيدة عامه   \n",
       "4       [يعد عَليَّ أَنفاسي ذُنوباً, إِذا ما قُلت أَفد...   قصيدة عامه   \n",
       "...                                                   ...          ...   \n",
       "254625                [وعندنا ليس محض, إلى الشرق أن تولي]         None   \n",
       "254626                  [من الليالي نهار, ومن عتمها ضياء]         None   \n",
       "254627                 [مقامه إذ تجلى, وفي البيد إذ تحلى]         None   \n",
       "254628  [على بابك انتظرنا, وفي البال ألف حيلة, من الوص...         None   \n",
       "254629  [خذ الصفر لا تبالي, فللصفر للرجال, وليس في ذاك...         None   \n",
       "\n",
       "                                      poem url           poet name  \\\n",
       "0       https://www.aldiwan.net/poem16182.html    الامير منجك باشا   \n",
       "1       https://www.aldiwan.net/poem16183.html    الامير منجك باشا   \n",
       "2       https://www.aldiwan.net/poem16184.html    الامير منجك باشا   \n",
       "3       https://www.aldiwan.net/poem16185.html    الامير منجك باشا   \n",
       "4       https://www.aldiwan.net/poem16186.html    الامير منجك باشا   \n",
       "...                                        ...                 ...   \n",
       "254625                                    None  dataset collectors   \n",
       "254626                                    None  dataset collectors   \n",
       "254627                                    None  dataset collectors   \n",
       "254628                                    None  dataset collectors   \n",
       "254629                                    None  dataset collectors   \n",
       "\n",
       "                                         poet description  \\\n",
       "0       منجك بن محمد بن منجك بن ابي بكر بن عبد القادر ...   \n",
       "1       منجك بن محمد بن منجك بن ابي بكر بن عبد القادر ...   \n",
       "2       منجك بن محمد بن منجك بن ابي بكر بن عبد القادر ...   \n",
       "3       منجك بن محمد بن منجك بن ابي بكر بن عبد القادر ...   \n",
       "4       منجك بن محمد بن منجك بن ابي بكر بن عبد القادر ...   \n",
       "...                                                   ...   \n",
       "254625                                               None   \n",
       "254626                                               None   \n",
       "254627                                               None   \n",
       "254628                                               None   \n",
       "254629                                               None   \n",
       "\n",
       "                                                 poet url        poet era  \\\n",
       "0       https://www.aldiwan.net/cat-poet-alamir-mnczyk...  العصر العثماني   \n",
       "1       https://www.aldiwan.net/cat-poet-alamir-mnczyk...  العصر العثماني   \n",
       "2       https://www.aldiwan.net/cat-poet-alamir-mnczyk...  العصر العثماني   \n",
       "3       https://www.aldiwan.net/cat-poet-alamir-mnczyk...  العصر العثماني   \n",
       "4       https://www.aldiwan.net/cat-poet-alamir-mnczyk...  العصر العثماني   \n",
       "...                                                   ...             ...   \n",
       "254625                                               None            None   \n",
       "254626                                               None            None   \n",
       "254627                                               None            None   \n",
       "254628                                               None            None   \n",
       "254629                                               None            None   \n",
       "\n",
       "       poet location poem description poem language type  \n",
       "0               None             None               None  \n",
       "1               None             None               None  \n",
       "2               None             None               None  \n",
       "3               None             None               None  \n",
       "4               None             None               None  \n",
       "...              ...              ...                ...  \n",
       "254625          None             None               فصيح  \n",
       "254626          None             None               فصيح  \n",
       "254627          None             None               فصيح  \n",
       "254628          None             None               فصيح  \n",
       "254629          None             None               فصيح  \n",
       "\n",
       "[254630 rows x 12 columns]>"
      ]
     },
     "execution_count": 7,
     "metadata": {},
     "output_type": "execute_result"
    }
   ],
   "source": [
    "df_ashaar.info"
   ]
  },
  {
   "cell_type": "code",
   "execution_count": 8,
   "metadata": {},
   "outputs": [],
   "source": [
    "df_ashaar = df_ashaar[['poem verses','poem meter']]"
   ]
  },
  {
   "cell_type": "markdown",
   "metadata": {},
   "source": [
    "### EXAMPLES FOR METERS"
   ]
  },
  {
   "cell_type": "code",
   "execution_count": 9,
   "metadata": {},
   "outputs": [],
   "source": [
    "import json"
   ]
  },
  {
   "cell_type": "code",
   "execution_count": 10,
   "metadata": {},
   "outputs": [
    {
     "data": {
      "text/html": [
       "<div>\n",
       "<style scoped>\n",
       "    .dataframe tbody tr th:only-of-type {\n",
       "        vertical-align: middle;\n",
       "    }\n",
       "\n",
       "    .dataframe tbody tr th {\n",
       "        vertical-align: top;\n",
       "    }\n",
       "\n",
       "    .dataframe thead th {\n",
       "        text-align: right;\n",
       "    }\n",
       "</style>\n",
       "<table border=\"1\" class=\"dataframe\">\n",
       "  <thead>\n",
       "    <tr style=\"text-align: right;\">\n",
       "      <th></th>\n",
       "      <th>poem verses</th>\n",
       "      <th>poem meter</th>\n",
       "    </tr>\n",
       "  </thead>\n",
       "  <tbody>\n",
       "    <tr>\n",
       "      <th>0</th>\n",
       "      <td>[أَصبَحَ المُلك لِلَّذي فَطر الخَل, قَ بِتَقدي...</td>\n",
       "      <td>بحر الخفيف</td>\n",
       "    </tr>\n",
       "    <tr>\n",
       "      <th>1</th>\n",
       "      <td>[مِن أَي مَولى اِرتَجي, وَلاي باب التَجي, وَال...</td>\n",
       "      <td>بحر مجزوء الرمل</td>\n",
       "    </tr>\n",
       "    <tr>\n",
       "      <th>2</th>\n",
       "      <td>[العَبد عَبدك يا مَن أَنتَ سَيدهُ, وَلَيسَ غَي...</td>\n",
       "      <td>بحر البسيط</td>\n",
       "    </tr>\n",
       "    <tr>\n",
       "      <th>3</th>\n",
       "      <td>[لَو كُنتَ أَطمَع بِالمَنام تَوهما, لَسالَت طَ...</td>\n",
       "      <td>بحر الكامل</td>\n",
       "    </tr>\n",
       "    <tr>\n",
       "      <th>4</th>\n",
       "      <td>[يعد عَليَّ أَنفاسي ذُنوباً, إِذا ما قُلت أَفد...</td>\n",
       "      <td>بحر الوافر</td>\n",
       "    </tr>\n",
       "  </tbody>\n",
       "</table>\n",
       "</div>"
      ],
      "text/plain": [
       "                                         poem verses       poem meter\n",
       "0  [أَصبَحَ المُلك لِلَّذي فَطر الخَل, قَ بِتَقدي...       بحر الخفيف\n",
       "1  [مِن أَي مَولى اِرتَجي, وَلاي باب التَجي, وَال...  بحر مجزوء الرمل\n",
       "2  [العَبد عَبدك يا مَن أَنتَ سَيدهُ, وَلَيسَ غَي...       بحر البسيط\n",
       "3  [لَو كُنتَ أَطمَع بِالمَنام تَوهما, لَسالَت طَ...       بحر الكامل\n",
       "4  [يعد عَليَّ أَنفاسي ذُنوباً, إِذا ما قُلت أَفد...       بحر الوافر"
      ]
     },
     "execution_count": 10,
     "metadata": {},
     "output_type": "execute_result"
    }
   ],
   "source": [
    "df_ashaar.head()"
   ]
  },
  {
   "cell_type": "code",
   "execution_count": 11,
   "metadata": {},
   "outputs": [
    {
     "name": "stdout",
     "output_type": "stream",
     "text": [
      "<class 'pandas.core.frame.DataFrame'>\n",
      "RangeIndex: 254630 entries, 0 to 254629\n",
      "Data columns (total 2 columns):\n",
      " #   Column       Non-Null Count   Dtype \n",
      "---  ------       --------------   ----- \n",
      " 0   poem verses  254630 non-null  object\n",
      " 1   poem meter   153353 non-null  object\n",
      "dtypes: object(2)\n",
      "memory usage: 3.9+ MB\n"
     ]
    }
   ],
   "source": [
    "df_ashaar.info()"
   ]
  },
  {
   "cell_type": "code",
   "execution_count": 12,
   "metadata": {},
   "outputs": [
    {
     "data": {
      "text/plain": [
       "['أَصبَحَ المُلك لِلَّذي فَطر الخَل قَ بِتَقديرٍ للعَزيز العَليمِ',\n",
       " 'غافر الذَنب للمسيءِ بِعَفوٍ قابل التَوب ذي العَطاء العَميمِ',\n",
       " 'مُرسل المُصطَفى البَشير إِلَينا رَحمة مِنهُ بِالكَلام القَديمِ',\n",
       " 'رَبَنا رَبّنا إِلَيكَ أَنينا فَأَجرنا مِن حَر نار الجَحيمِ',\n",
       " 'وَاكفِنا شَرّ ما نَخاف بِلُطفٍ يا عَظيماً يَرجى لِكُل عَظيمِ',\n",
       " 'وَتَقبل أَعمالَنا وَاعفُ عَنا وَأَنلنا دُخول دار النَعيمِ',\n",
       " 'بِنَبي بَعثَتهُ فَهَدانا لِصِراط مِن الهُدى مُستَقيمِ',\n",
       " 'وَبِمَن نَحنُ في حِماهُ مَدى الدَهر أَخيهِ يَحيى الحصور الكَريمِ',\n",
       " 'أَدرك أَدرك قَوماً أَتوا بافتقار وَاِنكِسار وَمَدمَع مَسجومِ',\n",
       " 'شَهدت أَرواحَهُم أَنكَ اللَهُ وَجاءوا بِكُل قَلبٍ سَليم']"
      ]
     },
     "execution_count": 12,
     "metadata": {},
     "output_type": "execute_result"
    }
   ],
   "source": [
    "def poem_to_verses(poem):\n",
    "    return [' '.join(poem[i:i+2]) for i in range(0,len(poem),2)]\n",
    "\n",
    "p=  df_ashaar.head(1)\n",
    "p.head()\n",
    "poem_to_verses(p['poem verses'].to_list()[0])\n",
    "# p['poem verses'].to_list()[0]"
   ]
  },
  {
   "cell_type": "code",
   "execution_count": 13,
   "metadata": {},
   "outputs": [
    {
     "name": "stderr",
     "output_type": "stream",
     "text": [
      "C:\\Users\\abdul\\AppData\\Local\\Temp\\ipykernel_4884\\2729166800.py:1: SettingWithCopyWarning: \n",
      "A value is trying to be set on a copy of a slice from a DataFrame.\n",
      "Try using .loc[row_indexer,col_indexer] = value instead\n",
      "\n",
      "See the caveats in the documentation: https://pandas.pydata.org/pandas-docs/stable/user_guide/indexing.html#returning-a-view-versus-a-copy\n",
      "  df_ashaar['single verses'] = df_ashaar['poem verses'].apply(poem_to_verses)\n"
     ]
    }
   ],
   "source": [
    "df_ashaar['single verses'] = df_ashaar['poem verses'].apply(poem_to_verses)"
   ]
  },
  {
   "cell_type": "code",
   "execution_count": 14,
   "metadata": {},
   "outputs": [],
   "source": [
    "df_ashaar = df_ashaar.explode('single verses')"
   ]
  },
  {
   "cell_type": "code",
   "execution_count": 15,
   "metadata": {},
   "outputs": [
    {
     "data": {
      "text/html": [
       "<div>\n",
       "<style scoped>\n",
       "    .dataframe tbody tr th:only-of-type {\n",
       "        vertical-align: middle;\n",
       "    }\n",
       "\n",
       "    .dataframe tbody tr th {\n",
       "        vertical-align: top;\n",
       "    }\n",
       "\n",
       "    .dataframe thead th {\n",
       "        text-align: right;\n",
       "    }\n",
       "</style>\n",
       "<table border=\"1\" class=\"dataframe\">\n",
       "  <thead>\n",
       "    <tr style=\"text-align: right;\">\n",
       "      <th></th>\n",
       "      <th>poem verses</th>\n",
       "      <th>poem meter</th>\n",
       "      <th>single verses</th>\n",
       "    </tr>\n",
       "  </thead>\n",
       "  <tbody>\n",
       "    <tr>\n",
       "      <th>0</th>\n",
       "      <td>[أَصبَحَ المُلك لِلَّذي فَطر الخَل, قَ بِتَقدي...</td>\n",
       "      <td>بحر الخفيف</td>\n",
       "      <td>أَصبَحَ المُلك لِلَّذي فَطر الخَل قَ بِتَقديرٍ...</td>\n",
       "    </tr>\n",
       "    <tr>\n",
       "      <th>0</th>\n",
       "      <td>[أَصبَحَ المُلك لِلَّذي فَطر الخَل, قَ بِتَقدي...</td>\n",
       "      <td>بحر الخفيف</td>\n",
       "      <td>غافر الذَنب للمسيءِ بِعَفوٍ قابل التَوب ذي الع...</td>\n",
       "    </tr>\n",
       "    <tr>\n",
       "      <th>0</th>\n",
       "      <td>[أَصبَحَ المُلك لِلَّذي فَطر الخَل, قَ بِتَقدي...</td>\n",
       "      <td>بحر الخفيف</td>\n",
       "      <td>مُرسل المُصطَفى البَشير إِلَينا رَحمة مِنهُ بِ...</td>\n",
       "    </tr>\n",
       "    <tr>\n",
       "      <th>0</th>\n",
       "      <td>[أَصبَحَ المُلك لِلَّذي فَطر الخَل, قَ بِتَقدي...</td>\n",
       "      <td>بحر الخفيف</td>\n",
       "      <td>رَبَنا رَبّنا إِلَيكَ أَنينا فَأَجرنا مِن حَر ...</td>\n",
       "    </tr>\n",
       "    <tr>\n",
       "      <th>0</th>\n",
       "      <td>[أَصبَحَ المُلك لِلَّذي فَطر الخَل, قَ بِتَقدي...</td>\n",
       "      <td>بحر الخفيف</td>\n",
       "      <td>وَاكفِنا شَرّ ما نَخاف بِلُطفٍ يا عَظيماً يَرج...</td>\n",
       "    </tr>\n",
       "  </tbody>\n",
       "</table>\n",
       "</div>"
      ],
      "text/plain": [
       "                                         poem verses  poem meter  \\\n",
       "0  [أَصبَحَ المُلك لِلَّذي فَطر الخَل, قَ بِتَقدي...  بحر الخفيف   \n",
       "0  [أَصبَحَ المُلك لِلَّذي فَطر الخَل, قَ بِتَقدي...  بحر الخفيف   \n",
       "0  [أَصبَحَ المُلك لِلَّذي فَطر الخَل, قَ بِتَقدي...  بحر الخفيف   \n",
       "0  [أَصبَحَ المُلك لِلَّذي فَطر الخَل, قَ بِتَقدي...  بحر الخفيف   \n",
       "0  [أَصبَحَ المُلك لِلَّذي فَطر الخَل, قَ بِتَقدي...  بحر الخفيف   \n",
       "\n",
       "                                       single verses  \n",
       "0  أَصبَحَ المُلك لِلَّذي فَطر الخَل قَ بِتَقديرٍ...  \n",
       "0  غافر الذَنب للمسيءِ بِعَفوٍ قابل التَوب ذي الع...  \n",
       "0  مُرسل المُصطَفى البَشير إِلَينا رَحمة مِنهُ بِ...  \n",
       "0  رَبَنا رَبّنا إِلَيكَ أَنينا فَأَجرنا مِن حَر ...  \n",
       "0  وَاكفِنا شَرّ ما نَخاف بِلُطفٍ يا عَظيماً يَرج...  "
      ]
     },
     "execution_count": 15,
     "metadata": {},
     "output_type": "execute_result"
    }
   ],
   "source": [
    "df_ashaar.head()"
   ]
  },
  {
   "cell_type": "code",
   "execution_count": 16,
   "metadata": {},
   "outputs": [],
   "source": [
    "df_ashaar = df_ashaar[['single verses','poem meter']]"
   ]
  },
  {
   "cell_type": "code",
   "execution_count": 17,
   "metadata": {},
   "outputs": [
    {
     "data": {
      "text/html": [
       "<div>\n",
       "<style scoped>\n",
       "    .dataframe tbody tr th:only-of-type {\n",
       "        vertical-align: middle;\n",
       "    }\n",
       "\n",
       "    .dataframe tbody tr th {\n",
       "        vertical-align: top;\n",
       "    }\n",
       "\n",
       "    .dataframe thead th {\n",
       "        text-align: right;\n",
       "    }\n",
       "</style>\n",
       "<table border=\"1\" class=\"dataframe\">\n",
       "  <thead>\n",
       "    <tr style=\"text-align: right;\">\n",
       "      <th></th>\n",
       "      <th>single verses</th>\n",
       "      <th>poem meter</th>\n",
       "    </tr>\n",
       "  </thead>\n",
       "  <tbody>\n",
       "    <tr>\n",
       "      <th>0</th>\n",
       "      <td>أَصبَحَ المُلك لِلَّذي فَطر الخَل قَ بِتَقديرٍ...</td>\n",
       "      <td>بحر الخفيف</td>\n",
       "    </tr>\n",
       "    <tr>\n",
       "      <th>0</th>\n",
       "      <td>غافر الذَنب للمسيءِ بِعَفوٍ قابل التَوب ذي الع...</td>\n",
       "      <td>بحر الخفيف</td>\n",
       "    </tr>\n",
       "    <tr>\n",
       "      <th>0</th>\n",
       "      <td>مُرسل المُصطَفى البَشير إِلَينا رَحمة مِنهُ بِ...</td>\n",
       "      <td>بحر الخفيف</td>\n",
       "    </tr>\n",
       "    <tr>\n",
       "      <th>0</th>\n",
       "      <td>رَبَنا رَبّنا إِلَيكَ أَنينا فَأَجرنا مِن حَر ...</td>\n",
       "      <td>بحر الخفيف</td>\n",
       "    </tr>\n",
       "    <tr>\n",
       "      <th>0</th>\n",
       "      <td>وَاكفِنا شَرّ ما نَخاف بِلُطفٍ يا عَظيماً يَرج...</td>\n",
       "      <td>بحر الخفيف</td>\n",
       "    </tr>\n",
       "  </tbody>\n",
       "</table>\n",
       "</div>"
      ],
      "text/plain": [
       "                                       single verses  poem meter\n",
       "0  أَصبَحَ المُلك لِلَّذي فَطر الخَل قَ بِتَقديرٍ...  بحر الخفيف\n",
       "0  غافر الذَنب للمسيءِ بِعَفوٍ قابل التَوب ذي الع...  بحر الخفيف\n",
       "0  مُرسل المُصطَفى البَشير إِلَينا رَحمة مِنهُ بِ...  بحر الخفيف\n",
       "0  رَبَنا رَبّنا إِلَيكَ أَنينا فَأَجرنا مِن حَر ...  بحر الخفيف\n",
       "0  وَاكفِنا شَرّ ما نَخاف بِلُطفٍ يا عَظيماً يَرج...  بحر الخفيف"
      ]
     },
     "execution_count": 17,
     "metadata": {},
     "output_type": "execute_result"
    }
   ],
   "source": [
    "df_ashaar.head()"
   ]
  },
  {
   "cell_type": "code",
   "execution_count": 18,
   "metadata": {},
   "outputs": [
    {
     "name": "stdout",
     "output_type": "stream",
     "text": [
      "<class 'pandas.core.frame.DataFrame'>\n",
      "Index: 3869619 entries, 0 to 254629\n",
      "Data columns (total 2 columns):\n",
      " #   Column         Dtype \n",
      "---  ------         ----- \n",
      " 0   single verses  object\n",
      " 1   poem meter     object\n",
      "dtypes: object(2)\n",
      "memory usage: 88.6+ MB\n"
     ]
    }
   ],
   "source": [
    "df_ashaar.info()"
   ]
  },
  {
   "cell_type": "code",
   "execution_count": 19,
   "metadata": {},
   "outputs": [],
   "source": [
    "meters = df_ashaar['poem meter'].unique()"
   ]
  },
  {
   "cell_type": "code",
   "execution_count": 20,
   "metadata": {},
   "outputs": [
    {
     "name": "stdout",
     "output_type": "stream",
     "text": [
      "['بحر الخفيف' 'بحر مجزوء الرمل' 'بحر البسيط' 'بحر الكامل' 'بحر الوافر'\n",
      " 'بحر الطويل' 'بحر السريع' 'بحر المنسرح' 'بحر مجزوء الكامل' 'بحر المجتث'\n",
      " 'بحر الرمل' 'بحر مجزوء الوافر' 'بحر المتقارب' 'بحر مخلع البسيط'\n",
      " 'بحر مجزوء الرجز' 'بحر مجزوء الخفيف' 'بحر الدوبيت' None 'بحر الرجز'\n",
      " 'بحر المديد' 'بحر الهزج' 'بحر مجزوء البسيط' 'نثريه' 'عموديه'\n",
      " 'بحر المواليا' 'بحر موشح' 'بحر مربع البسيط' 'بحر السلسلة'\n",
      " 'بحر منهوك المنسرح' 'بحر تفعيلة المتقارب' 'بحر الكامل المقطوع'\n",
      " 'بحر تفعيلة الرمل' 'بحر المتدارك المنهوك' 'بحر تفعيلة الرجز'\n",
      " 'بحر تفعيلة الكامل' 'بحر المتدارك' 'بحر أحذ الكامل' 'بحر مشطور الرجز'\n",
      " 'بحر المضارع' 'بحر المقتضب' 'بحر مخلع الكامل' 'بحر مجزوء المتدارك'\n",
      " 'بحر مجزوء المتقارب' 'التفعيله' 'بحر مجزوء الدوبيت' 'بحر مجزوء السريع'\n",
      " 'بحر الخبب' 'بحر مجزوء المنسرح' 'بحر مجزوء المجتث' 'بحر مجزوء الرمل '\n",
      " 'بحر مجزوء موشح' 'بحر منهوك الرجز' 'بحر مخلع موشح' 'بحر مجزوء الطويل'\n",
      " 'بحر مخلع الرجز' 'بحر أحذ الوافر' 'بحر القوما' 'بحر مخلع الرمل'\n",
      " 'بحر التفعيله' 'بحر منهوك البسيط' 'بحر مجزوء المديد' 'بحر منهوك الكامل'\n",
      " 'بحر مربع الرجز' 'بحر مشطور السريع' 'بحر مجزوء الهزج' 'بحر مخلع السريع'\n",
      " 'بحر أحذ المديد' 'بحر مشطور الطويل' 'بحر مجزوء المواليا' 'المتقارب'\n",
      " 'الخفيف' 'الكامل' 'الطويل' 'الرجز' 'البسيط' 'الوافر' 'المنسرح' 'المديد'\n",
      " 'الهزج' 'السريع' 'الرمل' 'المجتث' 'زجل' 'المتدارك' 'شعر التفعيلة'\n",
      " 'شعر حر' 'الموشح' 'المواليا' 'المقتضب' 'الدوبيت' 'السلسلة' 'المسحوب'\n",
      " 'الهجيني' 'الصخري' 'الحداء' 'المضارع' 'مجزوء الخفيف' 'عامي' 'الكان كان'\n",
      " 'عدة أبحر' 'بسيط' 'اللويحاني']\n"
     ]
    }
   ],
   "source": [
    "print(meters)"
   ]
  },
  {
   "cell_type": "code",
   "execution_count": 21,
   "metadata": {},
   "outputs": [
    {
     "name": "stdout",
     "output_type": "stream",
     "text": [
      "102\n",
      "بحر الخفيف\n",
      "بحر مجزوء الرمل\n",
      "بحر البسيط\n",
      "بحر الكامل\n",
      "بحر الوافر\n",
      "بحر الطويل\n",
      "بحر السريع\n",
      "بحر المنسرح\n",
      "بحر مجزوء الكامل\n",
      "بحر المجتث\n",
      "بحر الرمل\n",
      "بحر مجزوء الوافر\n",
      "بحر المتقارب\n",
      "بحر مخلع البسيط\n",
      "بحر مجزوء الرجز\n",
      "بحر مجزوء الخفيف\n",
      "بحر الدوبيت\n",
      "None\n",
      "بحر الرجز\n",
      "بحر المديد\n",
      "بحر الهزج\n",
      "بحر مجزوء البسيط\n",
      "نثريه\n",
      "عموديه\n",
      "بحر المواليا\n",
      "بحر موشح\n",
      "بحر مربع البسيط\n",
      "بحر السلسلة\n",
      "بحر منهوك المنسرح\n",
      "بحر تفعيلة المتقارب\n",
      "بحر الكامل المقطوع\n",
      "بحر تفعيلة الرمل\n",
      "بحر المتدارك المنهوك\n",
      "بحر تفعيلة الرجز\n",
      "بحر تفعيلة الكامل\n",
      "بحر المتدارك\n",
      "بحر أحذ الكامل\n",
      "بحر مشطور الرجز\n",
      "بحر المضارع\n",
      "بحر المقتضب\n",
      "بحر مخلع الكامل\n",
      "بحر مجزوء المتدارك\n",
      "بحر مجزوء المتقارب\n",
      "التفعيله\n",
      "بحر مجزوء الدوبيت\n",
      "بحر مجزوء السريع\n",
      "بحر الخبب\n",
      "بحر مجزوء المنسرح\n",
      "بحر مجزوء المجتث\n",
      "بحر مجزوء الرمل \n",
      "بحر مجزوء موشح\n",
      "بحر منهوك الرجز\n",
      "بحر مخلع موشح\n",
      "بحر مجزوء الطويل\n",
      "بحر مخلع الرجز\n",
      "بحر أحذ الوافر\n",
      "بحر القوما\n",
      "بحر مخلع الرمل\n",
      "بحر التفعيله\n",
      "بحر منهوك البسيط\n",
      "بحر مجزوء المديد\n",
      "بحر منهوك الكامل\n",
      "بحر مربع الرجز\n",
      "بحر مشطور السريع\n",
      "بحر مجزوء الهزج\n",
      "بحر مخلع السريع\n",
      "بحر أحذ المديد\n",
      "بحر مشطور الطويل\n",
      "بحر مجزوء المواليا\n",
      "المتقارب\n",
      "الخفيف\n",
      "الكامل\n",
      "الطويل\n",
      "الرجز\n",
      "البسيط\n",
      "الوافر\n",
      "المنسرح\n",
      "المديد\n",
      "الهزج\n",
      "السريع\n",
      "الرمل\n",
      "المجتث\n",
      "زجل\n",
      "المتدارك\n",
      "شعر التفعيلة\n",
      "شعر حر\n",
      "الموشح\n",
      "المواليا\n",
      "المقتضب\n",
      "الدوبيت\n",
      "السلسلة\n",
      "المسحوب\n",
      "الهجيني\n",
      "الصخري\n",
      "الحداء\n",
      "المضارع\n",
      "مجزوء الخفيف\n",
      "عامي\n",
      "الكان كان\n",
      "عدة أبحر\n",
      "بسيط\n",
      "اللويحاني\n"
     ]
    }
   ],
   "source": [
    "print(len(meters))\n",
    "for meter in meters:\n",
    "    print(meter)"
   ]
  },
  {
   "cell_type": "code",
   "execution_count": 22,
   "metadata": {},
   "outputs": [],
   "source": [
    "df_ashaar = df_ashaar.reset_index(drop=True)"
   ]
  },
  {
   "cell_type": "code",
   "execution_count": 23,
   "metadata": {},
   "outputs": [
    {
     "data": {
      "text/plain": [
       "poem meter\n",
       "الطويل              231017\n",
       "الكامل              221651\n",
       "بحر الطويل          200479\n",
       "البسيط              142238\n",
       "بحر الكامل          135856\n",
       "                     ...  \n",
       "بحر مربع البسيط          2\n",
       "بحر مشطور السريع         2\n",
       "بحر مخلع الرجز           2\n",
       "بحر مشطور الطويل         1\n",
       "بحر مجزوء الرمل          1\n",
       "Name: count, Length: 101, dtype: int64"
      ]
     },
     "execution_count": 23,
     "metadata": {},
     "output_type": "execute_result"
    }
   ],
   "source": [
    "df_ashaar['poem meter'].value_counts()"
   ]
  },
  {
   "cell_type": "markdown",
   "metadata": {},
   "source": [
    "Remove redundancy, e.g. 'البسيط' and 'بحر البسيط'"
   ]
  },
  {
   "cell_type": "code",
   "execution_count": 24,
   "metadata": {},
   "outputs": [],
   "source": [
    "df_ashaar['poem meter'] = df_ashaar['poem meter'].str.replace(r'بحر ', '', regex=True).str.strip()"
   ]
  },
  {
   "cell_type": "code",
   "execution_count": 25,
   "metadata": {},
   "outputs": [],
   "source": [
    "df_ashaar['poem meter'].value_counts()\n",
    "meters_red = df_ashaar['poem meter'].unique()"
   ]
  },
  {
   "cell_type": "code",
   "execution_count": 26,
   "metadata": {},
   "outputs": [
    {
     "data": {
      "text/plain": [
       "80"
      ]
     },
     "execution_count": 26,
     "metadata": {},
     "output_type": "execute_result"
    }
   ],
   "source": [
    "len(meters_red)  "
   ]
  },
  {
   "cell_type": "code",
   "execution_count": 27,
   "metadata": {},
   "outputs": [
    {
     "name": "stdout",
     "output_type": "stream",
     "text": [
      "الطويل: 431496\n",
      "الكامل: 357507\n",
      "البسيط: 247583\n",
      "الخفيف: 165140\n",
      "الوافر: 144772\n",
      "الرجز: 114111\n",
      "الرمل: 70728\n",
      "المتقارب: 68414\n",
      "السريع: 60737\n",
      "عموديه: 53616\n",
      "التفعيله: 32310\n",
      "المنسرح: 29385\n",
      "مجزوء الكامل: 26114\n",
      "المجتث: 18811\n",
      "الموشح: 18319\n",
      "نثريه: 12243\n",
      "موشح: 11242\n",
      "مجزوء الرمل: 10637\n",
      "مجزوء الرجز: 10322\n",
      "الهزج: 8371\n",
      "المديد: 7594\n",
      "عامي: 6694\n",
      "أحذ الكامل: 6024\n",
      "المتدارك: 5482\n",
      "مخلع البسيط: 5447\n",
      "شعر التفعيلة: 4656\n",
      "مجزوء الوافر: 3818\n",
      "شعر حر: 3684\n",
      "مجزوء الخفيف: 3568\n",
      "الدوبيت: 2620\n",
      "المواليا: 1624\n",
      "مجزوء البسيط: 1261\n",
      "المسحوب: 1135\n",
      "السلسلة: 816\n",
      "المقتضب: 801\n",
      "مجزوء موشح: 374\n",
      "مجزوء المتقارب: 358\n",
      "منهوك المنسرح: 258\n",
      "مجزوء السريع: 196\n",
      "مشطور الرجز: 185\n",
      "المضارع: 157\n",
      "مجزوء المتدارك: 133\n",
      "منهوك الرجز: 121\n",
      "زجل: 81\n",
      "مجزوء الدوبيت: 77\n",
      "الكان كان: 59\n",
      "تفعيلة الكامل: 58\n",
      "مجزوء الطويل: 57\n",
      "منهوك البسيط: 55\n",
      "مجزوء المديد: 54\n",
      "مخلع الكامل: 51\n",
      "الهجيني: 47\n",
      "مخلع موشح: 44\n",
      "تفعيلة المتقارب: 29\n",
      "منهوك الكامل: 27\n",
      "عدة أبحر: 26\n",
      "تفعيلة الرجز: 23\n",
      "بسيط: 22\n",
      "أحذ المديد: 20\n",
      "مجزوء الهزج: 18\n",
      "الصخري: 16\n",
      "تفعيلة الرمل: 16\n",
      "الخبب: 14\n",
      "القوما: 12\n",
      "مربع الرجز: 10\n",
      "مخلع الرمل: 8\n",
      "المتدارك المنهوك: 7\n",
      "اللويحاني: 7\n",
      "الكامل المقطوع: 5\n",
      "مجزوء المنسرح: 5\n",
      "مخلع السريع: 4\n",
      "أحذ الوافر: 4\n",
      "الحداء: 3\n",
      "مجزوء المجتث: 3\n",
      "مخلع الرجز: 2\n",
      "مشطور السريع: 2\n",
      "مربع البسيط: 2\n",
      "مجزوء المواليا: 2\n",
      "مشطور الطويل: 1\n"
     ]
    }
   ],
   "source": [
    "value_counts = df_ashaar['poem meter'].value_counts()\n",
    "\n",
    "for poem_meter, count in value_counts.items():\n",
    "    print(f'{poem_meter}: {count}')\n"
   ]
  },
  {
   "cell_type": "code",
   "execution_count": 28,
   "metadata": {},
   "outputs": [
    {
     "name": "stderr",
     "output_type": "stream",
     "text": [
      "C:\\Users\\abdul\\AppData\\Local\\Temp\\ipykernel_4884\\1460793125.py:6: FutureWarning: \n",
      "\n",
      "Passing `palette` without assigning `hue` is deprecated and will be removed in v0.14.0. Assign the `y` variable to `hue` and set `legend=False` for the same effect.\n",
      "\n",
      "  sns.barplot(y=meters_reshaped, x=value_counts.values, palette='pastel')\n"
     ]
    },
    {
     "data": {
      "image/png": "[encoded data removed]",
      "text/plain": [
       "<Figure size 1500x1500 with 1 Axes>"
      ]
     },
     "metadata": {},
     "output_type": "display_data"
    }
   ],
   "source": [
    "value_counts = df_ashaar['poem meter'].value_counts()\n",
    "\n",
    "meters_reshaped = [reshape_text(m) for m in value_counts.index]\n",
    "# Plot horizontal bar\n",
    "plt.figure(figsize=(15, 15)) \n",
    "sns.barplot(y=meters_reshaped, x=value_counts.values, palette='pastel')\n",
    "plt.title('Counts of Each Class')\n",
    "plt.xlabel('Counts')\n",
    "plt.ylabel('Classes')\n",
    "plt.show()\n"
   ]
  },
  {
   "cell_type": "markdown",
   "metadata": {},
   "source": [
    "Remove non-Khalili meters"
   ]
  },
  {
   "cell_type": "code",
   "execution_count": 29,
   "metadata": {},
   "outputs": [],
   "source": [
    "khalil_meters = ['الطويل', 'المديد', 'البسيط', 'الكامل', 'الوافر', 'الهزج', 'الرجز', 'الرمل', 'السريع', 'المنسرح', 'المضارع', \"الخفيف\" ,'المقتضب', 'المجتث', 'المتقارب', 'الخبب']"
   ]
  },
  {
   "cell_type": "code",
   "execution_count": 30,
   "metadata": {},
   "outputs": [],
   "source": [
    "pattern = '|'.join(khalil_meters)\n",
    "df_filtered = df_ashaar[df_ashaar['poem meter'].str.contains(pattern, na=False)]\n"
   ]
  },
  {
   "cell_type": "code",
   "execution_count": 31,
   "metadata": {},
   "outputs": [
    {
     "data": {
      "text/html": [
       "<div>\n",
       "<style scoped>\n",
       "    .dataframe tbody tr th:only-of-type {\n",
       "        vertical-align: middle;\n",
       "    }\n",
       "\n",
       "    .dataframe tbody tr th {\n",
       "        vertical-align: top;\n",
       "    }\n",
       "\n",
       "    .dataframe thead th {\n",
       "        text-align: right;\n",
       "    }\n",
       "</style>\n",
       "<table border=\"1\" class=\"dataframe\">\n",
       "  <thead>\n",
       "    <tr style=\"text-align: right;\">\n",
       "      <th></th>\n",
       "      <th>single verses</th>\n",
       "      <th>poem meter</th>\n",
       "    </tr>\n",
       "  </thead>\n",
       "  <tbody>\n",
       "    <tr>\n",
       "      <th>0</th>\n",
       "      <td>أَصبَحَ المُلك لِلَّذي فَطر الخَل قَ بِتَقديرٍ...</td>\n",
       "      <td>الخفيف</td>\n",
       "    </tr>\n",
       "    <tr>\n",
       "      <th>1</th>\n",
       "      <td>غافر الذَنب للمسيءِ بِعَفوٍ قابل التَوب ذي الع...</td>\n",
       "      <td>الخفيف</td>\n",
       "    </tr>\n",
       "    <tr>\n",
       "      <th>2</th>\n",
       "      <td>مُرسل المُصطَفى البَشير إِلَينا رَحمة مِنهُ بِ...</td>\n",
       "      <td>الخفيف</td>\n",
       "    </tr>\n",
       "    <tr>\n",
       "      <th>3</th>\n",
       "      <td>رَبَنا رَبّنا إِلَيكَ أَنينا فَأَجرنا مِن حَر ...</td>\n",
       "      <td>الخفيف</td>\n",
       "    </tr>\n",
       "    <tr>\n",
       "      <th>4</th>\n",
       "      <td>وَاكفِنا شَرّ ما نَخاف بِلُطفٍ يا عَظيماً يَرج...</td>\n",
       "      <td>الخفيف</td>\n",
       "    </tr>\n",
       "  </tbody>\n",
       "</table>\n",
       "</div>"
      ],
      "text/plain": [
       "                                       single verses poem meter\n",
       "0  أَصبَحَ المُلك لِلَّذي فَطر الخَل قَ بِتَقديرٍ...     الخفيف\n",
       "1  غافر الذَنب للمسيءِ بِعَفوٍ قابل التَوب ذي الع...     الخفيف\n",
       "2  مُرسل المُصطَفى البَشير إِلَينا رَحمة مِنهُ بِ...     الخفيف\n",
       "3  رَبَنا رَبّنا إِلَيكَ أَنينا فَأَجرنا مِن حَر ...     الخفيف\n",
       "4  وَاكفِنا شَرّ ما نَخاف بِلُطفٍ يا عَظيماً يَرج...     الخفيف"
      ]
     },
     "execution_count": 31,
     "metadata": {},
     "output_type": "execute_result"
    }
   ],
   "source": [
    "df_filtered.head()"
   ]
  },
  {
   "cell_type": "code",
   "execution_count": 32,
   "metadata": {},
   "outputs": [
    {
     "data": {
      "text/plain": [
       "51"
      ]
     },
     "execution_count": 32,
     "metadata": {},
     "output_type": "execute_result"
    }
   ],
   "source": [
    "len(df_filtered['poem meter'].unique())"
   ]
  },
  {
   "cell_type": "code",
   "execution_count": 33,
   "metadata": {},
   "outputs": [
    {
     "name": "stderr",
     "output_type": "stream",
     "text": [
      "C:\\Users\\abdul\\AppData\\Local\\Temp\\ipykernel_4884\\1616584284.py:6: FutureWarning: \n",
      "\n",
      "Passing `palette` without assigning `hue` is deprecated and will be removed in v0.14.0. Assign the `y` variable to `hue` and set `legend=False` for the same effect.\n",
      "\n",
      "  sns.barplot(y=meters_reshaped, x=value_counts.values, palette='pastel')\n"
     ]
    },
    {
     "data": {
      "image/png": "[encoded data removed]",
      "text/plain": [
       "<Figure size 1500x1500 with 1 Axes>"
      ]
     },
     "metadata": {},
     "output_type": "display_data"
    }
   ],
   "source": [
    "value_counts = df_filtered['poem meter'].value_counts()\n",
    "\n",
    "meters_reshaped = [reshape_text(m) for m in value_counts.index]\n",
    "# Plot horizontal bar\n",
    "plt.figure(figsize=(15, 15)) \n",
    "sns.barplot(y=meters_reshaped, x=value_counts.values, palette='pastel')\n",
    "plt.title('Counts of Each Class')\n",
    "plt.xlabel('Counts')\n",
    "plt.ylabel('Classes')\n",
    "plt.show()\n"
   ]
  },
  {
   "cell_type": "code",
   "execution_count": 34,
   "metadata": {},
   "outputs": [
    {
     "name": "stdout",
     "output_type": "stream",
     "text": [
      "الطويل: 431496\n",
      "الكامل: 357507\n",
      "البسيط: 247583\n",
      "الخفيف: 165140\n",
      "الوافر: 144772\n",
      "الرجز: 114111\n",
      "الرمل: 70728\n",
      "المتقارب: 68414\n",
      "السريع: 60737\n",
      "المنسرح: 29385\n",
      "مجزوء الكامل: 26114\n",
      "المجتث: 18811\n",
      "مجزوء الرمل: 10637\n",
      "مجزوء الرجز: 10322\n",
      "الهزج: 8371\n",
      "المديد: 7594\n",
      "أحذ الكامل: 6024\n",
      "مخلع البسيط: 5447\n",
      "مجزوء الوافر: 3818\n",
      "مجزوء الخفيف: 3568\n",
      "مجزوء البسيط: 1261\n",
      "المقتضب: 801\n",
      "مجزوء المتقارب: 358\n",
      "منهوك المنسرح: 258\n",
      "مجزوء السريع: 196\n",
      "مشطور الرجز: 185\n",
      "المضارع: 157\n",
      "منهوك الرجز: 121\n",
      "تفعيلة الكامل: 58\n",
      "مجزوء الطويل: 57\n",
      "منهوك البسيط: 55\n",
      "مجزوء المديد: 54\n",
      "مخلع الكامل: 51\n",
      "تفعيلة المتقارب: 29\n",
      "منهوك الكامل: 27\n",
      "تفعيلة الرجز: 23\n",
      "أحذ المديد: 20\n",
      "مجزوء الهزج: 18\n",
      "تفعيلة الرمل: 16\n",
      "الخبب: 14\n",
      "مربع الرجز: 10\n",
      "مخلع الرمل: 8\n",
      "مجزوء المنسرح: 5\n",
      "الكامل المقطوع: 5\n",
      "أحذ الوافر: 4\n",
      "مخلع السريع: 4\n",
      "مجزوء المجتث: 3\n",
      "مخلع الرجز: 2\n",
      "مربع البسيط: 2\n",
      "مشطور السريع: 2\n",
      "مشطور الطويل: 1\n"
     ]
    }
   ],
   "source": [
    "value_counts_filtered = df_filtered['poem meter'].value_counts()\n",
    "\n",
    "for poem_meter, count in value_counts_filtered.items():\n",
    "    print(f'{poem_meter}: {count}')\n"
   ]
  },
  {
   "cell_type": "markdown",
   "metadata": {},
   "source": [
    "Drop meters with < 100 rows"
   ]
  },
  {
   "cell_type": "code",
   "execution_count": 35,
   "metadata": {},
   "outputs": [],
   "source": [
    "valid_values = value_counts[value_counts >= 100].index\n",
    "\n",
    "df_filtered = df_filtered[df_filtered['poem meter'].isin(valid_values)]\n"
   ]
  },
  {
   "cell_type": "code",
   "execution_count": 36,
   "metadata": {},
   "outputs": [
    {
     "data": {
      "text/plain": [
       "28"
      ]
     },
     "execution_count": 36,
     "metadata": {},
     "output_type": "execute_result"
    }
   ],
   "source": [
    "len(df_filtered['poem meter'].unique())"
   ]
  },
  {
   "cell_type": "code",
   "execution_count": 37,
   "metadata": {},
   "outputs": [
    {
     "name": "stderr",
     "output_type": "stream",
     "text": [
      "C:\\Users\\abdul\\AppData\\Local\\Temp\\ipykernel_4884\\3338087714.py:6: FutureWarning: \n",
      "\n",
      "Passing `palette` without assigning `hue` is deprecated and will be removed in v0.14.0. Assign the `y` variable to `hue` and set `legend=False` for the same effect.\n",
      "\n",
      "  sns.barplot(y=meters_reshaped, x=value_counts.values, palette='pastel')\n"
     ]
    },
    {
     "data": {
      "image/png": "[encoded data removed]",
      "text/plain": [
       "<Figure size 1200x1000 with 1 Axes>"
      ]
     },
     "metadata": {},
     "output_type": "display_data"
    }
   ],
   "source": [
    "value_counts = df_filtered['poem meter'].value_counts()\n",
    "\n",
    "meters_reshaped = [reshape_text(m) for m in value_counts.index]\n",
    "# Plot horizontal bar\n",
    "plt.figure(figsize=(12, 10)) \n",
    "sns.barplot(y=meters_reshaped, x=value_counts.values, palette='pastel')\n",
    "plt.title('Counts of Each Class')\n",
    "plt.xlabel('Counts')\n",
    "plt.ylabel('Classes')\n",
    "plt.show()\n"
   ]
  },
  {
   "cell_type": "code",
   "execution_count": 38,
   "metadata": {},
   "outputs": [
    {
     "data": {
      "text/html": [
       "<div>\n",
       "<style scoped>\n",
       "    .dataframe tbody tr th:only-of-type {\n",
       "        vertical-align: middle;\n",
       "    }\n",
       "\n",
       "    .dataframe tbody tr th {\n",
       "        vertical-align: top;\n",
       "    }\n",
       "\n",
       "    .dataframe thead th {\n",
       "        text-align: right;\n",
       "    }\n",
       "</style>\n",
       "<table border=\"1\" class=\"dataframe\">\n",
       "  <thead>\n",
       "    <tr style=\"text-align: right;\">\n",
       "      <th></th>\n",
       "      <th>single verses</th>\n",
       "      <th>poem meter</th>\n",
       "    </tr>\n",
       "  </thead>\n",
       "  <tbody>\n",
       "    <tr>\n",
       "      <th>0</th>\n",
       "      <td>أَصبَحَ المُلك لِلَّذي فَطر الخَل قَ بِتَقديرٍ...</td>\n",
       "      <td>الخفيف</td>\n",
       "    </tr>\n",
       "    <tr>\n",
       "      <th>1</th>\n",
       "      <td>غافر الذَنب للمسيءِ بِعَفوٍ قابل التَوب ذي الع...</td>\n",
       "      <td>الخفيف</td>\n",
       "    </tr>\n",
       "    <tr>\n",
       "      <th>2</th>\n",
       "      <td>مُرسل المُصطَفى البَشير إِلَينا رَحمة مِنهُ بِ...</td>\n",
       "      <td>الخفيف</td>\n",
       "    </tr>\n",
       "    <tr>\n",
       "      <th>3</th>\n",
       "      <td>رَبَنا رَبّنا إِلَيكَ أَنينا فَأَجرنا مِن حَر ...</td>\n",
       "      <td>الخفيف</td>\n",
       "    </tr>\n",
       "    <tr>\n",
       "      <th>4</th>\n",
       "      <td>وَاكفِنا شَرّ ما نَخاف بِلُطفٍ يا عَظيماً يَرج...</td>\n",
       "      <td>الخفيف</td>\n",
       "    </tr>\n",
       "  </tbody>\n",
       "</table>\n",
       "</div>"
      ],
      "text/plain": [
       "                                       single verses poem meter\n",
       "0  أَصبَحَ المُلك لِلَّذي فَطر الخَل قَ بِتَقديرٍ...     الخفيف\n",
       "1  غافر الذَنب للمسيءِ بِعَفوٍ قابل التَوب ذي الع...     الخفيف\n",
       "2  مُرسل المُصطَفى البَشير إِلَينا رَحمة مِنهُ بِ...     الخفيف\n",
       "3  رَبَنا رَبّنا إِلَيكَ أَنينا فَأَجرنا مِن حَر ...     الخفيف\n",
       "4  وَاكفِنا شَرّ ما نَخاف بِلُطفٍ يا عَظيماً يَرج...     الخفيف"
      ]
     },
     "execution_count": 38,
     "metadata": {},
     "output_type": "execute_result"
    }
   ],
   "source": [
    "df_filtered.head()"
   ]
  },
  {
   "cell_type": "code",
   "execution_count": 39,
   "metadata": {},
   "outputs": [],
   "source": [
    "meters = list(df_filtered['poem meter'].unique())"
   ]
  },
  {
   "cell_type": "code",
   "execution_count": null,
   "metadata": {},
   "outputs": [],
   "source": [
    "meters"
   ]
  },
  {
   "cell_type": "markdown",
   "metadata": {},
   "source": [
    "** RUN ABOVE FOR df_filtered Class Test **"
   ]
  },
  {
   "cell_type": "code",
   "execution_count": null,
   "metadata": {},
   "outputs": [],
   "source": [
    "samples = df_filtered[df_filtered['poem meter']== \"الخفيف\"].sample(2000, replace=False)\n"
   ]
  },
  {
   "cell_type": "markdown",
   "metadata": {},
   "source": [
    "Balancing the data"
   ]
  },
  {
   "cell_type": "code",
   "execution_count": null,
   "metadata": {},
   "outputs": [],
   "source": [
    "def remove_tashkeel(verse):\n",
    "    return re.sub(r'[\\u0617-\\u061A\\u064B-\\u0652]', '', verse)  # Remove Tashkeel\n",
    "\n",
    "\n",
    "def random_remove_tashkeel(verse):\n",
    "    return ''.join(char for char in verse if random.choice([True, False]) or not re.match(r'[\\u0617-\\u061A\\u064B-\\u0652]', char))\n"
   ]
  },
  {
   "cell_type": "code",
   "execution_count": null,
   "metadata": {},
   "outputs": [],
   "source": [
    "v = \"هذا كلام دون تشكيل\"\n",
    "print(v)\n",
    "print(remove_tashkeel(v))\n",
    "print(random_remove_tashkeel(v))"
   ]
  },
  {
   "cell_type": "code",
   "execution_count": null,
   "metadata": {},
   "outputs": [],
   "source": [
    "v = df_filtered.loc[1,'single verses']\n",
    "print(v)\n",
    "print(remove_tashkeel(v))\n",
    "print(random_remove_tashkeel(v))"
   ]
  },
  {
   "cell_type": "code",
   "execution_count": null,
   "metadata": {},
   "outputs": [],
   "source": [
    "target_count = 2000\n",
    "balanced_samples = []\n",
    "\n",
    "# Set target count\n",
    "target_count = 2000\n",
    "balanced_samples = []\n",
    "\n",
    "for meter in df_filtered['poem meter'].unique():\n",
    "    current_data = df_filtered[df_filtered['poem meter'] == meter]\n",
    "    \n",
    "    count = len(current_data)\n",
    "\n",
    "    samples = []\n",
    "\n",
    "    if count >= target_count:\n",
    "        samples.append(current_data.sample(target_count, replace=False))\n",
    "    \n",
    "    else:\n",
    "        repeat_count = target_count // count + 1\n",
    "        \n",
    "        samples.append(current_data)\n",
    "        \n",
    "        no_tashkeel = current_data.copy()\n",
    "        no_tashkeel['single verses'] = no_tashkeel['single verses'].apply(remove_tashkeel)\n",
    "        if target_count - len(samples[0]) <= len(no_tashkeel):\n",
    "            print('In IF')\n",
    "            samples.append(no_tashkeel[:(target_count - len(samples[0]))])\n",
    "        else: \n",
    "            print('In ELSE')\n",
    "            samples.append(no_tashkeel)\n",
    "        \n",
    "        remaining_needed = target_count - (len(samples[0]) + len(samples[1]))\n",
    "        \n",
    "        random_samples = []\n",
    "        for _ in range(remaining_needed):\n",
    "            random_verse = current_data.sample(1)\n",
    "            random_tashkeel_removed_verse = random_remove_tashkeel(random_verse['single verses'].values[0])\n",
    "            random_samples.append({'single verses': random_tashkeel_removed_verse, 'poem meter': meter})\n",
    "        \n",
    "        random_samples_df = pd.DataFrame(random_samples)\n",
    "        samples.append(random_samples_df)\n",
    "\n",
    "    balanced_samples.append(pd.concat(samples, ignore_index=True))\n",
    "\n",
    "balanced_df = pd.concat(balanced_samples, ignore_index=True)\n",
    "\n",
    "print(balanced_df)"
   ]
  },
  {
   "cell_type": "code",
   "execution_count": null,
   "metadata": {},
   "outputs": [],
   "source": [
    "balanced_df['poem meter'].value_counts()"
   ]
  },
  {
   "cell_type": "code",
   "execution_count": null,
   "metadata": {},
   "outputs": [],
   "source": [
    "balanced_df = balanced_df.sample(frac=1, random_state=42).reset_index(drop=True)"
   ]
  },
  {
   "cell_type": "code",
   "execution_count": null,
   "metadata": {},
   "outputs": [],
   "source": [
    "balanced_df.head(20)"
   ]
  },
  {
   "cell_type": "markdown",
   "metadata": {},
   "source": [
    "Try to save a portion of it as JSON:"
   ]
  },
  {
   "cell_type": "code",
   "execution_count": null,
   "metadata": {},
   "outputs": [],
   "source": [
    "json_data = [\n",
    "    {\"input\": \n",
    "    f\"ما هو البحر الشعري لهذا البيت؟ {row['single verses']}\",\n",
    "     \"output\": row['poem meter']}\n",
    "    for _, row in balanced_df.iterrows()\n",
    "]\n",
    "json_data"
   ]
  },
  {
   "cell_type": "code",
   "execution_count": null,
   "metadata": {},
   "outputs": [],
   "source": [
    "import json\n",
    "\n",
    "\n",
    "json_data = [\n",
    "    {\"input\": \n",
    "    f\"ما هو البحر الشعري لهذا البيت؟ {row['single verses']}\",\n",
    "     \"output\": row['poem meter']}\n",
    "    for _, row in balanced_df.iterrows()\n",
    "]\n",
    "\n",
    "\n",
    "\n",
    "with open('train.json', 'w', encoding='utf-8') as json_file:\n",
    "    json.dump(json_data, json_file, ensure_ascii=False, indent=4)\n",
    "\n",
    "print(\"JSON file created successfully.\")\n"
   ]
  },
  {
   "cell_type": "markdown",
   "metadata": {},
   "source": [
    "# Data For Generation"
   ]
  },
  {
   "cell_type": "code",
   "execution_count": 69,
   "metadata": {},
   "outputs": [],
   "source": [
    "df_gen = ashaar['train'].to_pandas()"
   ]
  },
  {
   "cell_type": "code",
   "execution_count": 70,
   "metadata": {},
   "outputs": [],
   "source": [
    "df_gen = df_gen[['poem verses','poem meter']]"
   ]
  },
  {
   "cell_type": "code",
   "execution_count": 71,
   "metadata": {},
   "outputs": [
    {
     "data": {
      "text/html": [
       "<div>\n",
       "<style scoped>\n",
       "    .dataframe tbody tr th:only-of-type {\n",
       "        vertical-align: middle;\n",
       "    }\n",
       "\n",
       "    .dataframe tbody tr th {\n",
       "        vertical-align: top;\n",
       "    }\n",
       "\n",
       "    .dataframe thead th {\n",
       "        text-align: right;\n",
       "    }\n",
       "</style>\n",
       "<table border=\"1\" class=\"dataframe\">\n",
       "  <thead>\n",
       "    <tr style=\"text-align: right;\">\n",
       "      <th></th>\n",
       "      <th>poem verses</th>\n",
       "      <th>poem meter</th>\n",
       "    </tr>\n",
       "  </thead>\n",
       "  <tbody>\n",
       "    <tr>\n",
       "      <th>0</th>\n",
       "      <td>[أَصبَحَ المُلك لِلَّذي فَطر الخَل, قَ بِتَقدي...</td>\n",
       "      <td>بحر الخفيف</td>\n",
       "    </tr>\n",
       "    <tr>\n",
       "      <th>1</th>\n",
       "      <td>[مِن أَي مَولى اِرتَجي, وَلاي باب التَجي, وَال...</td>\n",
       "      <td>بحر مجزوء الرمل</td>\n",
       "    </tr>\n",
       "    <tr>\n",
       "      <th>2</th>\n",
       "      <td>[العَبد عَبدك يا مَن أَنتَ سَيدهُ, وَلَيسَ غَي...</td>\n",
       "      <td>بحر البسيط</td>\n",
       "    </tr>\n",
       "    <tr>\n",
       "      <th>3</th>\n",
       "      <td>[لَو كُنتَ أَطمَع بِالمَنام تَوهما, لَسالَت طَ...</td>\n",
       "      <td>بحر الكامل</td>\n",
       "    </tr>\n",
       "    <tr>\n",
       "      <th>4</th>\n",
       "      <td>[يعد عَليَّ أَنفاسي ذُنوباً, إِذا ما قُلت أَفد...</td>\n",
       "      <td>بحر الوافر</td>\n",
       "    </tr>\n",
       "  </tbody>\n",
       "</table>\n",
       "</div>"
      ],
      "text/plain": [
       "                                         poem verses       poem meter\n",
       "0  [أَصبَحَ المُلك لِلَّذي فَطر الخَل, قَ بِتَقدي...       بحر الخفيف\n",
       "1  [مِن أَي مَولى اِرتَجي, وَلاي باب التَجي, وَال...  بحر مجزوء الرمل\n",
       "2  [العَبد عَبدك يا مَن أَنتَ سَيدهُ, وَلَيسَ غَي...       بحر البسيط\n",
       "3  [لَو كُنتَ أَطمَع بِالمَنام تَوهما, لَسالَت طَ...       بحر الكامل\n",
       "4  [يعد عَليَّ أَنفاسي ذُنوباً, إِذا ما قُلت أَفد...       بحر الوافر"
      ]
     },
     "execution_count": 71,
     "metadata": {},
     "output_type": "execute_result"
    }
   ],
   "source": [
    "df_gen.head()"
   ]
  },
  {
   "cell_type": "code",
   "execution_count": 72,
   "metadata": {},
   "outputs": [],
   "source": [
    "pattern = '|'.join(khalil_meters)\n",
    "df_gen = df_gen[df_gen['poem meter'].str.contains(pattern, na=False)]"
   ]
  },
  {
   "cell_type": "code",
   "execution_count": 73,
   "metadata": {},
   "outputs": [],
   "source": [
    "df_gen['poem meter'] = df_gen['poem meter'].str.replace(r'بحر ', '', regex=True).str.strip()"
   ]
  },
  {
   "cell_type": "code",
   "execution_count": 74,
   "metadata": {},
   "outputs": [
    {
     "data": {
      "text/plain": [
       "array(['الخفيف', 'مجزوء الرمل', 'البسيط', 'الكامل', 'الوافر', 'الطويل',\n",
       "       'السريع', 'المنسرح', 'مجزوء الكامل', 'المجتث', 'الرمل',\n",
       "       'مجزوء الوافر', 'المتقارب', 'مخلع البسيط', 'مجزوء الرجز',\n",
       "       'مجزوء الخفيف', 'الرجز', 'المديد', 'الهزج', 'مجزوء البسيط',\n",
       "       'مربع البسيط', 'منهوك المنسرح', 'تفعيلة المتقارب',\n",
       "       'الكامل المقطوع', 'تفعيلة الرمل', 'تفعيلة الرجز', 'تفعيلة الكامل',\n",
       "       'أحذ الكامل', 'مشطور الرجز', 'المضارع', 'المقتضب', 'مخلع الكامل',\n",
       "       'مجزوء المتقارب', 'مجزوء السريع', 'الخبب', 'مجزوء المنسرح',\n",
       "       'مجزوء المجتث', 'منهوك الرجز', 'مجزوء الطويل', 'مخلع الرجز',\n",
       "       'أحذ الوافر', 'مخلع الرمل', 'منهوك البسيط', 'مجزوء المديد',\n",
       "       'منهوك الكامل', 'مربع الرجز', 'مشطور السريع', 'مجزوء الهزج',\n",
       "       'مخلع السريع', 'أحذ المديد', 'مشطور الطويل'], dtype=object)"
      ]
     },
     "execution_count": 74,
     "metadata": {},
     "output_type": "execute_result"
    }
   ],
   "source": [
    "df_gen['poem meter'].unique()"
   ]
  },
  {
   "cell_type": "code",
   "execution_count": 75,
   "metadata": {},
   "outputs": [
    {
     "data": {
      "text/plain": [
       "0    [أَصبَحَ المُلك لِلَّذي فَطر الخَل, قَ بِتَقدي...\n",
       "1    [مِن أَي مَولى اِرتَجي, وَلاي باب التَجي, وَال...\n",
       "2    [العَبد عَبدك يا مَن أَنتَ سَيدهُ, وَلَيسَ غَي...\n",
       "3    [لَو كُنتَ أَطمَع بِالمَنام تَوهما, لَسالَت طَ...\n",
       "4    [يعد عَليَّ أَنفاسي ذُنوباً, إِذا ما قُلت أَفد...\n",
       "Name: poem verses, dtype: object"
      ]
     },
     "execution_count": 75,
     "metadata": {},
     "output_type": "execute_result"
    }
   ],
   "source": [
    "df_gen = df_gen['poem verses']\n",
    "df_gen.head()"
   ]
  },
  {
   "cell_type": "code",
   "execution_count": 76,
   "metadata": {},
   "outputs": [
    {
     "data": {
      "text/plain": [
       "0    [أَصبَحَ المُلك لِلَّذي فَطر الخَل, قَ بِتَقدي...\n",
       "Name: poem verses, dtype: object"
      ]
     },
     "execution_count": 76,
     "metadata": {},
     "output_type": "execute_result"
    }
   ],
   "source": [
    "df_gen.head(1)"
   ]
  },
  {
   "cell_type": "code",
   "execution_count": 77,
   "metadata": {},
   "outputs": [],
   "source": [
    "df_gen = pd.DataFrame(df_gen, columns=['poem verses'])"
   ]
  },
  {
   "cell_type": "code",
   "execution_count": 78,
   "metadata": {},
   "outputs": [
    {
     "data": {
      "text/html": [
       "<div>\n",
       "<style scoped>\n",
       "    .dataframe tbody tr th:only-of-type {\n",
       "        vertical-align: middle;\n",
       "    }\n",
       "\n",
       "    .dataframe tbody tr th {\n",
       "        vertical-align: top;\n",
       "    }\n",
       "\n",
       "    .dataframe thead th {\n",
       "        text-align: right;\n",
       "    }\n",
       "</style>\n",
       "<table border=\"1\" class=\"dataframe\">\n",
       "  <thead>\n",
       "    <tr style=\"text-align: right;\">\n",
       "      <th></th>\n",
       "      <th>poem verses</th>\n",
       "      <th>first_two</th>\n",
       "      <th>others_joined</th>\n",
       "    </tr>\n",
       "  </thead>\n",
       "  <tbody>\n",
       "    <tr>\n",
       "      <th>0</th>\n",
       "      <td>[أَصبَحَ المُلك لِلَّذي فَطر الخَل, قَ بِتَقدي...</td>\n",
       "      <td>أَصبَحَ المُلك لِلَّذي فَطر الخَل قَ بِتَقديرٍ...</td>\n",
       "      <td>غافر الذَنب للمسيءِ بِعَفوٍ قابل التَوب ذي الع...</td>\n",
       "    </tr>\n",
       "    <tr>\n",
       "      <th>1</th>\n",
       "      <td>[مِن أَي مَولى اِرتَجي, وَلاي باب التَجي, وَال...</td>\n",
       "      <td>مِن أَي مَولى اِرتَجي وَلاي باب التَجي</td>\n",
       "      <td>وَاللَهُ حَيٌّ رازِقٌ يُعطي الجَزيل لمُرتَجي\\n...</td>\n",
       "    </tr>\n",
       "    <tr>\n",
       "      <th>2</th>\n",
       "      <td>[العَبد عَبدك يا مَن أَنتَ سَيدهُ, وَلَيسَ غَي...</td>\n",
       "      <td>العَبد عَبدك يا مَن أَنتَ سَيدهُ وَلَيسَ غَيرك...</td>\n",
       "      <td>أَنتَ الَّذي لِسَبيل الخَير تُرشِدُهُ مالي سَو...</td>\n",
       "    </tr>\n",
       "    <tr>\n",
       "      <th>3</th>\n",
       "      <td>[لَو كُنتَ أَطمَع بِالمَنام تَوهما, لَسالَت طَ...</td>\n",
       "      <td>لَو كُنتَ أَطمَع بِالمَنام تَوهما لَسالَت طَيف...</td>\n",
       "      <td>حاشا صُدودك أَن تَذم فَإِنَّها تَحلو لَدَيَّ و...</td>\n",
       "    </tr>\n",
       "    <tr>\n",
       "      <th>4</th>\n",
       "      <td>[يعد عَليَّ أَنفاسي ذُنوباً, إِذا ما قُلت أَفد...</td>\n",
       "      <td>يعد عَليَّ أَنفاسي ذُنوباً إِذا ما قُلت أَفديه...</td>\n",
       "      <td>وَأَبعد ما يَكون الود مِنهُ إِذا ما باتَ مِن أ...</td>\n",
       "    </tr>\n",
       "  </tbody>\n",
       "</table>\n",
       "</div>"
      ],
      "text/plain": [
       "                                         poem verses  \\\n",
       "0  [أَصبَحَ المُلك لِلَّذي فَطر الخَل, قَ بِتَقدي...   \n",
       "1  [مِن أَي مَولى اِرتَجي, وَلاي باب التَجي, وَال...   \n",
       "2  [العَبد عَبدك يا مَن أَنتَ سَيدهُ, وَلَيسَ غَي...   \n",
       "3  [لَو كُنتَ أَطمَع بِالمَنام تَوهما, لَسالَت طَ...   \n",
       "4  [يعد عَليَّ أَنفاسي ذُنوباً, إِذا ما قُلت أَفد...   \n",
       "\n",
       "                                           first_two  \\\n",
       "0  أَصبَحَ المُلك لِلَّذي فَطر الخَل قَ بِتَقديرٍ...   \n",
       "1             مِن أَي مَولى اِرتَجي وَلاي باب التَجي   \n",
       "2  العَبد عَبدك يا مَن أَنتَ سَيدهُ وَلَيسَ غَيرك...   \n",
       "3  لَو كُنتَ أَطمَع بِالمَنام تَوهما لَسالَت طَيف...   \n",
       "4  يعد عَليَّ أَنفاسي ذُنوباً إِذا ما قُلت أَفديه...   \n",
       "\n",
       "                                       others_joined  \n",
       "0  غافر الذَنب للمسيءِ بِعَفوٍ قابل التَوب ذي الع...  \n",
       "1  وَاللَهُ حَيٌّ رازِقٌ يُعطي الجَزيل لمُرتَجي\\n...  \n",
       "2  أَنتَ الَّذي لِسَبيل الخَير تُرشِدُهُ مالي سَو...  \n",
       "3  حاشا صُدودك أَن تَذم فَإِنَّها تَحلو لَدَيَّ و...  \n",
       "4  وَأَبعد ما يَكون الود مِنهُ إِذا ما باتَ مِن أ...  "
      ]
     },
     "execution_count": 78,
     "metadata": {},
     "output_type": "execute_result"
    }
   ],
   "source": [
    "def split_poem(poem):\n",
    "\n",
    "    first = ' '.join(poem[:2])\n",
    "    \n",
    "    rest = '\\n'.join([' '.join(poem[i:i+2]) for i in range(2, len(poem), 2)])\n",
    "    \n",
    "    return pd.Series([first, rest])\n",
    "\n",
    "\n",
    "df_gen[['first_two', 'others_joined']] = df_gen['poem verses'].apply(split_poem)\n",
    "\n",
    "df_gen.head()"
   ]
  },
  {
   "cell_type": "code",
   "execution_count": 79,
   "metadata": {},
   "outputs": [
    {
     "data": {
      "text/plain": [
       "poem verses      [أَصبَحَ المُلك لِلَّذي فَطر الخَل, قَ بِتَقدي...\n",
       "first_two        أَصبَحَ المُلك لِلَّذي فَطر الخَل قَ بِتَقديرٍ...\n",
       "others_joined    غافر الذَنب للمسيءِ بِعَفوٍ قابل التَوب ذي الع...\n",
       "Name: 0, dtype: object"
      ]
     },
     "execution_count": 79,
     "metadata": {},
     "output_type": "execute_result"
    }
   ],
   "source": [
    "df_gen.loc[0]"
   ]
  },
  {
   "cell_type": "code",
   "execution_count": 80,
   "metadata": {},
   "outputs": [
    {
     "name": "stdout",
     "output_type": "stream",
     "text": [
      "poem verses      [مِن أَي مَولى اِرتَجي, وَلاي باب التَجي, وَاللَهُ حَيٌّ رازِقٌ, يُعطي الجَزيل لمُرتَجي, رَب جَواد لَم يَزَل, مِن كُل ضيقٍ مَخرَجي, إِن رُحت أَرجوغَيرَهُ, خابَ الرواح مَع المَجي, يا عَيس آمالي أَقصدي, باب الكَريم وَعَرجي, وَضَعي رِحالك وَاِرتَعي, فَالأُم حَمل المُزعجِ, وَتَوسَلي بِمُحمدٍ, وَبِآلهِ كَي تَنتجي, الهاشمي المُصطَفى, صج الهُدى المُتَبَلِجِ, وَبِشَيبة الصَديق صا, حب كل فَضل أَبهَجِ, وَالسَيد الفاروق مِن, بِسِوى الهُدى لَم يَلهجِ, وَبصنوه عُثمان ذي الن, نورَين أَقوم مَنهَجِ, وَعَليٍّ الكرّار فا, تح كُل باب مُرتجِ, وَبَقية الصَحب الكِرا, م أَولي الثَنا المُتَأرجِ, هُم أَبحر الفَضل الَّذي, نَ بِغَيرِهُم لَم تُفرجِ, وَكَذا السَفينة إِن نَجَت, فَجَميع مَن فيها نَجي]\n",
      "first_two                                                                                                                                                                                                                                                                                                                                                                                                                                                                                                                                                                                                                                                                         مِن أَي مَولى اِرتَجي وَلاي باب التَجي\n",
      "others_joined                                                             وَاللَهُ حَيٌّ رازِقٌ يُعطي الجَزيل لمُرتَجي\\nرَب جَواد لَم يَزَل مِن كُل ضيقٍ مَخرَجي\\nإِن رُحت أَرجوغَيرَهُ خابَ الرواح مَع المَجي\\nيا عَيس آمالي أَقصدي باب الكَريم وَعَرجي\\nوَضَعي رِحالك وَاِرتَعي فَالأُم حَمل المُزعجِ\\nوَتَوسَلي بِمُحمدٍ وَبِآلهِ كَي تَنتجي\\nالهاشمي المُصطَفى صج الهُدى المُتَبَلِجِ\\nوَبِشَيبة الصَديق صا حب كل فَضل أَبهَجِ\\nوَالسَيد الفاروق مِن بِسِوى الهُدى لَم يَلهجِ\\nوَبصنوه عُثمان ذي الن نورَين أَقوم مَنهَجِ\\nوَعَليٍّ الكرّار فا تح كُل باب مُرتجِ\\nوَبَقية الصَحب الكِرا م أَولي الثَنا المُتَأرجِ\\nهُم أَبحر الفَضل الَّذي نَ بِغَيرِهُم لَم تُفرجِ\\nوَكَذا السَفينة إِن نَجَت فَجَميع مَن فيها نَجي\n",
      "Name: 1, dtype: object\n"
     ]
    }
   ],
   "source": [
    "with pd.option_context('display.max_colwidth', None):\n",
    "    print(df_gen.iloc[1]) \n"
   ]
  },
  {
   "cell_type": "code",
   "execution_count": 81,
   "metadata": {},
   "outputs": [
    {
     "name": "stdout",
     "output_type": "stream",
     "text": [
      "JSON file created successfully.\n"
     ]
    }
   ],
   "source": [
    "\n",
    "json_data = [\n",
    "    {\"input\": \n",
    "    f\"اكتب أبياتًا بعد هذا البيت: {row['first_two']}\",\n",
    "     \"output\": row['others_joined']}\n",
    "    for _, row in df_gen.sample(frac=0.25, random_state=42).iterrows() if \"\\n\" in row['others_joined']\n",
    "]\n",
    "\n",
    "\n",
    "with open('train_gen50.json', 'w', encoding='utf-8') as json_file:\n",
    "    json.dump(json_data, json_file, ensure_ascii=False, indent=4)\n",
    "\n",
    "print(\"JSON file created successfully.\")"
   ]
  },
  {
   "cell_type": "markdown",
   "metadata": {},
   "source": [
    "# Test Preparation"
   ]
  },
  {
   "cell_type": "markdown",
   "metadata": {},
   "source": [
    "## Classification"
   ]
  },
  {
   "cell_type": "code",
   "execution_count": 44,
   "metadata": {},
   "outputs": [
    {
     "data": {
      "text/plain": [
       "array(['الخفيف', 'مجزوء الرمل', 'البسيط', 'الكامل', 'الوافر', 'الطويل',\n",
       "       'السريع', 'المنسرح', 'مجزوء الكامل', 'المجتث', 'الرمل',\n",
       "       'مجزوء الوافر', 'المتقارب', 'مخلع البسيط', 'مجزوء الرجز',\n",
       "       'مجزوء الخفيف', 'الرجز', 'المديد', 'الهزج', 'مجزوء البسيط',\n",
       "       'منهوك المنسرح', 'أحذ الكامل', 'مشطور الرجز', 'المضارع', 'المقتضب',\n",
       "       'مجزوء المتقارب', 'مجزوء السريع', 'منهوك الرجز'], dtype=object)"
      ]
     },
     "execution_count": 44,
     "metadata": {},
     "output_type": "execute_result"
    }
   ],
   "source": [
    "df_filtered['poem meter'].unique()"
   ]
  },
  {
   "cell_type": "code",
   "execution_count": 45,
   "metadata": {},
   "outputs": [
    {
     "data": {
      "text/html": [
       "<div>\n",
       "<style scoped>\n",
       "    .dataframe tbody tr th:only-of-type {\n",
       "        vertical-align: middle;\n",
       "    }\n",
       "\n",
       "    .dataframe tbody tr th {\n",
       "        vertical-align: top;\n",
       "    }\n",
       "\n",
       "    .dataframe thead th {\n",
       "        text-align: right;\n",
       "    }\n",
       "</style>\n",
       "<table border=\"1\" class=\"dataframe\">\n",
       "  <thead>\n",
       "    <tr style=\"text-align: right;\">\n",
       "      <th></th>\n",
       "      <th>input</th>\n",
       "      <th>output</th>\n",
       "    </tr>\n",
       "  </thead>\n",
       "  <tbody>\n",
       "    <tr>\n",
       "      <th>0</th>\n",
       "      <td>ما هو البحر الشعري لهذا البيت؟ مَقصِدُها سُدَّ...</td>\n",
       "      <td>مجزوء السريع</td>\n",
       "    </tr>\n",
       "    <tr>\n",
       "      <th>1</th>\n",
       "      <td>ما هو البحر الشعري لهذا البيت؟ ينم باديه على ا...</td>\n",
       "      <td>مشطور الرجز</td>\n",
       "    </tr>\n",
       "    <tr>\n",
       "      <th>2</th>\n",
       "      <td>ما هو البحر الشعري لهذا البيت؟ مــــزَّقــــتْ...</td>\n",
       "      <td>المديد</td>\n",
       "    </tr>\n",
       "    <tr>\n",
       "      <th>3</th>\n",
       "      <td>ما هو البحر الشعري لهذا البيت؟ فــي طــيــه لل...</td>\n",
       "      <td>السريع</td>\n",
       "    </tr>\n",
       "    <tr>\n",
       "      <th>4</th>\n",
       "      <td>ما هو البحر الشعري لهذا البيت؟ وعــكــســه الث...</td>\n",
       "      <td>الرجز</td>\n",
       "    </tr>\n",
       "  </tbody>\n",
       "</table>\n",
       "</div>"
      ],
      "text/plain": [
       "                                               input        output\n",
       "0  ما هو البحر الشعري لهذا البيت؟ مَقصِدُها سُدَّ...  مجزوء السريع\n",
       "1  ما هو البحر الشعري لهذا البيت؟ ينم باديه على ا...   مشطور الرجز\n",
       "2  ما هو البحر الشعري لهذا البيت؟ مــــزَّقــــتْ...        المديد\n",
       "3  ما هو البحر الشعري لهذا البيت؟ فــي طــيــه لل...        السريع\n",
       "4  ما هو البحر الشعري لهذا البيت؟ وعــكــســه الث...         الرجز"
      ]
     },
     "execution_count": 45,
     "metadata": {},
     "output_type": "execute_result"
    }
   ],
   "source": [
    "df_utrain = pd.read_json(\"USED_DATA/train.json\")\n",
    "df_utrain.head()\n"
   ]
  },
  {
   "cell_type": "code",
   "execution_count": 46,
   "metadata": {},
   "outputs": [
    {
     "data": {
      "text/html": [
       "<div>\n",
       "<style scoped>\n",
       "    .dataframe tbody tr th:only-of-type {\n",
       "        vertical-align: middle;\n",
       "    }\n",
       "\n",
       "    .dataframe tbody tr th {\n",
       "        vertical-align: top;\n",
       "    }\n",
       "\n",
       "    .dataframe thead th {\n",
       "        text-align: right;\n",
       "    }\n",
       "</style>\n",
       "<table border=\"1\" class=\"dataframe\">\n",
       "  <thead>\n",
       "    <tr style=\"text-align: right;\">\n",
       "      <th></th>\n",
       "      <th>single verses</th>\n",
       "      <th>poem meter</th>\n",
       "    </tr>\n",
       "  </thead>\n",
       "  <tbody>\n",
       "    <tr>\n",
       "      <th>0</th>\n",
       "      <td>أَصبَحَ المُلك لِلَّذي فَطر الخَل قَ بِتَقديرٍ...</td>\n",
       "      <td>الخفيف</td>\n",
       "    </tr>\n",
       "    <tr>\n",
       "      <th>1</th>\n",
       "      <td>غافر الذَنب للمسيءِ بِعَفوٍ قابل التَوب ذي الع...</td>\n",
       "      <td>الخفيف</td>\n",
       "    </tr>\n",
       "    <tr>\n",
       "      <th>2</th>\n",
       "      <td>مُرسل المُصطَفى البَشير إِلَينا رَحمة مِنهُ بِ...</td>\n",
       "      <td>الخفيف</td>\n",
       "    </tr>\n",
       "    <tr>\n",
       "      <th>3</th>\n",
       "      <td>رَبَنا رَبّنا إِلَيكَ أَنينا فَأَجرنا مِن حَر ...</td>\n",
       "      <td>الخفيف</td>\n",
       "    </tr>\n",
       "    <tr>\n",
       "      <th>4</th>\n",
       "      <td>وَاكفِنا شَرّ ما نَخاف بِلُطفٍ يا عَظيماً يَرج...</td>\n",
       "      <td>الخفيف</td>\n",
       "    </tr>\n",
       "  </tbody>\n",
       "</table>\n",
       "</div>"
      ],
      "text/plain": [
       "                                       single verses poem meter\n",
       "0  أَصبَحَ المُلك لِلَّذي فَطر الخَل قَ بِتَقديرٍ...     الخفيف\n",
       "1  غافر الذَنب للمسيءِ بِعَفوٍ قابل التَوب ذي الع...     الخفيف\n",
       "2  مُرسل المُصطَفى البَشير إِلَينا رَحمة مِنهُ بِ...     الخفيف\n",
       "3  رَبَنا رَبّنا إِلَيكَ أَنينا فَأَجرنا مِن حَر ...     الخفيف\n",
       "4  وَاكفِنا شَرّ ما نَخاف بِلُطفٍ يا عَظيماً يَرج...     الخفيف"
      ]
     },
     "execution_count": 46,
     "metadata": {},
     "output_type": "execute_result"
    }
   ],
   "source": [
    "df_filtered.head()"
   ]
  },
  {
   "cell_type": "code",
   "execution_count": 47,
   "metadata": {},
   "outputs": [
    {
     "name": "stdout",
     "output_type": "stream",
     "text": [
      "['مجزوء البسيط', 'منهوك المنسرح', 'مشطور الرجز', 'المضارع', 'المقتضب', 'مجزوء المتقارب', 'مجزوء السريع', 'منهوك الرجز']\n",
      "8\n"
     ]
    }
   ],
   "source": [
    "least = []\n",
    "for meter in df_filtered['poem meter'].unique():\n",
    "    # Get the verses corresponding to the current meter\n",
    "    current_data = df_filtered[df_filtered['poem meter'] == meter]\n",
    "    if len(current_data) < 2000:\n",
    "        if not meter in least:\n",
    "            least.append(meter)\n",
    "\n",
    "print(least)\n",
    "print(len(least))"
   ]
  },
  {
   "cell_type": "code",
   "execution_count": 48,
   "metadata": {},
   "outputs": [
    {
     "data": {
      "text/html": [
       "<div>\n",
       "<style scoped>\n",
       "    .dataframe tbody tr th:only-of-type {\n",
       "        vertical-align: middle;\n",
       "    }\n",
       "\n",
       "    .dataframe tbody tr th {\n",
       "        vertical-align: top;\n",
       "    }\n",
       "\n",
       "    .dataframe thead th {\n",
       "        text-align: right;\n",
       "    }\n",
       "</style>\n",
       "<table border=\"1\" class=\"dataframe\">\n",
       "  <thead>\n",
       "    <tr style=\"text-align: right;\">\n",
       "      <th></th>\n",
       "      <th>single verses</th>\n",
       "      <th>poem meter</th>\n",
       "    </tr>\n",
       "  </thead>\n",
       "  <tbody>\n",
       "    <tr>\n",
       "      <th>0</th>\n",
       "      <td>أَصبَحَ المُلك لِلَّذي فَطر الخَل قَ بِتَقديرٍ...</td>\n",
       "      <td>الخفيف</td>\n",
       "    </tr>\n",
       "    <tr>\n",
       "      <th>1</th>\n",
       "      <td>غافر الذَنب للمسيءِ بِعَفوٍ قابل التَوب ذي الع...</td>\n",
       "      <td>الخفيف</td>\n",
       "    </tr>\n",
       "    <tr>\n",
       "      <th>2</th>\n",
       "      <td>مُرسل المُصطَفى البَشير إِلَينا رَحمة مِنهُ بِ...</td>\n",
       "      <td>الخفيف</td>\n",
       "    </tr>\n",
       "    <tr>\n",
       "      <th>3</th>\n",
       "      <td>رَبَنا رَبّنا إِلَيكَ أَنينا فَأَجرنا مِن حَر ...</td>\n",
       "      <td>الخفيف</td>\n",
       "    </tr>\n",
       "    <tr>\n",
       "      <th>4</th>\n",
       "      <td>وَاكفِنا شَرّ ما نَخاف بِلُطفٍ يا عَظيماً يَرج...</td>\n",
       "      <td>الخفيف</td>\n",
       "    </tr>\n",
       "    <tr>\n",
       "      <th>...</th>\n",
       "      <td>...</td>\n",
       "      <td>...</td>\n",
       "    </tr>\n",
       "    <tr>\n",
       "      <th>3869614</th>\n",
       "      <td>مقامه إذ تجلى وفي البيد إذ تحلى</td>\n",
       "      <td>المضارع</td>\n",
       "    </tr>\n",
       "    <tr>\n",
       "      <th>3869615</th>\n",
       "      <td>على بابك انتظرنا وفي البال ألف حيلة</td>\n",
       "      <td>المضارع</td>\n",
       "    </tr>\n",
       "    <tr>\n",
       "      <th>3869616</th>\n",
       "      <td>من الوصل لا تجرنا وعسرنا أن تزيله</td>\n",
       "      <td>المضارع</td>\n",
       "    </tr>\n",
       "    <tr>\n",
       "      <th>3869617</th>\n",
       "      <td>خذ الصفر لا تبالي فللصفر للرجال</td>\n",
       "      <td>المضارع</td>\n",
       "    </tr>\n",
       "    <tr>\n",
       "      <th>3869618</th>\n",
       "      <td>وليس في ذاك شين وما عز في المنال</td>\n",
       "      <td>المضارع</td>\n",
       "    </tr>\n",
       "  </tbody>\n",
       "</table>\n",
       "<p>1793916 rows × 2 columns</p>\n",
       "</div>"
      ],
      "text/plain": [
       "                                             single verses poem meter\n",
       "0        أَصبَحَ المُلك لِلَّذي فَطر الخَل قَ بِتَقديرٍ...     الخفيف\n",
       "1        غافر الذَنب للمسيءِ بِعَفوٍ قابل التَوب ذي الع...     الخفيف\n",
       "2        مُرسل المُصطَفى البَشير إِلَينا رَحمة مِنهُ بِ...     الخفيف\n",
       "3        رَبَنا رَبّنا إِلَيكَ أَنينا فَأَجرنا مِن حَر ...     الخفيف\n",
       "4        وَاكفِنا شَرّ ما نَخاف بِلُطفٍ يا عَظيماً يَرج...     الخفيف\n",
       "...                                                    ...        ...\n",
       "3869614                    مقامه إذ تجلى وفي البيد إذ تحلى    المضارع\n",
       "3869615                على بابك انتظرنا وفي البال ألف حيلة    المضارع\n",
       "3869616                  من الوصل لا تجرنا وعسرنا أن تزيله    المضارع\n",
       "3869617                    خذ الصفر لا تبالي فللصفر للرجال    المضارع\n",
       "3869618                   وليس في ذاك شين وما عز في المنال    المضارع\n",
       "\n",
       "[1793916 rows x 2 columns]"
      ]
     },
     "execution_count": 48,
     "metadata": {},
     "output_type": "execute_result"
    }
   ],
   "source": [
    "df_filtered"
   ]
  },
  {
   "cell_type": "code",
   "execution_count": 49,
   "metadata": {},
   "outputs": [],
   "source": [
    "# duplicate_column = 'output'\n",
    "\n",
    "# df_filtered = df_filtered.loc[:, ~df_filtered.columns.duplicated(keep='first')]"
   ]
  },
  {
   "cell_type": "code",
   "execution_count": 50,
   "metadata": {},
   "outputs": [],
   "source": [
    "# df_filtered.head()"
   ]
  },
  {
   "cell_type": "code",
   "execution_count": 51,
   "metadata": {},
   "outputs": [],
   "source": [
    "df_filtered = df_filtered.rename(columns={'single verses': 'input'})\n",
    "df_filtered = df_filtered.rename(columns={'poem meter': 'output'})"
   ]
  },
  {
   "cell_type": "code",
   "execution_count": 52,
   "metadata": {},
   "outputs": [
    {
     "data": {
      "text/html": [
       "<div>\n",
       "<style scoped>\n",
       "    .dataframe tbody tr th:only-of-type {\n",
       "        vertical-align: middle;\n",
       "    }\n",
       "\n",
       "    .dataframe tbody tr th {\n",
       "        vertical-align: top;\n",
       "    }\n",
       "\n",
       "    .dataframe thead th {\n",
       "        text-align: right;\n",
       "    }\n",
       "</style>\n",
       "<table border=\"1\" class=\"dataframe\">\n",
       "  <thead>\n",
       "    <tr style=\"text-align: right;\">\n",
       "      <th></th>\n",
       "      <th>input</th>\n",
       "      <th>output</th>\n",
       "    </tr>\n",
       "  </thead>\n",
       "  <tbody>\n",
       "    <tr>\n",
       "      <th>0</th>\n",
       "      <td>أَصبَحَ المُلك لِلَّذي فَطر الخَل قَ بِتَقديرٍ...</td>\n",
       "      <td>الخفيف</td>\n",
       "    </tr>\n",
       "    <tr>\n",
       "      <th>1</th>\n",
       "      <td>غافر الذَنب للمسيءِ بِعَفوٍ قابل التَوب ذي الع...</td>\n",
       "      <td>الخفيف</td>\n",
       "    </tr>\n",
       "    <tr>\n",
       "      <th>2</th>\n",
       "      <td>مُرسل المُصطَفى البَشير إِلَينا رَحمة مِنهُ بِ...</td>\n",
       "      <td>الخفيف</td>\n",
       "    </tr>\n",
       "    <tr>\n",
       "      <th>3</th>\n",
       "      <td>رَبَنا رَبّنا إِلَيكَ أَنينا فَأَجرنا مِن حَر ...</td>\n",
       "      <td>الخفيف</td>\n",
       "    </tr>\n",
       "    <tr>\n",
       "      <th>4</th>\n",
       "      <td>وَاكفِنا شَرّ ما نَخاف بِلُطفٍ يا عَظيماً يَرج...</td>\n",
       "      <td>الخفيف</td>\n",
       "    </tr>\n",
       "  </tbody>\n",
       "</table>\n",
       "</div>"
      ],
      "text/plain": [
       "                                               input  output\n",
       "0  أَصبَحَ المُلك لِلَّذي فَطر الخَل قَ بِتَقديرٍ...  الخفيف\n",
       "1  غافر الذَنب للمسيءِ بِعَفوٍ قابل التَوب ذي الع...  الخفيف\n",
       "2  مُرسل المُصطَفى البَشير إِلَينا رَحمة مِنهُ بِ...  الخفيف\n",
       "3  رَبَنا رَبّنا إِلَيكَ أَنينا فَأَجرنا مِن حَر ...  الخفيف\n",
       "4  وَاكفِنا شَرّ ما نَخاف بِلُطفٍ يا عَظيماً يَرج...  الخفيف"
      ]
     },
     "execution_count": 52,
     "metadata": {},
     "output_type": "execute_result"
    }
   ],
   "source": [
    "df_filtered.head()"
   ]
  },
  {
   "cell_type": "code",
   "execution_count": 53,
   "metadata": {},
   "outputs": [],
   "source": [
    "df_to_exclude = df_filtered.copy()"
   ]
  },
  {
   "cell_type": "code",
   "execution_count": 54,
   "metadata": {},
   "outputs": [],
   "source": [
    "df_formatted = df_filtered.copy()"
   ]
  },
  {
   "cell_type": "code",
   "execution_count": 55,
   "metadata": {},
   "outputs": [],
   "source": [
    "df_to_exclude['input']= \"ما هو البحر الشعري لهذا البيت؟ \" + df_to_exclude['input'].astype(str)"
   ]
  },
  {
   "cell_type": "code",
   "execution_count": 56,
   "metadata": {},
   "outputs": [
    {
     "data": {
      "text/html": [
       "<div>\n",
       "<style scoped>\n",
       "    .dataframe tbody tr th:only-of-type {\n",
       "        vertical-align: middle;\n",
       "    }\n",
       "\n",
       "    .dataframe tbody tr th {\n",
       "        vertical-align: top;\n",
       "    }\n",
       "\n",
       "    .dataframe thead th {\n",
       "        text-align: right;\n",
       "    }\n",
       "</style>\n",
       "<table border=\"1\" class=\"dataframe\">\n",
       "  <thead>\n",
       "    <tr style=\"text-align: right;\">\n",
       "      <th></th>\n",
       "      <th>input</th>\n",
       "      <th>output</th>\n",
       "    </tr>\n",
       "  </thead>\n",
       "  <tbody>\n",
       "    <tr>\n",
       "      <th>0</th>\n",
       "      <td>ما هو البحر الشعري لهذا البيت؟ أَصبَحَ المُلك ...</td>\n",
       "      <td>الخفيف</td>\n",
       "    </tr>\n",
       "    <tr>\n",
       "      <th>1</th>\n",
       "      <td>ما هو البحر الشعري لهذا البيت؟ غافر الذَنب للم...</td>\n",
       "      <td>الخفيف</td>\n",
       "    </tr>\n",
       "    <tr>\n",
       "      <th>2</th>\n",
       "      <td>ما هو البحر الشعري لهذا البيت؟ مُرسل المُصطَفى...</td>\n",
       "      <td>الخفيف</td>\n",
       "    </tr>\n",
       "    <tr>\n",
       "      <th>3</th>\n",
       "      <td>ما هو البحر الشعري لهذا البيت؟ رَبَنا رَبّنا إ...</td>\n",
       "      <td>الخفيف</td>\n",
       "    </tr>\n",
       "    <tr>\n",
       "      <th>4</th>\n",
       "      <td>ما هو البحر الشعري لهذا البيت؟ وَاكفِنا شَرّ م...</td>\n",
       "      <td>الخفيف</td>\n",
       "    </tr>\n",
       "  </tbody>\n",
       "</table>\n",
       "</div>"
      ],
      "text/plain": [
       "                                               input  output\n",
       "0  ما هو البحر الشعري لهذا البيت؟ أَصبَحَ المُلك ...  الخفيف\n",
       "1  ما هو البحر الشعري لهذا البيت؟ غافر الذَنب للم...  الخفيف\n",
       "2  ما هو البحر الشعري لهذا البيت؟ مُرسل المُصطَفى...  الخفيف\n",
       "3  ما هو البحر الشعري لهذا البيت؟ رَبَنا رَبّنا إ...  الخفيف\n",
       "4  ما هو البحر الشعري لهذا البيت؟ وَاكفِنا شَرّ م...  الخفيف"
      ]
     },
     "execution_count": 56,
     "metadata": {},
     "output_type": "execute_result"
    }
   ],
   "source": [
    "df_to_exclude.head()"
   ]
  },
  {
   "cell_type": "code",
   "execution_count": 57,
   "metadata": {},
   "outputs": [],
   "source": [
    "# df_filtered['input']= \"ما هو البحر الشعري لهذا البيت؟ \" + df_filtered['input'].astype(str)\n",
    "df_formatted['input'] = df_formatted['input'].apply(lambda x: f\"\"\"\n",
    "        \"ما هو البحر الشعري لهذا البيت؟ \"\n",
    "        {str(x)}\n",
    "        \"\"\")"
   ]
  },
  {
   "cell_type": "code",
   "execution_count": 58,
   "metadata": {},
   "outputs": [
    {
     "data": {
      "text/html": [
       "<div>\n",
       "<style scoped>\n",
       "    .dataframe tbody tr th:only-of-type {\n",
       "        vertical-align: middle;\n",
       "    }\n",
       "\n",
       "    .dataframe tbody tr th {\n",
       "        vertical-align: top;\n",
       "    }\n",
       "\n",
       "    .dataframe thead th {\n",
       "        text-align: right;\n",
       "    }\n",
       "</style>\n",
       "<table border=\"1\" class=\"dataframe\">\n",
       "  <thead>\n",
       "    <tr style=\"text-align: right;\">\n",
       "      <th></th>\n",
       "      <th>input</th>\n",
       "      <th>output</th>\n",
       "    </tr>\n",
       "  </thead>\n",
       "  <tbody>\n",
       "    <tr>\n",
       "      <th>0</th>\n",
       "      <td>\\n        \"ما هو البحر الشعري لهذا البيت؟ \"\\n ...</td>\n",
       "      <td>الخفيف</td>\n",
       "    </tr>\n",
       "    <tr>\n",
       "      <th>1</th>\n",
       "      <td>\\n        \"ما هو البحر الشعري لهذا البيت؟ \"\\n ...</td>\n",
       "      <td>الخفيف</td>\n",
       "    </tr>\n",
       "    <tr>\n",
       "      <th>2</th>\n",
       "      <td>\\n        \"ما هو البحر الشعري لهذا البيت؟ \"\\n ...</td>\n",
       "      <td>الخفيف</td>\n",
       "    </tr>\n",
       "    <tr>\n",
       "      <th>3</th>\n",
       "      <td>\\n        \"ما هو البحر الشعري لهذا البيت؟ \"\\n ...</td>\n",
       "      <td>الخفيف</td>\n",
       "    </tr>\n",
       "    <tr>\n",
       "      <th>4</th>\n",
       "      <td>\\n        \"ما هو البحر الشعري لهذا البيت؟ \"\\n ...</td>\n",
       "      <td>الخفيف</td>\n",
       "    </tr>\n",
       "  </tbody>\n",
       "</table>\n",
       "</div>"
      ],
      "text/plain": [
       "                                               input  output\n",
       "0  \\n        \"ما هو البحر الشعري لهذا البيت؟ \"\\n ...  الخفيف\n",
       "1  \\n        \"ما هو البحر الشعري لهذا البيت؟ \"\\n ...  الخفيف\n",
       "2  \\n        \"ما هو البحر الشعري لهذا البيت؟ \"\\n ...  الخفيف\n",
       "3  \\n        \"ما هو البحر الشعري لهذا البيت؟ \"\\n ...  الخفيف\n",
       "4  \\n        \"ما هو البحر الشعري لهذا البيت؟ \"\\n ...  الخفيف"
      ]
     },
     "execution_count": 58,
     "metadata": {},
     "output_type": "execute_result"
    }
   ],
   "source": [
    "df_formatted.head()"
   ]
  },
  {
   "cell_type": "code",
   "execution_count": 59,
   "metadata": {},
   "outputs": [
    {
     "data": {
      "text/plain": [
       "31"
      ]
     },
     "execution_count": 59,
     "metadata": {},
     "output_type": "execute_result"
    }
   ],
   "source": [
    "len(\"ما هو البحر الشعري لهذا البيت؟ \" )"
   ]
  },
  {
   "cell_type": "code",
   "execution_count": 60,
   "metadata": {},
   "outputs": [
    {
     "name": "stdout",
     "output_type": "stream",
     "text": [
      "1793916\n",
      "56000\n",
      "1750409\n",
      "1737916\n",
      "False\n"
     ]
    }
   ],
   "source": [
    "df_diff = df_to_exclude.merge(df_utrain, how='left', indicator=True)\n",
    "df_diff = df_diff[df_diff['_merge']=='left_only']\n",
    "\n",
    "print(len(df_to_exclude))\n",
    "print(len(df_utrain))\n",
    "print(len(df_diff))\n",
    "print(len(df_to_exclude) - len(df_utrain))\n",
    "print(len(df_to_exclude) - len(df_utrain) == len(df_utrain))\n"
   ]
  },
  {
   "cell_type": "code",
   "execution_count": 61,
   "metadata": {},
   "outputs": [
    {
     "data": {
      "text/plain": [
       "46507"
      ]
     },
     "execution_count": 61,
     "metadata": {},
     "output_type": "execute_result"
    }
   ],
   "source": [
    "df_both = df_to_exclude.merge(df_utrain, how='left', indicator=True)\n",
    "df_both = df_both[df_both['_merge']=='both']\n",
    "len(df_both)"
   ]
  },
  {
   "cell_type": "code",
   "execution_count": 62,
   "metadata": {},
   "outputs": [
    {
     "data": {
      "text/html": [
       "<div>\n",
       "<style scoped>\n",
       "    .dataframe tbody tr th:only-of-type {\n",
       "        vertical-align: middle;\n",
       "    }\n",
       "\n",
       "    .dataframe tbody tr th {\n",
       "        vertical-align: top;\n",
       "    }\n",
       "\n",
       "    .dataframe thead th {\n",
       "        text-align: right;\n",
       "    }\n",
       "</style>\n",
       "<table border=\"1\" class=\"dataframe\">\n",
       "  <thead>\n",
       "    <tr style=\"text-align: right;\">\n",
       "      <th></th>\n",
       "      <th>input</th>\n",
       "      <th>output</th>\n",
       "      <th>_merge</th>\n",
       "    </tr>\n",
       "  </thead>\n",
       "  <tbody>\n",
       "    <tr>\n",
       "      <th>0</th>\n",
       "      <td>ما هو البحر الشعري لهذا البيت؟ أَصبَحَ المُلك ...</td>\n",
       "      <td>الخفيف</td>\n",
       "      <td>left_only</td>\n",
       "    </tr>\n",
       "    <tr>\n",
       "      <th>1</th>\n",
       "      <td>ما هو البحر الشعري لهذا البيت؟ غافر الذَنب للم...</td>\n",
       "      <td>الخفيف</td>\n",
       "      <td>left_only</td>\n",
       "    </tr>\n",
       "    <tr>\n",
       "      <th>2</th>\n",
       "      <td>ما هو البحر الشعري لهذا البيت؟ مُرسل المُصطَفى...</td>\n",
       "      <td>الخفيف</td>\n",
       "      <td>left_only</td>\n",
       "    </tr>\n",
       "    <tr>\n",
       "      <th>3</th>\n",
       "      <td>ما هو البحر الشعري لهذا البيت؟ رَبَنا رَبّنا إ...</td>\n",
       "      <td>الخفيف</td>\n",
       "      <td>left_only</td>\n",
       "    </tr>\n",
       "    <tr>\n",
       "      <th>4</th>\n",
       "      <td>ما هو البحر الشعري لهذا البيت؟ وَاكفِنا شَرّ م...</td>\n",
       "      <td>الخفيف</td>\n",
       "      <td>left_only</td>\n",
       "    </tr>\n",
       "  </tbody>\n",
       "</table>\n",
       "</div>"
      ],
      "text/plain": [
       "                                               input  output     _merge\n",
       "0  ما هو البحر الشعري لهذا البيت؟ أَصبَحَ المُلك ...  الخفيف  left_only\n",
       "1  ما هو البحر الشعري لهذا البيت؟ غافر الذَنب للم...  الخفيف  left_only\n",
       "2  ما هو البحر الشعري لهذا البيت؟ مُرسل المُصطَفى...  الخفيف  left_only\n",
       "3  ما هو البحر الشعري لهذا البيت؟ رَبَنا رَبّنا إ...  الخفيف  left_only\n",
       "4  ما هو البحر الشعري لهذا البيت؟ وَاكفِنا شَرّ م...  الخفيف  left_only"
      ]
     },
     "execution_count": 62,
     "metadata": {},
     "output_type": "execute_result"
    }
   ],
   "source": [
    "df_diff.head()"
   ]
  },
  {
   "cell_type": "code",
   "execution_count": 63,
   "metadata": {},
   "outputs": [],
   "source": [
    "df_diff['input'] = df_diff['input'].str.replace(\"ما هو البحر الشعري لهذا البيت؟ \", \"\", regex=False)"
   ]
  },
  {
   "cell_type": "code",
   "execution_count": 64,
   "metadata": {},
   "outputs": [],
   "source": [
    "df_diff['input'] = df_diff['input'].apply(lambda x: f\"\"\"\n",
    "        \"ما هو البحر الشعري لهذا البيت؟ \"\n",
    "        {str(x)}\n",
    "        \"\"\")"
   ]
  },
  {
   "cell_type": "code",
   "execution_count": 65,
   "metadata": {},
   "outputs": [
    {
     "data": {
      "text/html": [
       "<div>\n",
       "<style scoped>\n",
       "    .dataframe tbody tr th:only-of-type {\n",
       "        vertical-align: middle;\n",
       "    }\n",
       "\n",
       "    .dataframe tbody tr th {\n",
       "        vertical-align: top;\n",
       "    }\n",
       "\n",
       "    .dataframe thead th {\n",
       "        text-align: right;\n",
       "    }\n",
       "</style>\n",
       "<table border=\"1\" class=\"dataframe\">\n",
       "  <thead>\n",
       "    <tr style=\"text-align: right;\">\n",
       "      <th></th>\n",
       "      <th>input</th>\n",
       "      <th>output</th>\n",
       "      <th>_merge</th>\n",
       "    </tr>\n",
       "  </thead>\n",
       "  <tbody>\n",
       "    <tr>\n",
       "      <th>0</th>\n",
       "      <td>\\n        \"ما هو البحر الشعري لهذا البيت؟ \"\\n ...</td>\n",
       "      <td>الخفيف</td>\n",
       "      <td>left_only</td>\n",
       "    </tr>\n",
       "    <tr>\n",
       "      <th>1</th>\n",
       "      <td>\\n        \"ما هو البحر الشعري لهذا البيت؟ \"\\n ...</td>\n",
       "      <td>الخفيف</td>\n",
       "      <td>left_only</td>\n",
       "    </tr>\n",
       "    <tr>\n",
       "      <th>2</th>\n",
       "      <td>\\n        \"ما هو البحر الشعري لهذا البيت؟ \"\\n ...</td>\n",
       "      <td>الخفيف</td>\n",
       "      <td>left_only</td>\n",
       "    </tr>\n",
       "    <tr>\n",
       "      <th>3</th>\n",
       "      <td>\\n        \"ما هو البحر الشعري لهذا البيت؟ \"\\n ...</td>\n",
       "      <td>الخفيف</td>\n",
       "      <td>left_only</td>\n",
       "    </tr>\n",
       "    <tr>\n",
       "      <th>4</th>\n",
       "      <td>\\n        \"ما هو البحر الشعري لهذا البيت؟ \"\\n ...</td>\n",
       "      <td>الخفيف</td>\n",
       "      <td>left_only</td>\n",
       "    </tr>\n",
       "  </tbody>\n",
       "</table>\n",
       "</div>"
      ],
      "text/plain": [
       "                                               input  output     _merge\n",
       "0  \\n        \"ما هو البحر الشعري لهذا البيت؟ \"\\n ...  الخفيف  left_only\n",
       "1  \\n        \"ما هو البحر الشعري لهذا البيت؟ \"\\n ...  الخفيف  left_only\n",
       "2  \\n        \"ما هو البحر الشعري لهذا البيت؟ \"\\n ...  الخفيف  left_only\n",
       "3  \\n        \"ما هو البحر الشعري لهذا البيت؟ \"\\n ...  الخفيف  left_only\n",
       "4  \\n        \"ما هو البحر الشعري لهذا البيت؟ \"\\n ...  الخفيف  left_only"
      ]
     },
     "execution_count": 65,
     "metadata": {},
     "output_type": "execute_result"
    }
   ],
   "source": [
    "df_diff.head()"
   ]
  },
  {
   "cell_type": "code",
   "execution_count": 66,
   "metadata": {},
   "outputs": [
    {
     "data": {
      "text/html": [
       "<div>\n",
       "<style scoped>\n",
       "    .dataframe tbody tr th:only-of-type {\n",
       "        vertical-align: middle;\n",
       "    }\n",
       "\n",
       "    .dataframe tbody tr th {\n",
       "        vertical-align: top;\n",
       "    }\n",
       "\n",
       "    .dataframe thead th {\n",
       "        text-align: right;\n",
       "    }\n",
       "</style>\n",
       "<table border=\"1\" class=\"dataframe\">\n",
       "  <thead>\n",
       "    <tr style=\"text-align: right;\">\n",
       "      <th></th>\n",
       "      <th>input</th>\n",
       "      <th>output</th>\n",
       "    </tr>\n",
       "  </thead>\n",
       "  <tbody>\n",
       "    <tr>\n",
       "      <th>0</th>\n",
       "      <td>ما هو البحر الشعري لهذا البيت؟ أَصبَحَ المُلك ...</td>\n",
       "      <td>الخفيف</td>\n",
       "    </tr>\n",
       "    <tr>\n",
       "      <th>1</th>\n",
       "      <td>ما هو البحر الشعري لهذا البيت؟ غافر الذَنب للم...</td>\n",
       "      <td>الخفيف</td>\n",
       "    </tr>\n",
       "    <tr>\n",
       "      <th>2</th>\n",
       "      <td>ما هو البحر الشعري لهذا البيت؟ مُرسل المُصطَفى...</td>\n",
       "      <td>الخفيف</td>\n",
       "    </tr>\n",
       "    <tr>\n",
       "      <th>3</th>\n",
       "      <td>ما هو البحر الشعري لهذا البيت؟ رَبَنا رَبّنا إ...</td>\n",
       "      <td>الخفيف</td>\n",
       "    </tr>\n",
       "    <tr>\n",
       "      <th>4</th>\n",
       "      <td>ما هو البحر الشعري لهذا البيت؟ وَاكفِنا شَرّ م...</td>\n",
       "      <td>الخفيف</td>\n",
       "    </tr>\n",
       "  </tbody>\n",
       "</table>\n",
       "</div>"
      ],
      "text/plain": [
       "                                               input  output\n",
       "0  ما هو البحر الشعري لهذا البيت؟ أَصبَحَ المُلك ...  الخفيف\n",
       "1  ما هو البحر الشعري لهذا البيت؟ غافر الذَنب للم...  الخفيف\n",
       "2  ما هو البحر الشعري لهذا البيت؟ مُرسل المُصطَفى...  الخفيف\n",
       "3  ما هو البحر الشعري لهذا البيت؟ رَبَنا رَبّنا إ...  الخفيف\n",
       "4  ما هو البحر الشعري لهذا البيت؟ وَاكفِنا شَرّ م...  الخفيف"
      ]
     },
     "execution_count": 66,
     "metadata": {},
     "output_type": "execute_result"
    }
   ],
   "source": [
    "df_to_exclude.head()"
   ]
  },
  {
   "cell_type": "code",
   "execution_count": null,
   "metadata": {},
   "outputs": [],
   "source": [
    "df_diff2 = df_to_exclude.merge(df_utrain, how='left', indicator=True)\n",
    "df_diff2 = df_diff2[df_diff2['_merge']=='left_only']\n",
    "\n",
    "print(len(df_to_exclude))\n",
    "print(len(df_utrain))\n",
    "print(len(df_diff2))\n",
    "print(len(df_to_exclude) - len(df_utrain))\n",
    "print(len(df_to_exclude) - len(df_utrain) == len(df_utrain))\n"
   ]
  },
  {
   "cell_type": "code",
   "execution_count": null,
   "metadata": {},
   "outputs": [],
   "source": [
    "json_data2 = [\n",
    "    {\"input\": row['input'],\n",
    "     \"output\": row['output']}\n",
    "    for _, row in df_diff2.sample(200,random_state=42,replace= False).iterrows()\n",
    "]\n",
    "json_data2"
   ]
  },
  {
   "cell_type": "code",
   "execution_count": null,
   "metadata": {},
   "outputs": [],
   "source": [
    "with open('test_cls_as_trained.json', 'w', encoding='utf-8') as json_file:\n",
    "    json.dump(json_data2, json_file, ensure_ascii=False, indent=4)\n",
    "\n",
    "print(\"JSON file created successfully.\")"
   ]
  },
  {
   "cell_type": "code",
   "execution_count": null,
   "metadata": {},
   "outputs": [],
   "source": [
    "json_data = [\n",
    "    {\"input\": row['input'],\n",
    "     \"output\": row['output']}\n",
    "    for _, row in df_diff.sample(200,random_state=42,replace= False).iterrows()\n",
    "]\n",
    "json_data"
   ]
  },
  {
   "cell_type": "code",
   "execution_count": null,
   "metadata": {},
   "outputs": [],
   "source": [
    "with open('test_cls_final.json', 'w', encoding='utf-8') as json_file:\n",
    "    json.dump(json_data, json_file, ensure_ascii=False, indent=4)\n",
    "\n",
    "print(\"JSON file created successfully.\")"
   ]
  },
  {
   "cell_type": "markdown",
   "metadata": {},
   "source": [
    "For the meters in least, they will be manipulated by Human factor, as they were fully used in the training part due to their scarcity in the dataset. "
   ]
  },
  {
   "cell_type": "code",
   "execution_count": null,
   "metadata": {},
   "outputs": [],
   "source": [
    "# to_be_written = []\n",
    "# for m in least:\n",
    "#     some = \n",
    "#     to_be_written.append() "
   ]
  },
  {
   "cell_type": "markdown",
   "metadata": {},
   "source": [
    "## Generation"
   ]
  },
  {
   "cell_type": "code",
   "execution_count": 67,
   "metadata": {},
   "outputs": [
    {
     "data": {
      "text/html": [
       "<div>\n",
       "<style scoped>\n",
       "    .dataframe tbody tr th:only-of-type {\n",
       "        vertical-align: middle;\n",
       "    }\n",
       "\n",
       "    .dataframe tbody tr th {\n",
       "        vertical-align: top;\n",
       "    }\n",
       "\n",
       "    .dataframe thead th {\n",
       "        text-align: right;\n",
       "    }\n",
       "</style>\n",
       "<table border=\"1\" class=\"dataframe\">\n",
       "  <thead>\n",
       "    <tr style=\"text-align: right;\">\n",
       "      <th></th>\n",
       "      <th>input</th>\n",
       "      <th>output</th>\n",
       "    </tr>\n",
       "  </thead>\n",
       "  <tbody>\n",
       "    <tr>\n",
       "      <th>0</th>\n",
       "      <td>اكتب أبياتًا بعد هذا البيت: يَــقُــولون لي أَ...</td>\n",
       "      <td>وَلَم يَــكُــن الإِعــراضُ مِـنّـي تَـعَـمُّد...</td>\n",
       "    </tr>\n",
       "    <tr>\n",
       "      <th>1</th>\n",
       "      <td>اكتب أبياتًا بعد هذا البيت: إِنَّ الغَوانِيَ ق...</td>\n",
       "      <td>في صُدغِهِنَّ عَقارِبٌ يَلسَعنَنا ما مَن لَسَع...</td>\n",
       "    </tr>\n",
       "    <tr>\n",
       "      <th>2</th>\n",
       "      <td>اكتب أبياتًا بعد هذا البيت: دع لذة الدنيا فمن ...</td>\n",
       "      <td>لذتــهــا حــلم وأيــامــهــا لمح ولكن كم لها ...</td>\n",
       "    </tr>\n",
       "    <tr>\n",
       "      <th>3</th>\n",
       "      <td>اكتب أبياتًا بعد هذا البيت: كـــل نَـــوْحٍ لَ...</td>\n",
       "      <td>كَـــيْـــفَ وَالرُّزْءُ فِــي وَدُودٍ صَــفِـ...</td>\n",
       "    </tr>\n",
       "    <tr>\n",
       "      <th>4</th>\n",
       "      <td>اكتب أبياتًا بعد هذا البيت: جِسمِيَ لا جِسمُكَ...</td>\n",
       "      <td>حُمّاكَ حُمّايَ غَيرَ شَكٍّ فَلَيتَني دونَكَ ا...</td>\n",
       "    </tr>\n",
       "  </tbody>\n",
       "</table>\n",
       "</div>"
      ],
      "text/plain": [
       "                                               input  \\\n",
       "0  اكتب أبياتًا بعد هذا البيت: يَــقُــولون لي أَ...   \n",
       "1  اكتب أبياتًا بعد هذا البيت: إِنَّ الغَوانِيَ ق...   \n",
       "2  اكتب أبياتًا بعد هذا البيت: دع لذة الدنيا فمن ...   \n",
       "3  اكتب أبياتًا بعد هذا البيت: كـــل نَـــوْحٍ لَ...   \n",
       "4  اكتب أبياتًا بعد هذا البيت: جِسمِيَ لا جِسمُكَ...   \n",
       "\n",
       "                                              output  \n",
       "0  وَلَم يَــكُــن الإِعــراضُ مِـنّـي تَـعَـمُّد...  \n",
       "1  في صُدغِهِنَّ عَقارِبٌ يَلسَعنَنا ما مَن لَسَع...  \n",
       "2  لذتــهــا حــلم وأيــامــهــا لمح ولكن كم لها ...  \n",
       "3  كَـــيْـــفَ وَالرُّزْءُ فِــي وَدُودٍ صَــفِـ...  \n",
       "4  حُمّاكَ حُمّايَ غَيرَ شَكٍّ فَلَيتَني دونَكَ ا...  "
      ]
     },
     "execution_count": 67,
     "metadata": {},
     "output_type": "execute_result"
    }
   ],
   "source": [
    "df_utrain_gen = pd.read_json(\"USED_DATA/train_gen20.json\")\n",
    "df_utrain_gen.head()"
   ]
  },
  {
   "cell_type": "code",
   "execution_count": 68,
   "metadata": {},
   "outputs": [
    {
     "ename": "NameError",
     "evalue": "name 'df_gen' is not defined",
     "output_type": "error",
     "traceback": [
      "\u001b[1;31m---------------------------------------------------------------------------\u001b[0m",
      "\u001b[1;31mNameError\u001b[0m                                 Traceback (most recent call last)",
      "Cell \u001b[1;32mIn[68], line 1\u001b[0m\n\u001b[1;32m----> 1\u001b[0m \u001b[43mdf_gen\u001b[49m\u001b[38;5;241m.\u001b[39mhead()\n",
      "\u001b[1;31mNameError\u001b[0m: name 'df_gen' is not defined"
     ]
    }
   ],
   "source": [
    "df_gen.head()"
   ]
  },
  {
   "cell_type": "code",
   "execution_count": null,
   "metadata": {},
   "outputs": [],
   "source": [
    "df_gen = df_gen[['first_two','others_joined']]"
   ]
  },
  {
   "cell_type": "code",
   "execution_count": null,
   "metadata": {},
   "outputs": [],
   "source": [
    "df_gen = df_gen.reset_index(drop = True)"
   ]
  },
  {
   "cell_type": "code",
   "execution_count": null,
   "metadata": {},
   "outputs": [],
   "source": [
    "df_gen.head()"
   ]
  },
  {
   "cell_type": "code",
   "execution_count": null,
   "metadata": {},
   "outputs": [],
   "source": [
    "df_gen = df_gen.rename(columns={'first_two': 'input'})\n",
    "df_gen = df_gen.rename(columns={'others_joined': 'output'})"
   ]
  },
  {
   "cell_type": "code",
   "execution_count": null,
   "metadata": {},
   "outputs": [],
   "source": [
    "df_gen['input'] = df_gen['input'].apply(lambda x: f\"\"\"\n",
    "        أنت شاعر فصيح عليم بقواعد العروض والقافية، تكتب الشعر ملتزما بها.\n",
    "        اكتب أبياتًا بعد هذا البيت، ملتزما بالبحر والقافية باحتراف:\n",
    "        {str(x)}\n",
    "        \"\"\")"
   ]
  },
  {
   "cell_type": "code",
   "execution_count": null,
   "metadata": {},
   "outputs": [],
   "source": [
    "type(df_gen['input'])"
   ]
  },
  {
   "cell_type": "code",
   "execution_count": null,
   "metadata": {},
   "outputs": [],
   "source": [
    "df_gen.head()"
   ]
  },
  {
   "cell_type": "code",
   "execution_count": null,
   "metadata": {},
   "outputs": [],
   "source": [
    "df_diff_gen = df_gen.merge(df_utrain_gen, how='left', indicator=True)\n",
    "df_diff_gen = df_diff_gen[df_diff_gen['_merge']=='left_only']\n",
    "\n",
    "print(len(df_gen))\n",
    "print(len(df_utrain_gen))\n",
    "print(len(df_diff_gen))\n",
    "print(len(df_gen) - len(df_utrain_gen))\n",
    "print(len(df_gen) - len(df_diff_gen) == len(df_utrain_gen))"
   ]
  },
  {
   "cell_type": "code",
   "execution_count": null,
   "metadata": {},
   "outputs": [],
   "source": [
    "df_test_gen = df_diff_gen.sample(200, replace=False).reset_index(drop=True)"
   ]
  },
  {
   "cell_type": "code",
   "execution_count": null,
   "metadata": {},
   "outputs": [],
   "source": [
    "df_test_gen = df_test_gen[['input','output']]"
   ]
  },
  {
   "cell_type": "code",
   "execution_count": null,
   "metadata": {},
   "outputs": [],
   "source": [
    "df_test_gen.head()"
   ]
  },
  {
   "cell_type": "code",
   "execution_count": null,
   "metadata": {},
   "outputs": [],
   "source": [
    "df_test_gen.head()"
   ]
  },
  {
   "cell_type": "code",
   "execution_count": null,
   "metadata": {},
   "outputs": [],
   "source": [
    "df_gen.head()"
   ]
  },
  {
   "cell_type": "code",
   "execution_count": null,
   "metadata": {},
   "outputs": [],
   "source": [
    "import json"
   ]
  },
  {
   "cell_type": "code",
   "execution_count": null,
   "metadata": {},
   "outputs": [],
   "source": [
    "df_gen__cond = df_gen[df_gen['output'].str.contains('\\n', na=False)]\n",
    "print(df_gen__cond.head())\n",
    "df_gen__cond_sampled = df_gen__cond.sample(200, random_state=42).iterrows()\n",
    "\n",
    "json_data = [\n",
    "    {\"input\": f\"{row['input']}\",\n",
    "     \"output\": row['output']}\n",
    "    for _, row in df_gen__cond_sampled\n",
    "]\n",
    "\n",
    "with open('test_gen.json', 'w', encoding='utf-8') as json_file:\n",
    "    json.dump(json_data, json_file, ensure_ascii=False, indent=4)\n",
    "\n",
    "print(\"JSON file created successfully.\")"
   ]
  },
  {
   "cell_type": "code",
   "execution_count": null,
   "metadata": {},
   "outputs": [],
   "source": []
  }
 ],
 "metadata": {
  "kernelspec": {
   "display_name": "Python 3",
   "language": "python",
   "name": "python3"
  },
  "language_info": {
   "codemirror_mode": {
    "name": "ipython",
    "version": 3
   },
   "file_extension": ".py",
   "mimetype": "text/x-python",
   "name": "python",
   "nbconvert_exporter": "python",
   "pygments_lexer": "ipython3",
   "version": "3.11.5"
  }
 },
 "nbformat": 4,
 "nbformat_minor": 2
}
