{
 "cells": [
  {
   "cell_type": "markdown",
   "metadata": {},
   "source": [
    "# CLASSIFICATION"
   ]
  },
  {
   "cell_type": "code",
   "execution_count": 14,
   "metadata": {},
   "outputs": [],
   "source": [
    "meters = ['الخفيف',\n",
    " 'مجزوء الرمل',\n",
    " 'البسيط',\n",
    " 'الكامل',\n",
    " 'الوافر',\n",
    " 'الطويل',\n",
    " 'السريع',\n",
    " 'المنسرح',\n",
    " 'مجزوء الكامل',\n",
    " 'المجتث',\n",
    " 'الرمل',\n",
    " 'مجزوء الوافر',\n",
    " 'المتقارب',\n",
    " 'مخلع البسيط',\n",
    " 'مجزوء الرجز',\n",
    " 'مجزوء الخفيف',\n",
    " 'الرجز',\n",
    " 'المديد',\n",
    " 'الهزج',\n",
    " 'مجزوء البسيط',\n",
    " 'منهوك المنسرح',\n",
    " 'أحذ الكامل',\n",
    " 'مشطور الرجز',\n",
    " 'المضارع',\n",
    " 'المقتضب',\n",
    " 'مجزوء المتقارب',\n",
    " 'مجزوء السريع',\n",
    " 'منهوك الرجز']"
   ]
  },
  {
   "cell_type": "markdown",
   "metadata": {},
   "source": [
    "## Base Model"
   ]
  },
  {
   "cell_type": "markdown",
   "metadata": {},
   "source": [
    "## Base Model"
   ]
  },
  {
   "cell_type": "code",
   "execution_count": null,
   "metadata": {},
   "outputs": [],
   "source": [
    "import pandas as pd"
   ]
  },
  {
   "cell_type": "code",
   "execution_count": 15,
   "metadata": {},
   "outputs": [],
   "source": [
    "classification_data_df = pd.read_json(\"test_cls_as_trained.json\", encoding=\"utf-8\")"
   ]
  },
  {
   "cell_type": "code",
   "execution_count": 16,
   "metadata": {},
   "outputs": [],
   "source": [
    "# Save inputs to try later on other models:\n",
    "\n",
    "# classification_data_df['input'].to_list()\n",
    "with open('test_cls_for_other_LLMs.json', 'w', encoding='utf-8') as txt_file:\n",
    "    for item in classification_data_df['input'].to_list():\n",
    "        txt_file.write(f\"{item}\\n\")"
   ]
  },
  {
   "cell_type": "code",
   "execution_count": 17,
   "metadata": {},
   "outputs": [],
   "source": [
    "classification_data_df['Base Prediction'] = 'Pred'"
   ]
  },
  {
   "cell_type": "code",
   "execution_count": 18,
   "metadata": {},
   "outputs": [
    {
     "data": {
      "text/html": [
       "<div>\n",
       "<style scoped>\n",
       "    .dataframe tbody tr th:only-of-type {\n",
       "        vertical-align: middle;\n",
       "    }\n",
       "\n",
       "    .dataframe tbody tr th {\n",
       "        vertical-align: top;\n",
       "    }\n",
       "\n",
       "    .dataframe thead th {\n",
       "        text-align: right;\n",
       "    }\n",
       "</style>\n",
       "<table border=\"1\" class=\"dataframe\">\n",
       "  <thead>\n",
       "    <tr style=\"text-align: right;\">\n",
       "      <th></th>\n",
       "      <th>input</th>\n",
       "      <th>output</th>\n",
       "      <th>Base Prediction</th>\n",
       "    </tr>\n",
       "  </thead>\n",
       "  <tbody>\n",
       "    <tr>\n",
       "      <th>0</th>\n",
       "      <td>ما هو البحر الشعري لهذا البيت؟ وطـال ليـلى ودم...</td>\n",
       "      <td>البسيط</td>\n",
       "      <td>Pred</td>\n",
       "    </tr>\n",
       "    <tr>\n",
       "      <th>1</th>\n",
       "      <td>ما هو البحر الشعري لهذا البيت؟ فَـلا تَـقـطَـع...</td>\n",
       "      <td>الطويل</td>\n",
       "      <td>Pred</td>\n",
       "    </tr>\n",
       "    <tr>\n",
       "      <th>2</th>\n",
       "      <td>ما هو البحر الشعري لهذا البيت؟ كـم عـزمـةٍ يُـ...</td>\n",
       "      <td>الكامل</td>\n",
       "      <td>Pred</td>\n",
       "    </tr>\n",
       "    <tr>\n",
       "      <th>3</th>\n",
       "      <td>ما هو البحر الشعري لهذا البيت؟ سَلِ الفَريقَ ا...</td>\n",
       "      <td>البسيط</td>\n",
       "      <td>Pred</td>\n",
       "    </tr>\n",
       "    <tr>\n",
       "      <th>4</th>\n",
       "      <td>ما هو البحر الشعري لهذا البيت؟ فـــولّى يُـــب...</td>\n",
       "      <td>الطويل</td>\n",
       "      <td>Pred</td>\n",
       "    </tr>\n",
       "  </tbody>\n",
       "</table>\n",
       "</div>"
      ],
      "text/plain": [
       "                                               input  output Base Prediction\n",
       "0  ما هو البحر الشعري لهذا البيت؟ وطـال ليـلى ودم...  البسيط            Pred\n",
       "1  ما هو البحر الشعري لهذا البيت؟ فَـلا تَـقـطَـع...  الطويل            Pred\n",
       "2  ما هو البحر الشعري لهذا البيت؟ كـم عـزمـةٍ يُـ...  الكامل            Pred\n",
       "3  ما هو البحر الشعري لهذا البيت؟ سَلِ الفَريقَ ا...  البسيط            Pred\n",
       "4  ما هو البحر الشعري لهذا البيت؟ فـــولّى يُـــب...  الطويل            Pred"
      ]
     },
     "execution_count": 18,
     "metadata": {},
     "output_type": "execute_result"
    }
   ],
   "source": [
    "classification_data_df.head()"
   ]
  },
  {
   "cell_type": "code",
   "execution_count": 19,
   "metadata": {},
   "outputs": [],
   "source": [
    "for i in range(len(classification_data_df)):\n",
    "    classification_data_df.iloc[i,2] = get_response(classification_data_df.iloc[i,0])"
   ]
  },
  {
   "cell_type": "markdown",
   "metadata": {},
   "source": [
    "Classifying 200 samples took 1m 11.0s --> 0.355s for each"
   ]
  },
  {
   "cell_type": "code",
   "execution_count": 24,
   "metadata": {},
   "outputs": [
    {
     "ename": "TypeError",
     "evalue": "loop of ufunc does not support argument 0 of type str which has no callable rint method",
     "output_type": "error",
     "traceback": [
      "\u001b[1;31m---------------------------------------------------------------------------\u001b[0m",
      "\u001b[1;31mAttributeError\u001b[0m                            Traceback (most recent call last)",
      "\u001b[1;31mAttributeError\u001b[0m: 'str' object has no attribute 'rint'",
      "\nThe above exception was the direct cause of the following exception:\n",
      "\u001b[1;31mTypeError\u001b[0m                                 Traceback (most recent call last)",
      "File \u001b[1;32mc:\\Users\\abdul\\AppData\\Local\\Programs\\Python\\Python311\\Lib\\site-packages\\numpy\\core\\fromnumeric.py:59\u001b[0m, in \u001b[0;36m_wrapfunc\u001b[1;34m(obj, method, *args, **kwds)\u001b[0m\n\u001b[0;32m     58\u001b[0m \u001b[38;5;28;01mtry\u001b[39;00m:\n\u001b[1;32m---> 59\u001b[0m     \u001b[38;5;28;01mreturn\u001b[39;00m \u001b[43mbound\u001b[49m\u001b[43m(\u001b[49m\u001b[38;5;241;43m*\u001b[39;49m\u001b[43margs\u001b[49m\u001b[43m,\u001b[49m\u001b[43m \u001b[49m\u001b[38;5;241;43m*\u001b[39;49m\u001b[38;5;241;43m*\u001b[39;49m\u001b[43mkwds\u001b[49m\u001b[43m)\u001b[49m\n\u001b[0;32m     60\u001b[0m \u001b[38;5;28;01mexcept\u001b[39;00m \u001b[38;5;167;01mTypeError\u001b[39;00m:\n\u001b[0;32m     61\u001b[0m     \u001b[38;5;66;03m# A TypeError occurs if the object does have such a method in its\u001b[39;00m\n\u001b[0;32m     62\u001b[0m     \u001b[38;5;66;03m# class, but its signature is not identical to that of NumPy's. This\u001b[39;00m\n\u001b[1;32m   (...)\u001b[0m\n\u001b[0;32m     66\u001b[0m     \u001b[38;5;66;03m# Call _wrapit from within the except clause to ensure a potential\u001b[39;00m\n\u001b[0;32m     67\u001b[0m     \u001b[38;5;66;03m# exception has a traceback chain.\u001b[39;00m\n",
      "\u001b[1;31mTypeError\u001b[0m: loop of ufunc does not support argument 0 of type str which has no callable rint method",
      "\nDuring handling of the above exception, another exception occurred:\n",
      "\u001b[1;31mAttributeError\u001b[0m                            Traceback (most recent call last)",
      "\u001b[1;31mAttributeError\u001b[0m: 'str' object has no attribute 'rint'",
      "\nThe above exception was the direct cause of the following exception:\n",
      "\u001b[1;31mTypeError\u001b[0m                                 Traceback (most recent call last)",
      "Cell \u001b[1;32mIn[24], line 1\u001b[0m\n\u001b[1;32m----> 1\u001b[0m \u001b[43mclassification_task\u001b[49m\u001b[43m(\u001b[49m\u001b[43mclassification_data_df\u001b[49m\u001b[43m)\u001b[49m\n",
      "Cell \u001b[1;32mIn[22], line 21\u001b[0m, in \u001b[0;36mclassification_task\u001b[1;34m(df)\u001b[0m\n\u001b[0;32m     15\u001b[0m y_pred \u001b[38;5;241m=\u001b[39m df\u001b[38;5;241m.\u001b[39miloc[:, \u001b[38;5;241m2\u001b[39m]\u001b[38;5;241m.\u001b[39mvalues\n\u001b[0;32m     17\u001b[0m \u001b[38;5;66;03m# Calculate cross-entropy loss\u001b[39;00m\n\u001b[0;32m     18\u001b[0m \u001b[38;5;66;03m# ce_loss = log_loss(y_true, y_pred)\u001b[39;00m\n\u001b[0;32m     19\u001b[0m \n\u001b[0;32m     20\u001b[0m \u001b[38;5;66;03m# Calculate accuracy\u001b[39;00m\n\u001b[1;32m---> 21\u001b[0m acc \u001b[38;5;241m=\u001b[39m accuracy_score(y_true, \u001b[43mnp\u001b[49m\u001b[38;5;241;43m.\u001b[39;49m\u001b[43mround\u001b[49m\u001b[43m(\u001b[49m\u001b[43my_pred\u001b[49m\u001b[43m)\u001b[49m)\n\u001b[0;32m     23\u001b[0m \u001b[38;5;66;03m# return ce_loss, acc\u001b[39;00m\n\u001b[0;32m     24\u001b[0m \u001b[38;5;28;01mreturn\u001b[39;00m acc\n",
      "File \u001b[1;32mc:\\Users\\abdul\\AppData\\Local\\Programs\\Python\\Python311\\Lib\\site-packages\\numpy\\core\\fromnumeric.py:3360\u001b[0m, in \u001b[0;36mround\u001b[1;34m(a, decimals, out)\u001b[0m\n\u001b[0;32m   3269\u001b[0m \u001b[38;5;129m@array_function_dispatch\u001b[39m(_round_dispatcher)\n\u001b[0;32m   3270\u001b[0m \u001b[38;5;28;01mdef\u001b[39;00m \u001b[38;5;21mround\u001b[39m(a, decimals\u001b[38;5;241m=\u001b[39m\u001b[38;5;241m0\u001b[39m, out\u001b[38;5;241m=\u001b[39m\u001b[38;5;28;01mNone\u001b[39;00m):\n\u001b[0;32m   3271\u001b[0m \u001b[38;5;250m    \u001b[39m\u001b[38;5;124;03m\"\"\"\u001b[39;00m\n\u001b[0;32m   3272\u001b[0m \u001b[38;5;124;03m    Evenly round to the given number of decimals.\u001b[39;00m\n\u001b[0;32m   3273\u001b[0m \n\u001b[1;32m   (...)\u001b[0m\n\u001b[0;32m   3358\u001b[0m \n\u001b[0;32m   3359\u001b[0m \u001b[38;5;124;03m    \"\"\"\u001b[39;00m\n\u001b[1;32m-> 3360\u001b[0m     \u001b[38;5;28;01mreturn\u001b[39;00m \u001b[43m_wrapfunc\u001b[49m\u001b[43m(\u001b[49m\u001b[43ma\u001b[49m\u001b[43m,\u001b[49m\u001b[43m \u001b[49m\u001b[38;5;124;43m'\u001b[39;49m\u001b[38;5;124;43mround\u001b[39;49m\u001b[38;5;124;43m'\u001b[39;49m\u001b[43m,\u001b[49m\u001b[43m \u001b[49m\u001b[43mdecimals\u001b[49m\u001b[38;5;241;43m=\u001b[39;49m\u001b[43mdecimals\u001b[49m\u001b[43m,\u001b[49m\u001b[43m \u001b[49m\u001b[43mout\u001b[49m\u001b[38;5;241;43m=\u001b[39;49m\u001b[43mout\u001b[49m\u001b[43m)\u001b[49m\n",
      "File \u001b[1;32mc:\\Users\\abdul\\AppData\\Local\\Programs\\Python\\Python311\\Lib\\site-packages\\numpy\\core\\fromnumeric.py:68\u001b[0m, in \u001b[0;36m_wrapfunc\u001b[1;34m(obj, method, *args, **kwds)\u001b[0m\n\u001b[0;32m     59\u001b[0m     \u001b[38;5;28;01mreturn\u001b[39;00m bound(\u001b[38;5;241m*\u001b[39margs, \u001b[38;5;241m*\u001b[39m\u001b[38;5;241m*\u001b[39mkwds)\n\u001b[0;32m     60\u001b[0m \u001b[38;5;28;01mexcept\u001b[39;00m \u001b[38;5;167;01mTypeError\u001b[39;00m:\n\u001b[0;32m     61\u001b[0m     \u001b[38;5;66;03m# A TypeError occurs if the object does have such a method in its\u001b[39;00m\n\u001b[0;32m     62\u001b[0m     \u001b[38;5;66;03m# class, but its signature is not identical to that of NumPy's. This\u001b[39;00m\n\u001b[1;32m   (...)\u001b[0m\n\u001b[0;32m     66\u001b[0m     \u001b[38;5;66;03m# Call _wrapit from within the except clause to ensure a potential\u001b[39;00m\n\u001b[0;32m     67\u001b[0m     \u001b[38;5;66;03m# exception has a traceback chain.\u001b[39;00m\n\u001b[1;32m---> 68\u001b[0m     \u001b[38;5;28;01mreturn\u001b[39;00m \u001b[43m_wrapit\u001b[49m\u001b[43m(\u001b[49m\u001b[43mobj\u001b[49m\u001b[43m,\u001b[49m\u001b[43m \u001b[49m\u001b[43mmethod\u001b[49m\u001b[43m,\u001b[49m\u001b[43m \u001b[49m\u001b[38;5;241;43m*\u001b[39;49m\u001b[43margs\u001b[49m\u001b[43m,\u001b[49m\u001b[43m \u001b[49m\u001b[38;5;241;43m*\u001b[39;49m\u001b[38;5;241;43m*\u001b[39;49m\u001b[43mkwds\u001b[49m\u001b[43m)\u001b[49m\n",
      "File \u001b[1;32mc:\\Users\\abdul\\AppData\\Local\\Programs\\Python\\Python311\\Lib\\site-packages\\numpy\\core\\fromnumeric.py:45\u001b[0m, in \u001b[0;36m_wrapit\u001b[1;34m(obj, method, *args, **kwds)\u001b[0m\n\u001b[0;32m     43\u001b[0m \u001b[38;5;28;01mexcept\u001b[39;00m \u001b[38;5;167;01mAttributeError\u001b[39;00m:\n\u001b[0;32m     44\u001b[0m     wrap \u001b[38;5;241m=\u001b[39m \u001b[38;5;28;01mNone\u001b[39;00m\n\u001b[1;32m---> 45\u001b[0m result \u001b[38;5;241m=\u001b[39m \u001b[38;5;28;43mgetattr\u001b[39;49m\u001b[43m(\u001b[49m\u001b[43masarray\u001b[49m\u001b[43m(\u001b[49m\u001b[43mobj\u001b[49m\u001b[43m)\u001b[49m\u001b[43m,\u001b[49m\u001b[43m \u001b[49m\u001b[43mmethod\u001b[49m\u001b[43m)\u001b[49m\u001b[43m(\u001b[49m\u001b[38;5;241;43m*\u001b[39;49m\u001b[43margs\u001b[49m\u001b[43m,\u001b[49m\u001b[43m \u001b[49m\u001b[38;5;241;43m*\u001b[39;49m\u001b[38;5;241;43m*\u001b[39;49m\u001b[43mkwds\u001b[49m\u001b[43m)\u001b[49m\n\u001b[0;32m     46\u001b[0m \u001b[38;5;28;01mif\u001b[39;00m wrap:\n\u001b[0;32m     47\u001b[0m     \u001b[38;5;28;01mif\u001b[39;00m \u001b[38;5;129;01mnot\u001b[39;00m \u001b[38;5;28misinstance\u001b[39m(result, mu\u001b[38;5;241m.\u001b[39mndarray):\n",
      "\u001b[1;31mTypeError\u001b[0m: loop of ufunc does not support argument 0 of type str which has no callable rint method"
     ]
    }
   ],
   "source": [
    "classification_task(classification_data_df)"
   ]
  },
  {
   "cell_type": "code",
   "execution_count": null,
   "metadata": {},
   "outputs": [],
   "source": [
    "cls_df_base = classification_data_df.copy()"
   ]
  },
  {
   "cell_type": "markdown",
   "metadata": {},
   "source": [
    "Sort them to avoid taking the least"
   ]
  },
  {
   "cell_type": "code",
   "execution_count": null,
   "metadata": {},
   "outputs": [],
   "source": [
    "meters_sorted = sorted(meters, key=len)"
   ]
  },
  {
   "cell_type": "code",
   "execution_count": null,
   "metadata": {},
   "outputs": [],
   "source": [
    "# for res in classification_data_df['Base Prediction'].values:\n",
    "#     for meter in meters_sorted: \n",
    "#         if meter in res:\n",
    "            \n",
    "\n",
    "# cls_df_base.loc[cls_df_base['Base Prediction'] in , 'Base Prediction'] = cls_df_base['Base Res'] * 2\n",
    "changed = []\n",
    "for idx, res in enumerate(classification_data_df['Base Prediction'].values):\n",
    "    for meter in meters_sorted:\n",
    "        if meter in res:\n",
    "            ch_dict = {'Index': idx, \"Before\": res, 'After': meter}\n",
    "            changed.append(ch_dict)\n",
    "            classification_data_df.at[idx, 'Base Prediction'] = meter\n",
    "print(changed)\n",
    "print(len(changed))\n",
    "print(len(classification_data_df))"
   ]
  },
  {
   "cell_type": "code",
   "execution_count": null,
   "metadata": {},
   "outputs": [],
   "source": [
    "classification_data_df['Base Prediction'].values"
   ]
  },
  {
   "cell_type": "markdown",
   "metadata": {},
   "source": [
    "Accuracy with Empty"
   ]
  },
  {
   "cell_type": "code",
   "execution_count": null,
   "metadata": {},
   "outputs": [],
   "source": [
    "matches = classification_data_df['output'] == classification_data_df['Base Prediction']\n",
    "accuracy = matches.mean() * 100  \n",
    "print(f\"Accuracy: {accuracy:.2f}%\")"
   ]
  },
  {
   "cell_type": "markdown",
   "metadata": {},
   "source": [
    "Accuracy without Empty"
   ]
  },
  {
   "cell_type": "code",
   "execution_count": null,
   "metadata": {},
   "outputs": [],
   "source": [
    "cls_df_without_empty = classification_data_df[classification_data_df['Base Prediction'] != ' ']"
   ]
  },
  {
   "cell_type": "code",
   "execution_count": null,
   "metadata": {},
   "outputs": [],
   "source": [
    "import re"
   ]
  },
  {
   "cell_type": "code",
   "execution_count": null,
   "metadata": {},
   "outputs": [],
   "source": [
    "arabic_pattern = '[\\u0621-\\u064A]'\n",
    "\n",
    "# Filter rows where 'Base Prediction' does not contain Arabic letters\n",
    "cls_df_without_arabic = classification_data_df[classification_data_df['Base Prediction'].apply(lambda x: not bool(re.search(arabic_pattern, x)))]\n"
   ]
  },
  {
   "cell_type": "code",
   "execution_count": null,
   "metadata": {},
   "outputs": [],
   "source": [
    "matches = cls_df_without_empty['output'] == cls_df_without_empty['Base Prediction']\n",
    "accuracy_without_empty = matches.mean() * 100  \n",
    "print(f\"Accuracy: {accuracy_without_empty:.2f}%\")"
   ]
  },
  {
   "cell_type": "markdown",
   "metadata": {},
   "source": [
    "## Base Model (Input refined for API)"
   ]
  },
  {
   "cell_type": "code",
   "execution_count": 34,
   "metadata": {},
   "outputs": [
    {
     "ename": "ValueError",
     "evalue": "Expected object or value",
     "output_type": "error",
     "traceback": [
      "\u001b[0;31m---------------------------------------------------------------------------\u001b[0m",
      "\u001b[0;31mValueError\u001b[0m                                Traceback (most recent call last)",
      "Cell \u001b[0;32mIn[34], line 1\u001b[0m\n\u001b[0;32m----> 1\u001b[0m classification_data_df \u001b[38;5;241m=\u001b[39m \u001b[43mpd\u001b[49m\u001b[38;5;241;43m.\u001b[39;49m\u001b[43mread_json\u001b[49m\u001b[43m(\u001b[49m\u001b[38;5;124;43m\"\u001b[39;49m\u001b[38;5;124;43mtest_cls_final.json\u001b[39;49m\u001b[38;5;124;43m\"\u001b[39;49m\u001b[43m,\u001b[49m\u001b[43m \u001b[49m\u001b[43mencoding\u001b[49m\u001b[38;5;241;43m=\u001b[39;49m\u001b[38;5;124;43m\"\u001b[39;49m\u001b[38;5;124;43mutf-8\u001b[39;49m\u001b[38;5;124;43m\"\u001b[39;49m\u001b[43m)\u001b[49m\n",
      "File \u001b[0;32m~/.local/lib/python3.10/site-packages/pandas/io/json/_json.py:804\u001b[0m, in \u001b[0;36mread_json\u001b[0;34m(path_or_buf, orient, typ, dtype, convert_axes, convert_dates, keep_default_dates, precise_float, date_unit, encoding, encoding_errors, lines, chunksize, compression, nrows, storage_options, dtype_backend, engine)\u001b[0m\n\u001b[1;32m    802\u001b[0m     \u001b[38;5;28;01mreturn\u001b[39;00m json_reader\n\u001b[1;32m    803\u001b[0m \u001b[38;5;28;01melse\u001b[39;00m:\n\u001b[0;32m--> 804\u001b[0m     \u001b[38;5;28;01mreturn\u001b[39;00m \u001b[43mjson_reader\u001b[49m\u001b[38;5;241;43m.\u001b[39;49m\u001b[43mread\u001b[49m\u001b[43m(\u001b[49m\u001b[43m)\u001b[49m\n",
      "File \u001b[0;32m~/.local/lib/python3.10/site-packages/pandas/io/json/_json.py:1014\u001b[0m, in \u001b[0;36mJsonReader.read\u001b[0;34m(self)\u001b[0m\n\u001b[1;32m   1012\u001b[0m         obj \u001b[38;5;241m=\u001b[39m \u001b[38;5;28mself\u001b[39m\u001b[38;5;241m.\u001b[39m_get_object_parser(\u001b[38;5;28mself\u001b[39m\u001b[38;5;241m.\u001b[39m_combine_lines(data_lines))\n\u001b[1;32m   1013\u001b[0m \u001b[38;5;28;01melse\u001b[39;00m:\n\u001b[0;32m-> 1014\u001b[0m     obj \u001b[38;5;241m=\u001b[39m \u001b[38;5;28;43mself\u001b[39;49m\u001b[38;5;241;43m.\u001b[39;49m\u001b[43m_get_object_parser\u001b[49m\u001b[43m(\u001b[49m\u001b[38;5;28;43mself\u001b[39;49m\u001b[38;5;241;43m.\u001b[39;49m\u001b[43mdata\u001b[49m\u001b[43m)\u001b[49m\n\u001b[1;32m   1015\u001b[0m \u001b[38;5;28;01mif\u001b[39;00m \u001b[38;5;28mself\u001b[39m\u001b[38;5;241m.\u001b[39mdtype_backend \u001b[38;5;129;01mis\u001b[39;00m \u001b[38;5;129;01mnot\u001b[39;00m lib\u001b[38;5;241m.\u001b[39mno_default:\n\u001b[1;32m   1016\u001b[0m     \u001b[38;5;28;01mreturn\u001b[39;00m obj\u001b[38;5;241m.\u001b[39mconvert_dtypes(\n\u001b[1;32m   1017\u001b[0m         infer_objects\u001b[38;5;241m=\u001b[39m\u001b[38;5;28;01mFalse\u001b[39;00m, dtype_backend\u001b[38;5;241m=\u001b[39m\u001b[38;5;28mself\u001b[39m\u001b[38;5;241m.\u001b[39mdtype_backend\n\u001b[1;32m   1018\u001b[0m     )\n",
      "File \u001b[0;32m~/.local/lib/python3.10/site-packages/pandas/io/json/_json.py:1040\u001b[0m, in \u001b[0;36mJsonReader._get_object_parser\u001b[0;34m(self, json)\u001b[0m\n\u001b[1;32m   1038\u001b[0m obj \u001b[38;5;241m=\u001b[39m \u001b[38;5;28;01mNone\u001b[39;00m\n\u001b[1;32m   1039\u001b[0m \u001b[38;5;28;01mif\u001b[39;00m typ \u001b[38;5;241m==\u001b[39m \u001b[38;5;124m\"\u001b[39m\u001b[38;5;124mframe\u001b[39m\u001b[38;5;124m\"\u001b[39m:\n\u001b[0;32m-> 1040\u001b[0m     obj \u001b[38;5;241m=\u001b[39m \u001b[43mFrameParser\u001b[49m\u001b[43m(\u001b[49m\u001b[43mjson\u001b[49m\u001b[43m,\u001b[49m\u001b[43m \u001b[49m\u001b[38;5;241;43m*\u001b[39;49m\u001b[38;5;241;43m*\u001b[39;49m\u001b[43mkwargs\u001b[49m\u001b[43m)\u001b[49m\u001b[38;5;241;43m.\u001b[39;49m\u001b[43mparse\u001b[49m\u001b[43m(\u001b[49m\u001b[43m)\u001b[49m\n\u001b[1;32m   1042\u001b[0m \u001b[38;5;28;01mif\u001b[39;00m typ \u001b[38;5;241m==\u001b[39m \u001b[38;5;124m\"\u001b[39m\u001b[38;5;124mseries\u001b[39m\u001b[38;5;124m\"\u001b[39m \u001b[38;5;129;01mor\u001b[39;00m obj \u001b[38;5;129;01mis\u001b[39;00m \u001b[38;5;28;01mNone\u001b[39;00m:\n\u001b[1;32m   1043\u001b[0m     \u001b[38;5;28;01mif\u001b[39;00m \u001b[38;5;129;01mnot\u001b[39;00m \u001b[38;5;28misinstance\u001b[39m(dtype, \u001b[38;5;28mbool\u001b[39m):\n",
      "File \u001b[0;32m~/.local/lib/python3.10/site-packages/pandas/io/json/_json.py:1173\u001b[0m, in \u001b[0;36mParser.parse\u001b[0;34m(self)\u001b[0m\n\u001b[1;32m   1172\u001b[0m \u001b[38;5;28;01mdef\u001b[39;00m \u001b[38;5;21mparse\u001b[39m(\u001b[38;5;28mself\u001b[39m):\n\u001b[0;32m-> 1173\u001b[0m     \u001b[38;5;28;43mself\u001b[39;49m\u001b[38;5;241;43m.\u001b[39;49m\u001b[43m_parse\u001b[49m\u001b[43m(\u001b[49m\u001b[43m)\u001b[49m\n\u001b[1;32m   1175\u001b[0m     \u001b[38;5;28;01mif\u001b[39;00m \u001b[38;5;28mself\u001b[39m\u001b[38;5;241m.\u001b[39mobj \u001b[38;5;129;01mis\u001b[39;00m \u001b[38;5;28;01mNone\u001b[39;00m:\n\u001b[1;32m   1176\u001b[0m         \u001b[38;5;28;01mreturn\u001b[39;00m \u001b[38;5;28;01mNone\u001b[39;00m\n",
      "File \u001b[0;32m~/.local/lib/python3.10/site-packages/pandas/io/json/_json.py:1366\u001b[0m, in \u001b[0;36mFrameParser._parse\u001b[0;34m(self)\u001b[0m\n\u001b[1;32m   1362\u001b[0m orient \u001b[38;5;241m=\u001b[39m \u001b[38;5;28mself\u001b[39m\u001b[38;5;241m.\u001b[39morient\n\u001b[1;32m   1364\u001b[0m \u001b[38;5;28;01mif\u001b[39;00m orient \u001b[38;5;241m==\u001b[39m \u001b[38;5;124m\"\u001b[39m\u001b[38;5;124mcolumns\u001b[39m\u001b[38;5;124m\"\u001b[39m:\n\u001b[1;32m   1365\u001b[0m     \u001b[38;5;28mself\u001b[39m\u001b[38;5;241m.\u001b[39mobj \u001b[38;5;241m=\u001b[39m DataFrame(\n\u001b[0;32m-> 1366\u001b[0m         \u001b[43mujson_loads\u001b[49m\u001b[43m(\u001b[49m\u001b[43mjson\u001b[49m\u001b[43m,\u001b[49m\u001b[43m \u001b[49m\u001b[43mprecise_float\u001b[49m\u001b[38;5;241;43m=\u001b[39;49m\u001b[38;5;28;43mself\u001b[39;49m\u001b[38;5;241;43m.\u001b[39;49m\u001b[43mprecise_float\u001b[49m\u001b[43m)\u001b[49m, dtype\u001b[38;5;241m=\u001b[39m\u001b[38;5;28;01mNone\u001b[39;00m\n\u001b[1;32m   1367\u001b[0m     )\n\u001b[1;32m   1368\u001b[0m \u001b[38;5;28;01melif\u001b[39;00m orient \u001b[38;5;241m==\u001b[39m \u001b[38;5;124m\"\u001b[39m\u001b[38;5;124msplit\u001b[39m\u001b[38;5;124m\"\u001b[39m:\n\u001b[1;32m   1369\u001b[0m     decoded \u001b[38;5;241m=\u001b[39m {\n\u001b[1;32m   1370\u001b[0m         \u001b[38;5;28mstr\u001b[39m(k): v\n\u001b[1;32m   1371\u001b[0m         \u001b[38;5;28;01mfor\u001b[39;00m k, v \u001b[38;5;129;01min\u001b[39;00m ujson_loads(json, precise_float\u001b[38;5;241m=\u001b[39m\u001b[38;5;28mself\u001b[39m\u001b[38;5;241m.\u001b[39mprecise_float)\u001b[38;5;241m.\u001b[39mitems()\n\u001b[1;32m   1372\u001b[0m     }\n",
      "\u001b[0;31mValueError\u001b[0m: Expected object or value"
     ]
    }
   ],
   "source": [
    "classification_data_df = pd.read_json(\"test_cls_final.json\", encoding=\"utf-8\")"
   ]
  },
  {
   "cell_type": "code",
   "execution_count": null,
   "metadata": {},
   "outputs": [],
   "source": [
    "classification_data_df['Base Prediction'] = 'Pred'"
   ]
  },
  {
   "cell_type": "code",
   "execution_count": null,
   "metadata": {},
   "outputs": [],
   "source": [
    "classification_data_df.head()"
   ]
  },
  {
   "cell_type": "code",
   "execution_count": null,
   "metadata": {},
   "outputs": [],
   "source": [
    "for i in range(len(classification_data_df)):\n",
    "    classification_data_df.iloc[i,2] = get_response(classification_data_df.iloc[i,0])"
   ]
  },
  {
   "cell_type": "markdown",
   "metadata": {},
   "source": [
    "Classifying 200 samples took 1m 37.3s --> 0.355s for each"
   ]
  },
  {
   "cell_type": "code",
   "execution_count": null,
   "metadata": {},
   "outputs": [],
   "source": [
    "cls_df_base = classification_data_df.copy()"
   ]
  },
  {
   "cell_type": "markdown",
   "metadata": {},
   "source": [
    "Sort them to avoid taking the least"
   ]
  },
  {
   "cell_type": "code",
   "execution_count": null,
   "metadata": {},
   "outputs": [],
   "source": [
    "meters_sorted = sorted(meters, key=len)"
   ]
  },
  {
   "cell_type": "code",
   "execution_count": null,
   "metadata": {},
   "outputs": [],
   "source": [
    "# for res in classification_data_df['Base Prediction'].values:\n",
    "#     for meter in meters_sorted: \n",
    "#         if meter in res:\n",
    "            \n",
    "\n",
    "# cls_df_base.loc[cls_df_base['Base Prediction'] in , 'Base Prediction'] = cls_df_base['Base Res'] * 2\n",
    "changed = []\n",
    "for idx, res in enumerate(classification_data_df['Base Prediction'].values):\n",
    "    for meter in meters_sorted:\n",
    "        if meter in res:\n",
    "            ch_dict = {'Index': idx, \"Before\": res, 'After': meter}\n",
    "            changed.append(ch_dict)\n",
    "            classification_data_df.at[idx, 'Base Prediction'] = meter\n",
    "print(changed)\n",
    "print(len(changed))\n",
    "print(len(classification_data_df))"
   ]
  },
  {
   "cell_type": "code",
   "execution_count": null,
   "metadata": {},
   "outputs": [],
   "source": [
    "classification_data_df['Base Prediction'].values"
   ]
  },
  {
   "cell_type": "markdown",
   "metadata": {},
   "source": [
    "Accuracy with Empty"
   ]
  },
  {
   "cell_type": "code",
   "execution_count": null,
   "metadata": {},
   "outputs": [],
   "source": [
    "matches = classification_data_df['output'] == classification_data_df['Base Prediction']\n",
    "accuracy = matches.mean() * 100  \n",
    "print(f\"Accuracy: {accuracy:.2f}%\")"
   ]
  },
  {
   "cell_type": "markdown",
   "metadata": {},
   "source": [
    "Accuracy without Empty"
   ]
  },
  {
   "cell_type": "code",
   "execution_count": null,
   "metadata": {},
   "outputs": [],
   "source": [
    "cls_df_without_empty = classification_data_df[classification_data_df['Base Prediction'] != ' ']"
   ]
  },
  {
   "cell_type": "code",
   "execution_count": null,
   "metadata": {},
   "outputs": [],
   "source": [
    "import re"
   ]
  },
  {
   "cell_type": "code",
   "execution_count": null,
   "metadata": {},
   "outputs": [],
   "source": [
    "arabic_pattern = '[\\u0621-\\u064A]'\n",
    "\n",
    "# Filter rows where 'Base Prediction' does not contain Arabic letters\n",
    "cls_df_without_arabic = classification_data_df[classification_data_df['Base Prediction'].apply(lambda x: not bool(re.search(arabic_pattern, x)))]\n"
   ]
  },
  {
   "cell_type": "code",
   "execution_count": null,
   "metadata": {},
   "outputs": [],
   "source": [
    "matches = cls_df_without_empty['output'] == cls_df_without_empty['Base Prediction']\n",
    "accuracy_without_empty = matches.mean() * 100  \n",
    "print(f\"Accuracy: {accuracy_without_empty:.2f}%\")"
   ]
  },
  {
   "cell_type": "markdown",
   "metadata": {},
   "source": [
    "## Fine-tuned Results"
   ]
  },
  {
   "cell_type": "code",
   "execution_count": 28,
   "metadata": {},
   "outputs": [
    {
     "name": "stdout",
     "output_type": "stream",
     "text": [
      "[\"[' البسيط',\\n\", \" ' الطويل',\\n\", \" ' الكامل',\\n\", \" ' البسيط',\\n\", \" ' الطويل',\\n\", \" ' الرمل',\\n\", \" '',\\n\", \" ' الرمل',\\n\", \" ' الكامل',\\n\", \" '',\\n\", \" ' الكامل',\\n\", \" '',\\n\", \" ' الطويل',\\n\", \" ' الخفيف',\\n\", \" ' الكامل',\\n\", \" ' مجزوء الرمل',\\n\", \" '',\\n\", \" '',\\n\", \" '\\\\nالرمل',\\n\", \" ' الطويل',\\n\", \" ' السريع',\\n\", \" ' الخفيف',\\n\", \" ' الخفيف',\\n\", \" ' الطويل',\\n\", \" ' الطويل',\\n\", \" ' السريع',\\n\", \" ' الخفيف',\\n\", \" '',\\n\", \" ' الكامل',\\n\", \" ' البسيط',\\n\", \" ' المنسرح',\\n\", \" ' الرجز',\\n\", \" ' الطويل',\\n\", \" '',\\n\", \" ' الرجز',\\n\", \" ' الوافر',\\n\", \" ' الكامل',\\n\", \" ' الطويل',\\n\", \" ' السريع',\\n\", \" '',\\n\", \" ' المتقارب',\\n\", \" '',\\n\", \" '',\\n\", \" '22',\\n\", \" ' الكامل',\\n\", \" ' المتقارب',\\n\", \" '',\\n\", \" ' المتقارب',\\n\", \" ' الطويل',\\n\", \" '',\\n\", \" ' الطويل',\\n\", \" ' الكامل',\\n\", \" ' المتقارب',\\n\", \" ' الطويل',\\n\", \" '',\\n\", \" ' الطويل',\\n\", \" ' الخفيف',\\n\", \" ' الكامل',\\n\", \" ' الكامل',\\n\", \" ' الطويل',\\n\", \" ' الخفيف',\\n\", \" ' البسيط',\\n\", \" ' الكامل',\\n\", \" ' البسيط',\\n\", \" ' الوافر',\\n\", \" ' الكامل',\\n\", \" ' الطويل',\\n\", \" ' مخلع البسيط',\\n\", \" ' الوافر',\\n\", \" ' البسيط',\\n\", \" ' الطويل',\\n\", \" ' الكامل',\\n\", \" ' الكامل',\\n\", \" ' الطويل',\\n\", \" '',\\n\", \" ' البسيط',\\n\", \" ' مجزوء الكامل',\\n\", \" ' الخفيف',\\n\", \" ' الطويل',\\n\", \" ' الكامل',\\n\", \" ' الخفيف',\\n\", \" ' الرمل',\\n\", \" ' الكامل',\\n\", \" ' الطويل',\\n\", \" ' الطويل',\\n\", \" ' البسيط',\\n\", \" ' الكامل',\\n\", \" '',\\n\", \" '',\\n\", \" ' الخفيف',\\n\", \" ' الكامل',\\n\", \" ' المنسرح',\\n\", \" ' البسيط',\\n\", \" ' الكامل',\\n\", \" ' الوافر',\\n\", \" ' الخفيف',\\n\", \" '',\\n\", \" ' الطويل',\\n\", \" ' الخفيف',\\n\", \" ' الرمل',\\n\", \" ' البسيط',\\n\", \" ' الكامل',\\n\", \" ' الرمل',\\n\", \" ' الطويل',\\n\", \" ' البسيط',\\n\", \" ' الكامل',\\n\", \" ' الطويل',\\n\", \" ' الوافر',\\n\", \" ' الخفيف',\\n\", \" ' الطويل',\\n\", \" ' الطويل',\\n\", \" ' الخفيف',\\n\", \" ' البسيط',\\n\", \" ' الخفيف',\\n\", \" ' السريع',\\n\", \" ' الكامل',\\n\", \" ' المنسرح',\\n\", \" ' الكامل',\\n\", \" ' السريع',\\n\", \" ' الكامل',\\n\", \" ' الطويل',\\n\", \" ' الطويل',\\n\", \" ' الكامل',\\n\", \" ' الكامل',\\n\", \" ' الطويل',\\n\", \" ' السريع',\\n\", \" ' الخفيف',\\n\", \" ' الخفيف',\\n\", \" ' البسيط',\\n\", \" ' الهزج',\\n\", \" '',\\n\", \" '',\\n\", \" '',\\n\", \" ' البسيط',\\n\", \" ' المتقارب',\\n\", \" ' مجزوء الوافر',\\n\", \" ' السريع',\\n\", \" '',\\n\", \" ' الطويل',\\n\", \" ' الكامل',\\n\", \" ' الخفيف',\\n\", \" ' الكامل',\\n\", \" ' الوافر',\\n\", \" ' البسيط',\\n\", \" ' الطويل',\\n\", \" ' الرجز',\\n\", \" ' الطويل',\\n\", \" ' الكامل',\\n\", \" '',\\n\", \" ' البسيط',\\n\", \" ' الكامل',\\n\", \" ' الطويل',\\n\", \" '',\\n\", \" ' الطويل',\\n\", \" ' الطويل',\\n\", \" '',\\n\", \" '\\\\nال الرمل',\\n\", \" ' الخفيف',\\n\", \" ' الكامل',\\n\", \" ' الطويل',\\n\", \" ' البسيط',\\n\", \" ' السريع',\\n\", \" ' الكامل',\\n\", \" ' الطويل',\\n\", \" ' الطويل',\\n\", \" ' الكامل',\\n\", \" '',\\n\", \" ' البسيط',\\n\", \" ' البسيط',\\n\", \" ' البسيط',\\n\", \" ' الكامل',\\n\", \" '',\\n\", \" ' الكامل',\\n\", \" ' الرجز',\\n\", \" '',\\n\", \" ' الطويل',\\n\", \" ' البسيط',\\n\", \" ' الخفيف',\\n\", \" ' الوافر',\\n\", \" ' الرجز',\\n\", \" ' الكامل',\\n\", \" ' الطويل',\\n\", \" ' الطويل',\\n\", \" ' السريع',\\n\", \" ' الوافر',\\n\", \" ' المنسرح',\\n\", \" ' الطويل',\\n\", \" ' البسيط',\\n\", \" ' الوافر',\\n\", \" ' المتقارب',\\n\", \" '',\\n\", \" ' الكامل',\\n\", \" ' الرمل',\\n\", \" '',\\n\", \" ' الطويل',\\n\", \" ' الرجز',\\n\", \" '',\\n\", \" '',\\n\", \" '\\\\n السريع',\\n\", \" '']\\n\"]\n"
     ]
    }
   ],
   "source": [
    "with open('results_cls_formatted.txt', 'r', encoding='utf-8') as file:\n",
    "    lines = file.readlines()  \n",
    "    \n",
    "fine_tuned_preds =  [line.strip() for line in lines]\n",
    "\n",
    "print(lines)"
   ]
  },
  {
   "cell_type": "code",
   "execution_count": 29,
   "metadata": {},
   "outputs": [
    {
     "name": "stdout",
     "output_type": "stream",
     "text": [
      "[\"[' البسيط',\", \"' الطويل',\", \"' الكامل',\", \"' البسيط',\", \"' الطويل',\", \"' الرمل',\", \"'',\", \"' الرمل',\", \"' الكامل',\", \"'',\", \"' الكامل',\", \"'',\", \"' الطويل',\", \"' الخفيف',\", \"' الكامل',\", \"' مجزوء الرمل',\", \"'',\", \"'',\", \"'\\\\nالرمل',\", \"' الطويل',\", \"' السريع',\", \"' الخفيف',\", \"' الخفيف',\", \"' الطويل',\", \"' الطويل',\", \"' السريع',\", \"' الخفيف',\", \"'',\", \"' الكامل',\", \"' البسيط',\", \"' المنسرح',\", \"' الرجز',\", \"' الطويل',\", \"'',\", \"' الرجز',\", \"' الوافر',\", \"' الكامل',\", \"' الطويل',\", \"' السريع',\", \"'',\", \"' المتقارب',\", \"'',\", \"'',\", \"'22',\", \"' الكامل',\", \"' المتقارب',\", \"'',\", \"' المتقارب',\", \"' الطويل',\", \"'',\", \"' الطويل',\", \"' الكامل',\", \"' المتقارب',\", \"' الطويل',\", \"'',\", \"' الطويل',\", \"' الخفيف',\", \"' الكامل',\", \"' الكامل',\", \"' الطويل',\", \"' الخفيف',\", \"' البسيط',\", \"' الكامل',\", \"' البسيط',\", \"' الوافر',\", \"' الكامل',\", \"' الطويل',\", \"' مخلع البسيط',\", \"' الوافر',\", \"' البسيط',\", \"' الطويل',\", \"' الكامل',\", \"' الكامل',\", \"' الطويل',\", \"'',\", \"' البسيط',\", \"' مجزوء الكامل',\", \"' الخفيف',\", \"' الطويل',\", \"' الكامل',\", \"' الخفيف',\", \"' الرمل',\", \"' الكامل',\", \"' الطويل',\", \"' الطويل',\", \"' البسيط',\", \"' الكامل',\", \"'',\", \"'',\", \"' الخفيف',\", \"' الكامل',\", \"' المنسرح',\", \"' البسيط',\", \"' الكامل',\", \"' الوافر',\", \"' الخفيف',\", \"'',\", \"' الطويل',\", \"' الخفيف',\", \"' الرمل',\", \"' البسيط',\", \"' الكامل',\", \"' الرمل',\", \"' الطويل',\", \"' البسيط',\", \"' الكامل',\", \"' الطويل',\", \"' الوافر',\", \"' الخفيف',\", \"' الطويل',\", \"' الطويل',\", \"' الخفيف',\", \"' البسيط',\", \"' الخفيف',\", \"' السريع',\", \"' الكامل',\", \"' المنسرح',\", \"' الكامل',\", \"' السريع',\", \"' الكامل',\", \"' الطويل',\", \"' الطويل',\", \"' الكامل',\", \"' الكامل',\", \"' الطويل',\", \"' السريع',\", \"' الخفيف',\", \"' الخفيف',\", \"' البسيط',\", \"' الهزج',\", \"'',\", \"'',\", \"'',\", \"' البسيط',\", \"' المتقارب',\", \"' مجزوء الوافر',\", \"' السريع',\", \"'',\", \"' الطويل',\", \"' الكامل',\", \"' الخفيف',\", \"' الكامل',\", \"' الوافر',\", \"' البسيط',\", \"' الطويل',\", \"' الرجز',\", \"' الطويل',\", \"' الكامل',\", \"'',\", \"' البسيط',\", \"' الكامل',\", \"' الطويل',\", \"'',\", \"' الطويل',\", \"' الطويل',\", \"'',\", \"'\\\\nال الرمل',\", \"' الخفيف',\", \"' الكامل',\", \"' الطويل',\", \"' البسيط',\", \"' السريع',\", \"' الكامل',\", \"' الطويل',\", \"' الطويل',\", \"' الكامل',\", \"'',\", \"' البسيط',\", \"' البسيط',\", \"' البسيط',\", \"' الكامل',\", \"'',\", \"' الكامل',\", \"' الرجز',\", \"'',\", \"' الطويل',\", \"' البسيط',\", \"' الخفيف',\", \"' الوافر',\", \"' الرجز',\", \"' الكامل',\", \"' الطويل',\", \"' الطويل',\", \"' السريع',\", \"' الوافر',\", \"' المنسرح',\", \"' الطويل',\", \"' البسيط',\", \"' الوافر',\", \"' المتقارب',\", \"'',\", \"' الكامل',\", \"' الرمل',\", \"'',\", \"' الطويل',\", \"' الرجز',\", \"'',\", \"'',\", \"'\\\\n السريع',\", \"'']\"]\n"
     ]
    }
   ],
   "source": [
    "fine_tuned_preds = [\n",
    "    ' '.join(line.replace('\\n', '').split()) for line in fine_tuned_preds\n",
    "]\n",
    "\n",
    "print(fine_tuned_preds)"
   ]
  },
  {
   "cell_type": "code",
   "execution_count": 30,
   "metadata": {},
   "outputs": [],
   "source": [
    "import re"
   ]
  },
  {
   "cell_type": "code",
   "execution_count": 31,
   "metadata": {},
   "outputs": [],
   "source": [
    "fine_tuned_preds = [re.sub(r'[^\\u0600-\\u06FF]+', '', pred).strip() for pred in fine_tuned_preds]"
   ]
  },
  {
   "cell_type": "code",
   "execution_count": 32,
   "metadata": {},
   "outputs": [
    {
     "name": "stdout",
     "output_type": "stream",
     "text": [
      "البسيط\n",
      "الطويل\n",
      "الكامل\n",
      "البسيط\n",
      "الطويل\n",
      "الرمل\n",
      "\n",
      "الرمل\n",
      "الكامل\n",
      "\n",
      "الكامل\n",
      "\n",
      "الطويل\n",
      "الخفيف\n",
      "الكامل\n",
      "مجزوءالرمل\n",
      "\n",
      "\n",
      "الرمل\n",
      "الطويل\n",
      "السريع\n",
      "الخفيف\n",
      "الخفيف\n",
      "الطويل\n",
      "الطويل\n",
      "السريع\n",
      "الخفيف\n",
      "\n",
      "الكامل\n",
      "البسيط\n",
      "المنسرح\n",
      "الرجز\n",
      "الطويل\n",
      "\n",
      "الرجز\n",
      "الوافر\n",
      "الكامل\n",
      "الطويل\n",
      "السريع\n",
      "\n",
      "المتقارب\n",
      "\n",
      "\n",
      "\n",
      "الكامل\n",
      "المتقارب\n",
      "\n",
      "المتقارب\n",
      "الطويل\n",
      "\n",
      "الطويل\n",
      "الكامل\n",
      "المتقارب\n",
      "الطويل\n",
      "\n",
      "الطويل\n",
      "الخفيف\n",
      "الكامل\n",
      "الكامل\n",
      "الطويل\n",
      "الخفيف\n",
      "البسيط\n",
      "الكامل\n",
      "البسيط\n",
      "الوافر\n",
      "الكامل\n",
      "الطويل\n",
      "مخلعالبسيط\n",
      "الوافر\n",
      "البسيط\n",
      "الطويل\n",
      "الكامل\n",
      "الكامل\n",
      "الطويل\n",
      "\n",
      "البسيط\n",
      "مجزوءالكامل\n",
      "الخفيف\n",
      "الطويل\n",
      "الكامل\n",
      "الخفيف\n",
      "الرمل\n",
      "الكامل\n",
      "الطويل\n",
      "الطويل\n",
      "البسيط\n",
      "الكامل\n",
      "\n",
      "\n",
      "الخفيف\n",
      "الكامل\n",
      "المنسرح\n",
      "البسيط\n",
      "الكامل\n",
      "الوافر\n",
      "الخفيف\n",
      "\n",
      "الطويل\n",
      "الخفيف\n",
      "الرمل\n",
      "البسيط\n",
      "الكامل\n",
      "الرمل\n",
      "الطويل\n",
      "البسيط\n",
      "الكامل\n",
      "الطويل\n",
      "الوافر\n",
      "الخفيف\n",
      "الطويل\n",
      "الطويل\n",
      "الخفيف\n",
      "البسيط\n",
      "الخفيف\n",
      "السريع\n",
      "الكامل\n",
      "المنسرح\n",
      "الكامل\n",
      "السريع\n",
      "الكامل\n",
      "الطويل\n",
      "الطويل\n",
      "الكامل\n",
      "الكامل\n",
      "الطويل\n",
      "السريع\n",
      "الخفيف\n",
      "الخفيف\n",
      "البسيط\n",
      "الهزج\n",
      "\n",
      "\n",
      "\n",
      "البسيط\n",
      "المتقارب\n",
      "مجزوءالوافر\n",
      "السريع\n",
      "\n",
      "الطويل\n",
      "الكامل\n",
      "الخفيف\n",
      "الكامل\n",
      "الوافر\n",
      "البسيط\n",
      "الطويل\n",
      "الرجز\n",
      "الطويل\n",
      "الكامل\n",
      "\n",
      "البسيط\n",
      "الكامل\n",
      "الطويل\n",
      "\n",
      "الطويل\n",
      "الطويل\n",
      "\n",
      "الالرمل\n",
      "الخفيف\n",
      "الكامل\n",
      "الطويل\n",
      "البسيط\n",
      "السريع\n",
      "الكامل\n",
      "الطويل\n",
      "الطويل\n",
      "الكامل\n",
      "\n",
      "البسيط\n",
      "البسيط\n",
      "البسيط\n",
      "الكامل\n",
      "\n",
      "الكامل\n",
      "الرجز\n",
      "\n",
      "الطويل\n",
      "البسيط\n",
      "الخفيف\n",
      "الوافر\n",
      "الرجز\n",
      "الكامل\n",
      "الطويل\n",
      "الطويل\n",
      "السريع\n",
      "الوافر\n",
      "المنسرح\n",
      "الطويل\n",
      "البسيط\n",
      "الوافر\n",
      "المتقارب\n",
      "\n",
      "الكامل\n",
      "الرمل\n",
      "\n",
      "الطويل\n",
      "الرجز\n",
      "\n",
      "\n",
      "السريع\n",
      "\n"
     ]
    }
   ],
   "source": [
    "for p in fine_tuned_preds:\n",
    "    print(p)"
   ]
  },
  {
   "cell_type": "code",
   "execution_count": null,
   "metadata": {},
   "outputs": [],
   "source": [
    "classification_data_df[\"Fine-Tuning Prediction\"] = fine_tuned_preds"
   ]
  },
  {
   "cell_type": "code",
   "execution_count": 33,
   "metadata": {},
   "outputs": [
    {
     "ename": "NameError",
     "evalue": "name 'classification_data_df' is not defined",
     "output_type": "error",
     "traceback": [
      "\u001b[0;31m---------------------------------------------------------------------------\u001b[0m",
      "\u001b[0;31mNameError\u001b[0m                                 Traceback (most recent call last)",
      "Cell \u001b[0;32mIn[33], line 1\u001b[0m\n\u001b[0;32m----> 1\u001b[0m \u001b[43mclassification_data_df\u001b[49m\u001b[38;5;241m.\u001b[39miloc[:\u001b[38;5;241m100\u001b[39m][classification_data_df[\u001b[38;5;124m'\u001b[39m\u001b[38;5;124mFine-Tuning Prediction\u001b[39m\u001b[38;5;124m'\u001b[39m] \u001b[38;5;241m==\u001b[39m \u001b[38;5;124m'\u001b[39m\u001b[38;5;124m'\u001b[39m]\u001b[38;5;241m.\u001b[39mcount()\n",
      "\u001b[0;31mNameError\u001b[0m: name 'classification_data_df' is not defined"
     ]
    }
   ],
   "source": [
    "classification_data_df.iloc[:100][classification_data_df['Fine-Tuning Prediction'] == ''].count()"
   ]
  },
  {
   "cell_type": "markdown",
   "metadata": {},
   "source": [
    "Calc"
   ]
  },
  {
   "cell_type": "code",
   "execution_count": null,
   "metadata": {},
   "outputs": [],
   "source": [
    "matches = classification_data_df['output'] == classification_data_df['Fine-Tuning Prediction']\n",
    "accuracy = matches.mean() * 100  \n",
    "print(f\"Accuracy: {accuracy:.2f}%\")\n",
    "\n",
    "wrong_rows_df = classification_data_df[~matches]\n",
    "print(\"Rows where col1 and col2 don't match:\")\n",
    "print(wrong_rows_df)"
   ]
  },
  {
   "cell_type": "code",
   "execution_count": null,
   "metadata": {},
   "outputs": [],
   "source": [
    "cls_df_without_empty = classification_data_df[classification_data_df['Fine-Tuning Prediction'] != '']"
   ]
  },
  {
   "cell_type": "code",
   "execution_count": null,
   "metadata": {},
   "outputs": [],
   "source": [
    "matches_without_empty = cls_df_without_empty['output'] == cls_df_without_empty['Fine-Tuning Prediction']\n",
    "accuracy_without_empty  = matches_without_empty .mean() * 100  \n",
    "print(f\"Accuracy: {accuracy_without_empty:.2f}%\")\n",
    "\n",
    "# wrong_rows_df = cls_df_without_empty[~matches]\n",
    "# print(\"Rows where col1 and col2 don't match:\")\n",
    "# print(wrong_rows_df)"
   ]
  },
  {
   "cell_type": "code",
   "execution_count": null,
   "metadata": {},
   "outputs": [],
   "source": [
    "cls_df_base['output'].unique()"
   ]
  },
  {
   "cell_type": "markdown",
   "metadata": {},
   "source": [
    "## 4o Results: "
   ]
  },
  {
   "cell_type": "markdown",
   "metadata": {},
   "source": [
    "** For Half of the Data **"
   ]
  },
  {
   "cell_type": "code",
   "execution_count": 1,
   "metadata": {},
   "outputs": [],
   "source": [
    "with open('GPT_4o_Cls.txt', 'r', encoding='utf-8') as file:\n",
    "    lines = file.readlines()  \n",
    "    \n",
    "gpt_preds =  [line.strip() for line in lines]\n"
   ]
  },
  {
   "cell_type": "code",
   "execution_count": 11,
   "metadata": {},
   "outputs": [
    {
     "name": "stderr",
     "output_type": "stream",
     "text": [
      "C:\\Users\\abdul\\AppData\\Local\\Temp\\ipykernel_3628\\2414898903.py:3: SettingWithCopyWarning: \n",
      "A value is trying to be set on a copy of a slice from a DataFrame.\n",
      "Try using .loc[row_indexer,col_indexer] = value instead\n",
      "\n",
      "See the caveats in the documentation: https://pandas.pydata.org/pandas-docs/stable/user_guide/indexing.html#returning-a-view-versus-a-copy\n",
      "  classification_data_df_100[\"GPT_4o Prediction\"] = gpt_preds\n"
     ]
    }
   ],
   "source": [
    "classification_data_df_100 = classification_data_df.head(100)\n",
    "\n",
    "classification_data_df_100[\"GPT_4o Prediction\"] = gpt_preds"
   ]
  },
  {
   "cell_type": "markdown",
   "metadata": {},
   "source": [
    "Calc"
   ]
  },
  {
   "cell_type": "code",
   "execution_count": 12,
   "metadata": {},
   "outputs": [
    {
     "name": "stdout",
     "output_type": "stream",
     "text": [
      "Accuracy: 19.00%\n"
     ]
    }
   ],
   "source": [
    "matches = classification_data_df_100['output'] == classification_data_df_100['GPT_4o Prediction']\n",
    "accuracy = matches.mean() * 100  \n",
    "print(f\"Accuracy: {accuracy:.2f}%\")"
   ]
  },
  {
   "cell_type": "code",
   "execution_count": null,
   "metadata": {},
   "outputs": [],
   "source": [
    "cls_df_without_empty = classification_data_df[classification_data_df['Fine-Tuning Prediction'] != '']"
   ]
  },
  {
   "cell_type": "code",
   "execution_count": null,
   "metadata": {},
   "outputs": [],
   "source": [
    "matches_without_empty = cls_df_without_empty['output'] == cls_df_without_empty['Fine-Tuning Prediction']\n",
    "accuracy_without_empty  = matches_without_empty .mean() * 100  \n",
    "print(f\"Accuracy: {accuracy_without_empty:.2f}%\")\n",
    "\n",
    "# wrong_rows_df = cls_df_without_empty[~matches]\n",
    "# print(\"Rows where col1 and col2 don't match:\")\n",
    "# print(wrong_rows_df)"
   ]
  },
  {
   "cell_type": "code",
   "execution_count": null,
   "metadata": {},
   "outputs": [],
   "source": [
    "cls_df_base['output'].unique()"
   ]
  },
  {
   "cell_type": "markdown",
   "metadata": {},
   "source": [
    "# Generation"
   ]
  },
  {
   "cell_type": "code",
   "execution_count": 1,
   "metadata": {},
   "outputs": [
    {
     "name": "stderr",
     "output_type": "stream",
     "text": [
      "/home/ozeiri/.local/lib/python3.10/site-packages/sentence_transformers/cross_encoder/CrossEncoder.py:11: TqdmWarning: IProgress not found. Please update jupyter and ipywidgets. See https://ipywidgets.readthedocs.io/en/stable/user_install.html\n",
      "  from tqdm.autonotebook import tqdm, trange\n",
      "2024-11-09 09:34:31.613086: I tensorflow/core/util/port.cc:113] oneDNN custom operations are on. You may see slightly different numerical results due to floating-point round-off errors from different computation orders. To turn them off, set the environment variable `TF_ENABLE_ONEDNN_OPTS=0`.\n",
      "2024-11-09 09:34:31.641411: I tensorflow/core/platform/cpu_feature_guard.cc:210] This TensorFlow binary is optimized to use available CPU instructions in performance-critical operations.\n",
      "To enable the following instructions: AVX2 AVX_VNNI FMA, in other operations, rebuild TensorFlow with the appropriate compiler flags.\n",
      "2024-11-09 09:34:32.259236: W tensorflow/compiler/tf2tensorrt/utils/py_utils.cc:38] TF-TRT Warning: Could not find TensorRT\n"
     ]
    }
   ],
   "source": [
    "import numpy as np\n",
    "import torch\n",
    "from sentence_transformers import SentenceTransformer, util\n",
    "from nltk.translate.bleu_score import corpus_bleu\n",
    "from datasets import load_metric\n",
    "\n",
    "def generation_task(df):\n",
    "    \"\"\"\n",
    "    Calculate evaluation metrics for a text generation task.\n",
    "    \n",
    "    Parameters:\n",
    "    df (pandas.DataFrame): DataFrame with columns for original and generated text.\n",
    "    \n",
    "    Returns:\n",
    "    dict: Dictionary containing BERT score, BLEU, GLUE, and optionally perplexity.\n",
    "    \"\"\"\n",
    "    original_texts = df.iloc[:, 1].tolist()\n",
    "    generated_texts = df.iloc[:, 2].tolist()\n",
    "    \n",
    "    # Calculate BERT score using sentence-transformers\n",
    "    model = SentenceTransformer('bert-base-nli-mean-tokens')\n",
    "    embeddings1 = model.encode(original_texts, convert_to_tensor=True)\n",
    "    embeddings2 = model.encode(generated_texts, convert_to_tensor=True)\n",
    "    bert_score = np.mean([util.pytorch_cos_sim(e1, e2).item() for e1, e2 in zip(embeddings1, embeddings2)])\n",
    "   \n",
    "    \n",
    "    # Optional: Uncomment and implement perplexity calculation if desired\n",
    "    # For perplexity, you would need a language model suited for causal LM\n",
    "    \n",
    "    return bert_score\n"
   ]
  },
  {
   "cell_type": "code",
   "execution_count": 2,
   "metadata": {},
   "outputs": [],
   "source": [
    "from results.results_gen import results\n",
    "generation_results = results"
   ]
  },
  {
   "cell_type": "code",
   "execution_count": 3,
   "metadata": {},
   "outputs": [
    {
     "data": {
      "text/plain": [
       "'\\nإذا تجلّى بها في الحرب ذو شطبٍ فذاك يومٌ على الأعداء محتكم\\nإذا تجلّى بها في السلم ذو أدبٍ فذاك يومٌ على الآداب محتكم\\nإذا تجلّى بها في الحرب ذو أدبٍ فذاك يومٌ على الأعداء محتكم\\nإذا تجلّى بها في السلم ذو أدبٍ فذاك يومٌ على الآداب محتكم\\nإذا تجلّى بها في الحرب ذو أدبٍ فذاك يومٌ على الأعداء محتكم\\nإذا تجلّى بها في السلم ذو أدبٍ فذاك يومٌ على الآداب محتكم\\nإذا تجلّى بها في الحرب ذو أدبٍ فذاك يومٌ على الأعداء محتكم\\nإذا تجلّى بها في السلم ذو أدبٍ فذاك يومٌ على الآداب محتكم\\nإذا تجلّى بها في الحرب ذو أدبٍ فذاك يومٌ على الأعداء محتكم\\nإذا تجلّى بها في السلم ذو أدبٍ فذاك يومٌ على الآداب محتكم\\nإذا تجلّى بها في الحرب ذو'"
      ]
     },
     "execution_count": 3,
     "metadata": {},
     "output_type": "execute_result"
    }
   ],
   "source": [
    "generation_results[0]"
   ]
  },
  {
   "cell_type": "code",
   "execution_count": 4,
   "metadata": {},
   "outputs": [],
   "source": [
    "import pandas as pd"
   ]
  },
  {
   "cell_type": "code",
   "execution_count": 5,
   "metadata": {},
   "outputs": [],
   "source": [
    "fine_tuned_generation_data_df = pd.read_json(\"test_gen.json\", encoding=\"utf-8\")\n",
    "fine_tuned_generation_data_df.rename(columns={\"output\": \"original\"})\n",
    "fine_tuned_generation_data_df[\"MGT\"] = generation_results"
   ]
  },
  {
   "cell_type": "code",
   "execution_count": 6,
   "metadata": {},
   "outputs": [
    {
     "data": {
      "text/html": [
       "<div>\n",
       "<style scoped>\n",
       "    .dataframe tbody tr th:only-of-type {\n",
       "        vertical-align: middle;\n",
       "    }\n",
       "\n",
       "    .dataframe tbody tr th {\n",
       "        vertical-align: top;\n",
       "    }\n",
       "\n",
       "    .dataframe thead th {\n",
       "        text-align: right;\n",
       "    }\n",
       "</style>\n",
       "<table border=\"1\" class=\"dataframe\">\n",
       "  <thead>\n",
       "    <tr style=\"text-align: right;\">\n",
       "      <th></th>\n",
       "      <th>input</th>\n",
       "      <th>output</th>\n",
       "      <th>MGT</th>\n",
       "    </tr>\n",
       "  </thead>\n",
       "  <tbody>\n",
       "    <tr>\n",
       "      <th>0</th>\n",
       "      <td>\\n        اكتب أبياتًا بعد هذا البيت:\\n       ...</td>\n",
       "      <td>دع الأمانيّ أو رُمهنّ من ظُبةٍ فإنما هنّ من غي...</td>\n",
       "      <td>\\nإذا تجلّى بها في الحرب ذو شطبٍ فذاك يومٌ على...</td>\n",
       "    </tr>\n",
       "    <tr>\n",
       "      <th>1</th>\n",
       "      <td>\\n        اكتب أبياتًا بعد هذا البيت:\\n       ...</td>\n",
       "      <td>لا بل هوَ النورُ أضحى يَـــدِبُّ فـــي الظــلم...</td>\n",
       "      <td>\\nفـيـهـا مـنـهـا مـاءٌ مـنـهـا مـاءٌ مـنـهـا ...</td>\n",
       "    </tr>\n",
       "    <tr>\n",
       "      <th>2</th>\n",
       "      <td>\\n        اكتب أبياتًا بعد هذا البيت:\\n       ...</td>\n",
       "      <td>لما سلكوا بالهجرِ يوماً طريقتي سـيَـنْـدم بُـع...</td>\n",
       "      <td>\\nلَما جـفـونـي بـالـتـقـطـيـعِ والهـجـرِ ولا ...</td>\n",
       "    </tr>\n",
       "    <tr>\n",
       "      <th>3</th>\n",
       "      <td>\\n        اكتب أبياتًا بعد هذا البيت:\\n       ...</td>\n",
       "      <td>ما أَنتَ بِالحَكَمِ الَّذي سُمِّيتَهُ غالَتكَ ...</td>\n",
       "      <td></td>\n",
       "    </tr>\n",
       "    <tr>\n",
       "      <th>4</th>\n",
       "      <td>\\n        اكتب أبياتًا بعد هذا البيت:\\n       ...</td>\n",
       "      <td>إِذا المَدحُ زانَ فَتى مَعشَرٍ فَإِنَّ يَزيدَ ...</td>\n",
       "      <td>إِذا ما تَحَلّى بِالمَكارِمِ وَالخَلائِقِ وَا...</td>\n",
       "    </tr>\n",
       "    <tr>\n",
       "      <th>...</th>\n",
       "      <td>...</td>\n",
       "      <td>...</td>\n",
       "      <td>...</td>\n",
       "    </tr>\n",
       "    <tr>\n",
       "      <th>195</th>\n",
       "      <td>\\n        اكتب أبياتًا بعد هذا البيت:\\n       ...</td>\n",
       "      <td>أَجْنَى إِلَيْهَا الرِّضَى جَنَانِي مِنَ الْمَ...</td>\n",
       "      <td>\\nأَبْهَى مِنَ الدُّرِّ وَأَحْلَى مِمَّا يَحْل...</td>\n",
       "    </tr>\n",
       "    <tr>\n",
       "      <th>196</th>\n",
       "      <td>\\n        اكتب أبياتًا بعد هذا البيت:\\n       ...</td>\n",
       "      <td>وَلَوى بِــقَــلبــي مُــذ لَوى أَصــداغــه وَ...</td>\n",
       "      <td>\\nفــيــهــا مــنــهــا مــنــظــومــة قــد جـ...</td>\n",
       "    </tr>\n",
       "    <tr>\n",
       "      <th>197</th>\n",
       "      <td>\\n        اكتب أبياتًا بعد هذا البيت:\\n       ...</td>\n",
       "      <td>وأَرسلَتِ اللَّحظَ الضَّعيفَ مع الهَوى لِيَقوى...</td>\n",
       "      <td></td>\n",
       "    </tr>\n",
       "    <tr>\n",
       "      <th>198</th>\n",
       "      <td>\\n        اكتب أبياتًا بعد هذا البيت:\\n       ...</td>\n",
       "      <td>ألا فـي سـبـيـل الله فـقـد أخى تقى دعـاه إلى ا...</td>\n",
       "      <td>\\nتــعــذبــه الأيــام حــتــى كـأنـه  عـلى كـ...</td>\n",
       "    </tr>\n",
       "    <tr>\n",
       "      <th>199</th>\n",
       "      <td>\\n        اكتب أبياتًا بعد هذا البيت:\\n       ...</td>\n",
       "      <td>يطوي الليالي ساهراً متعذبا مـتـضـرعـاً مـن صـد...</td>\n",
       "      <td>\\nفـمـا هـيـجـتـهـم مـنـهـم مـحـبـرة ولا هـيـج...</td>\n",
       "    </tr>\n",
       "  </tbody>\n",
       "</table>\n",
       "<p>200 rows × 3 columns</p>\n",
       "</div>"
      ],
      "text/plain": [
       "                                                 input  \\\n",
       "0    \\n        اكتب أبياتًا بعد هذا البيت:\\n       ...   \n",
       "1    \\n        اكتب أبياتًا بعد هذا البيت:\\n       ...   \n",
       "2    \\n        اكتب أبياتًا بعد هذا البيت:\\n       ...   \n",
       "3    \\n        اكتب أبياتًا بعد هذا البيت:\\n       ...   \n",
       "4    \\n        اكتب أبياتًا بعد هذا البيت:\\n       ...   \n",
       "..                                                 ...   \n",
       "195  \\n        اكتب أبياتًا بعد هذا البيت:\\n       ...   \n",
       "196  \\n        اكتب أبياتًا بعد هذا البيت:\\n       ...   \n",
       "197  \\n        اكتب أبياتًا بعد هذا البيت:\\n       ...   \n",
       "198  \\n        اكتب أبياتًا بعد هذا البيت:\\n       ...   \n",
       "199  \\n        اكتب أبياتًا بعد هذا البيت:\\n       ...   \n",
       "\n",
       "                                                output  \\\n",
       "0    دع الأمانيّ أو رُمهنّ من ظُبةٍ فإنما هنّ من غي...   \n",
       "1    لا بل هوَ النورُ أضحى يَـــدِبُّ فـــي الظــلم...   \n",
       "2    لما سلكوا بالهجرِ يوماً طريقتي سـيَـنْـدم بُـع...   \n",
       "3    ما أَنتَ بِالحَكَمِ الَّذي سُمِّيتَهُ غالَتكَ ...   \n",
       "4    إِذا المَدحُ زانَ فَتى مَعشَرٍ فَإِنَّ يَزيدَ ...   \n",
       "..                                                 ...   \n",
       "195  أَجْنَى إِلَيْهَا الرِّضَى جَنَانِي مِنَ الْمَ...   \n",
       "196  وَلَوى بِــقَــلبــي مُــذ لَوى أَصــداغــه وَ...   \n",
       "197  وأَرسلَتِ اللَّحظَ الضَّعيفَ مع الهَوى لِيَقوى...   \n",
       "198  ألا فـي سـبـيـل الله فـقـد أخى تقى دعـاه إلى ا...   \n",
       "199  يطوي الليالي ساهراً متعذبا مـتـضـرعـاً مـن صـد...   \n",
       "\n",
       "                                                   MGT  \n",
       "0    \\nإذا تجلّى بها في الحرب ذو شطبٍ فذاك يومٌ على...  \n",
       "1    \\nفـيـهـا مـنـهـا مـاءٌ مـنـهـا مـاءٌ مـنـهـا ...  \n",
       "2    \\nلَما جـفـونـي بـالـتـقـطـيـعِ والهـجـرِ ولا ...  \n",
       "3                                                       \n",
       "4     إِذا ما تَحَلّى بِالمَكارِمِ وَالخَلائِقِ وَا...  \n",
       "..                                                 ...  \n",
       "195  \\nأَبْهَى مِنَ الدُّرِّ وَأَحْلَى مِمَّا يَحْل...  \n",
       "196  \\nفــيــهــا مــنــهــا مــنــظــومــة قــد جـ...  \n",
       "197                                                     \n",
       "198  \\nتــعــذبــه الأيــام حــتــى كـأنـه  عـلى كـ...  \n",
       "199  \\nفـمـا هـيـجـتـهـم مـنـهـم مـحـبـرة ولا هـيـج...  \n",
       "\n",
       "[200 rows x 3 columns]"
      ]
     },
     "execution_count": 6,
     "metadata": {},
     "output_type": "execute_result"
    }
   ],
   "source": [
    "fine_tuned_generation_data_df"
   ]
  },
  {
   "cell_type": "code",
   "execution_count": 7,
   "metadata": {},
   "outputs": [
    {
     "name": "stdout",
     "output_type": "stream",
     "text": [
      "<class 'pandas.core.frame.DataFrame'>\n",
      "RangeIndex: 200 entries, 0 to 199\n",
      "Data columns (total 3 columns):\n",
      " #   Column  Non-Null Count  Dtype \n",
      "---  ------  --------------  ----- \n",
      " 0   input   200 non-null    object\n",
      " 1   output  200 non-null    object\n",
      " 2   MGT     200 non-null    object\n",
      "dtypes: object(3)\n",
      "memory usage: 4.8+ KB\n"
     ]
    }
   ],
   "source": [
    "fine_tuned_generation_data_df.info()"
   ]
  },
  {
   "cell_type": "code",
   "execution_count": 8,
   "metadata": {},
   "outputs": [],
   "source": [
    "base_model_generation_data_df = pd.read_json(\"/home/ozeiri/Desktop/Allam-Challenge/base_model_gen_results.json\", encoding=\"utf-8\")\n"
   ]
  },
  {
   "cell_type": "code",
   "execution_count": 11,
   "metadata": {},
   "outputs": [
    {
     "data": {
      "text/html": [
       "<div>\n",
       "<style scoped>\n",
       "    .dataframe tbody tr th:only-of-type {\n",
       "        vertical-align: middle;\n",
       "    }\n",
       "\n",
       "    .dataframe tbody tr th {\n",
       "        vertical-align: top;\n",
       "    }\n",
       "\n",
       "    .dataframe thead th {\n",
       "        text-align: right;\n",
       "    }\n",
       "</style>\n",
       "<table border=\"1\" class=\"dataframe\">\n",
       "  <thead>\n",
       "    <tr style=\"text-align: right;\">\n",
       "      <th></th>\n",
       "      <th>input</th>\n",
       "      <th>output</th>\n",
       "      <th>MGT (200 , 1.05)</th>\n",
       "    </tr>\n",
       "  </thead>\n",
       "  <tbody>\n",
       "    <tr>\n",
       "      <th>0</th>\n",
       "      <td>\\n        اكتب أبياتًا بعد هذا البيت:\\n       ...</td>\n",
       "      <td>دع الأمانيّ أو رُمهنّ من ظُبةٍ فإنما هنّ من غي...</td>\n",
       "      <td>\\n        هي المنى كثغور الغِيد تبتسم إذا تطرّ...</td>\n",
       "    </tr>\n",
       "    <tr>\n",
       "      <th>1</th>\n",
       "      <td>\\n        اكتب أبياتًا بعد هذا البيت:\\n       ...</td>\n",
       "      <td>لا بل هوَ النورُ أضحى يَـــدِبُّ فـــي الظــلم...</td>\n",
       "      <td>\\n        جـسـمٌ هـوَ المـاء لطفاً وارتـــهُ ش...</td>\n",
       "    </tr>\n",
       "    <tr>\n",
       "      <th>2</th>\n",
       "      <td>\\n        اكتب أبياتًا بعد هذا البيت:\\n       ...</td>\n",
       "      <td>لما سلكوا بالهجرِ يوماً طريقتي سـيَـنْـدم بُـع...</td>\n",
       "      <td>\\n        لـجَاؤُا إلـيَّ مُخْبِتـيْنَ إذْ رَأ...</td>\n",
       "    </tr>\n",
       "    <tr>\n",
       "      <th>3</th>\n",
       "      <td>\\n        اكتب أبياتًا بعد هذا البيت:\\n       ...</td>\n",
       "      <td>ما أَنتَ بِالحَكَمِ الَّذي سُمِّيتَهُ غالَتكَ ...</td>\n",
       "      <td>\\n        لا تَطلُبَنَّ لَها البَديعَ فَإِنَّم...</td>\n",
       "    </tr>\n",
       "    <tr>\n",
       "      <th>4</th>\n",
       "      <td>\\n        اكتب أبياتًا بعد هذا البيت:\\n       ...</td>\n",
       "      <td>إِذا المَدحُ زانَ فَتى مَعشَرٍ فَإِنَّ يَزيدَ ...</td>\n",
       "      <td>\\n        فَلَيسَ بِغَيرِ المَكارِمِ وَالخَيرِ...</td>\n",
       "    </tr>\n",
       "    <tr>\n",
       "      <th>...</th>\n",
       "      <td>...</td>\n",
       "      <td>...</td>\n",
       "      <td>...</td>\n",
       "    </tr>\n",
       "    <tr>\n",
       "      <th>195</th>\n",
       "      <td>\\n        اكتب أبياتًا بعد هذا البيت:\\n       ...</td>\n",
       "      <td>أَجْنَى إِلَيْهَا الرِّضَى جَنَانِي مِنَ الْمَ...</td>\n",
       "      <td>\\n        أَرْسَخَ فِي الْفَخْرِ مِنْ أَبَانِ\\...</td>\n",
       "    </tr>\n",
       "    <tr>\n",
       "      <th>196</th>\n",
       "      <td>\\n        اكتب أبياتًا بعد هذا البيت:\\n       ...</td>\n",
       "      <td>وَلَوى بِــقَــلبــي مُــذ لَوى أَصــداغــه وَ...</td>\n",
       "      <td>\\n        وبديع حسن فرعه لك آية\\nقد أرسلت وحيا...</td>\n",
       "    </tr>\n",
       "    <tr>\n",
       "      <th>197</th>\n",
       "      <td>\\n        اكتب أبياتًا بعد هذا البيت:\\n       ...</td>\n",
       "      <td>وأَرسلَتِ اللَّحظَ الضَّعيفَ مع الهَوى لِيَقوى...</td>\n",
       "      <td>\\n        دنت: أي اقتربت.\\n        متطرّفا: أي...</td>\n",
       "    </tr>\n",
       "    <tr>\n",
       "      <th>198</th>\n",
       "      <td>\\n        اكتب أبياتًا بعد هذا البيت:\\n       ...</td>\n",
       "      <td>ألا فـي سـبـيـل الله فـقـد أخى تقى دعـاه إلى ا...</td>\n",
       "      <td>\\n        تــأوهــت مــن وجـد وذو الوجـد أواه ...</td>\n",
       "    </tr>\n",
       "    <tr>\n",
       "      <th>199</th>\n",
       "      <td>\\n        اكتب أبياتًا بعد هذا البيت:\\n       ...</td>\n",
       "      <td>يطوي الليالي ساهراً متعذبا مـتـضـرعـاً مـن صـد...</td>\n",
       "      <td>\\n        نـعـمانكم جرح الفراق فؤاده فـغـدت مح...</td>\n",
       "    </tr>\n",
       "  </tbody>\n",
       "</table>\n",
       "<p>200 rows × 3 columns</p>\n",
       "</div>"
      ],
      "text/plain": [
       "                                                 input  \\\n",
       "0    \\n        اكتب أبياتًا بعد هذا البيت:\\n       ...   \n",
       "1    \\n        اكتب أبياتًا بعد هذا البيت:\\n       ...   \n",
       "2    \\n        اكتب أبياتًا بعد هذا البيت:\\n       ...   \n",
       "3    \\n        اكتب أبياتًا بعد هذا البيت:\\n       ...   \n",
       "4    \\n        اكتب أبياتًا بعد هذا البيت:\\n       ...   \n",
       "..                                                 ...   \n",
       "195  \\n        اكتب أبياتًا بعد هذا البيت:\\n       ...   \n",
       "196  \\n        اكتب أبياتًا بعد هذا البيت:\\n       ...   \n",
       "197  \\n        اكتب أبياتًا بعد هذا البيت:\\n       ...   \n",
       "198  \\n        اكتب أبياتًا بعد هذا البيت:\\n       ...   \n",
       "199  \\n        اكتب أبياتًا بعد هذا البيت:\\n       ...   \n",
       "\n",
       "                                                output  \\\n",
       "0    دع الأمانيّ أو رُمهنّ من ظُبةٍ فإنما هنّ من غي...   \n",
       "1    لا بل هوَ النورُ أضحى يَـــدِبُّ فـــي الظــلم...   \n",
       "2    لما سلكوا بالهجرِ يوماً طريقتي سـيَـنْـدم بُـع...   \n",
       "3    ما أَنتَ بِالحَكَمِ الَّذي سُمِّيتَهُ غالَتكَ ...   \n",
       "4    إِذا المَدحُ زانَ فَتى مَعشَرٍ فَإِنَّ يَزيدَ ...   \n",
       "..                                                 ...   \n",
       "195  أَجْنَى إِلَيْهَا الرِّضَى جَنَانِي مِنَ الْمَ...   \n",
       "196  وَلَوى بِــقَــلبــي مُــذ لَوى أَصــداغــه وَ...   \n",
       "197  وأَرسلَتِ اللَّحظَ الضَّعيفَ مع الهَوى لِيَقوى...   \n",
       "198  ألا فـي سـبـيـل الله فـقـد أخى تقى دعـاه إلى ا...   \n",
       "199  يطوي الليالي ساهراً متعذبا مـتـضـرعـاً مـن صـد...   \n",
       "\n",
       "                                      MGT (200 , 1.05)  \n",
       "0    \\n        هي المنى كثغور الغِيد تبتسم إذا تطرّ...  \n",
       "1    \\n        جـسـمٌ هـوَ المـاء لطفاً وارتـــهُ ش...  \n",
       "2    \\n        لـجَاؤُا إلـيَّ مُخْبِتـيْنَ إذْ رَأ...  \n",
       "3    \\n        لا تَطلُبَنَّ لَها البَديعَ فَإِنَّم...  \n",
       "4    \\n        فَلَيسَ بِغَيرِ المَكارِمِ وَالخَيرِ...  \n",
       "..                                                 ...  \n",
       "195  \\n        أَرْسَخَ فِي الْفَخْرِ مِنْ أَبَانِ\\...  \n",
       "196  \\n        وبديع حسن فرعه لك آية\\nقد أرسلت وحيا...  \n",
       "197  \\n        دنت: أي اقتربت.\\n        متطرّفا: أي...  \n",
       "198  \\n        تــأوهــت مــن وجـد وذو الوجـد أواه ...  \n",
       "199  \\n        نـعـمانكم جرح الفراق فؤاده فـغـدت مح...  \n",
       "\n",
       "[200 rows x 3 columns]"
      ]
     },
     "execution_count": 11,
     "metadata": {},
     "output_type": "execute_result"
    }
   ],
   "source": [
    "base_model_generation_data_df"
   ]
  },
  {
   "cell_type": "code",
   "execution_count": 9,
   "metadata": {},
   "outputs": [
    {
     "data": {
      "text/plain": [
       "0.8813191074877977"
      ]
     },
     "execution_count": 9,
     "metadata": {},
     "output_type": "execute_result"
    }
   ],
   "source": [
    "generation_task(fine_tuned_generation_data_df)"
   ]
  },
  {
   "cell_type": "code",
   "execution_count": 10,
   "metadata": {},
   "outputs": [
    {
     "data": {
      "text/plain": [
       "0.937240789681673"
      ]
     },
     "execution_count": 10,
     "metadata": {},
     "output_type": "execute_result"
    }
   ],
   "source": [
    "generation_task(base_model_generation_data_df)"
   ]
  },
  {
   "cell_type": "code",
   "execution_count": 16,
   "metadata": {},
   "outputs": [],
   "source": [
    "indices = fine_tuned_generation_data_df[fine_tuned_generation_data_df['MGT'] != \"\"].index\n",
    "filtered_fine_tuned_generation_data_df = fine_tuned_generation_data_df.iloc[indices]\n",
    "filter_base_model_generation_data_df = base_model_generation_data_df.iloc[indices]"
   ]
  },
  {
   "cell_type": "code",
   "execution_count": 17,
   "metadata": {},
   "outputs": [
    {
     "data": {
      "text/plain": [
       "0.9346913124545145"
      ]
     },
     "execution_count": 17,
     "metadata": {},
     "output_type": "execute_result"
    }
   ],
   "source": [
    "generation_task(filter_base_model_generation_data_df)"
   ]
  },
  {
   "cell_type": "code",
   "execution_count": 18,
   "metadata": {},
   "outputs": [
    {
     "data": {
      "text/plain": [
       "0.9599137383665742"
      ]
     },
     "execution_count": 18,
     "metadata": {},
     "output_type": "execute_result"
    }
   ],
   "source": [
    "generation_task(filtered_fine_tuned_generation_data_df)"
   ]
  },
  {
   "cell_type": "code",
   "execution_count": 19,
   "metadata": {},
   "outputs": [
    {
     "data": {
      "text/html": [
       "<div>\n",
       "<style scoped>\n",
       "    .dataframe tbody tr th:only-of-type {\n",
       "        vertical-align: middle;\n",
       "    }\n",
       "\n",
       "    .dataframe tbody tr th {\n",
       "        vertical-align: top;\n",
       "    }\n",
       "\n",
       "    .dataframe thead th {\n",
       "        text-align: right;\n",
       "    }\n",
       "</style>\n",
       "<table border=\"1\" class=\"dataframe\">\n",
       "  <thead>\n",
       "    <tr style=\"text-align: right;\">\n",
       "      <th></th>\n",
       "      <th>input</th>\n",
       "      <th>output</th>\n",
       "      <th>MGT</th>\n",
       "    </tr>\n",
       "  </thead>\n",
       "  <tbody>\n",
       "    <tr>\n",
       "      <th>0</th>\n",
       "      <td>\\n        اكتب أبياتًا بعد هذا البيت:\\n       ...</td>\n",
       "      <td>دع الأمانيّ أو رُمهنّ من ظُبةٍ فإنما هنّ من غي...</td>\n",
       "      <td>\\nإذا تجلّى بها في الحرب ذو شطبٍ فذاك يومٌ على...</td>\n",
       "    </tr>\n",
       "    <tr>\n",
       "      <th>1</th>\n",
       "      <td>\\n        اكتب أبياتًا بعد هذا البيت:\\n       ...</td>\n",
       "      <td>لا بل هوَ النورُ أضحى يَـــدِبُّ فـــي الظــلم...</td>\n",
       "      <td>\\nفـيـهـا مـنـهـا مـاءٌ مـنـهـا مـاءٌ مـنـهـا ...</td>\n",
       "    </tr>\n",
       "    <tr>\n",
       "      <th>2</th>\n",
       "      <td>\\n        اكتب أبياتًا بعد هذا البيت:\\n       ...</td>\n",
       "      <td>لما سلكوا بالهجرِ يوماً طريقتي سـيَـنْـدم بُـع...</td>\n",
       "      <td>\\nلَما جـفـونـي بـالـتـقـطـيـعِ والهـجـرِ ولا ...</td>\n",
       "    </tr>\n",
       "    <tr>\n",
       "      <th>4</th>\n",
       "      <td>\\n        اكتب أبياتًا بعد هذا البيت:\\n       ...</td>\n",
       "      <td>إِذا المَدحُ زانَ فَتى مَعشَرٍ فَإِنَّ يَزيدَ ...</td>\n",
       "      <td>إِذا ما تَحَلّى بِالمَكارِمِ وَالخَلائِقِ وَا...</td>\n",
       "    </tr>\n",
       "    <tr>\n",
       "      <th>5</th>\n",
       "      <td>\\n        اكتب أبياتًا بعد هذا البيت:\\n       ...</td>\n",
       "      <td>إِنِّي لأَسْأَلُ وَالرَّفَاقُ تَحَمَّلوا أَتُر...</td>\n",
       "      <td>\\nأَيُّ رَجُلٍ يُرِيدُ أَنْ يَبْقَى وَفِي الدُ...</td>\n",
       "    </tr>\n",
       "    <tr>\n",
       "      <th>...</th>\n",
       "      <td>...</td>\n",
       "      <td>...</td>\n",
       "      <td>...</td>\n",
       "    </tr>\n",
       "    <tr>\n",
       "      <th>194</th>\n",
       "      <td>\\n        اكتب أبياتًا بعد هذا البيت:\\n       ...</td>\n",
       "      <td>وَكَــــأَنَّهـــا رَوض نَـــضـــيـــر يـــانـ...</td>\n",
       "      <td>\\nوَرَأَيتُ أَنَّ لَيـسَ يَـكـفـي أَن أُجـيـبَ...</td>\n",
       "    </tr>\n",
       "    <tr>\n",
       "      <th>195</th>\n",
       "      <td>\\n        اكتب أبياتًا بعد هذا البيت:\\n       ...</td>\n",
       "      <td>أَجْنَى إِلَيْهَا الرِّضَى جَنَانِي مِنَ الْمَ...</td>\n",
       "      <td>\\nأَبْهَى مِنَ الدُّرِّ وَأَحْلَى مِمَّا يَحْل...</td>\n",
       "    </tr>\n",
       "    <tr>\n",
       "      <th>196</th>\n",
       "      <td>\\n        اكتب أبياتًا بعد هذا البيت:\\n       ...</td>\n",
       "      <td>وَلَوى بِــقَــلبــي مُــذ لَوى أَصــداغــه وَ...</td>\n",
       "      <td>\\nفــيــهــا مــنــهــا مــنــظــومــة قــد جـ...</td>\n",
       "    </tr>\n",
       "    <tr>\n",
       "      <th>198</th>\n",
       "      <td>\\n        اكتب أبياتًا بعد هذا البيت:\\n       ...</td>\n",
       "      <td>ألا فـي سـبـيـل الله فـقـد أخى تقى دعـاه إلى ا...</td>\n",
       "      <td>\\nتــعــذبــه الأيــام حــتــى كـأنـه  عـلى كـ...</td>\n",
       "    </tr>\n",
       "    <tr>\n",
       "      <th>199</th>\n",
       "      <td>\\n        اكتب أبياتًا بعد هذا البيت:\\n       ...</td>\n",
       "      <td>يطوي الليالي ساهراً متعذبا مـتـضـرعـاً مـن صـد...</td>\n",
       "      <td>\\nفـمـا هـيـجـتـهـم مـنـهـم مـحـبـرة ولا هـيـج...</td>\n",
       "    </tr>\n",
       "  </tbody>\n",
       "</table>\n",
       "<p>177 rows × 3 columns</p>\n",
       "</div>"
      ],
      "text/plain": [
       "                                                 input  \\\n",
       "0    \\n        اكتب أبياتًا بعد هذا البيت:\\n       ...   \n",
       "1    \\n        اكتب أبياتًا بعد هذا البيت:\\n       ...   \n",
       "2    \\n        اكتب أبياتًا بعد هذا البيت:\\n       ...   \n",
       "4    \\n        اكتب أبياتًا بعد هذا البيت:\\n       ...   \n",
       "5    \\n        اكتب أبياتًا بعد هذا البيت:\\n       ...   \n",
       "..                                                 ...   \n",
       "194  \\n        اكتب أبياتًا بعد هذا البيت:\\n       ...   \n",
       "195  \\n        اكتب أبياتًا بعد هذا البيت:\\n       ...   \n",
       "196  \\n        اكتب أبياتًا بعد هذا البيت:\\n       ...   \n",
       "198  \\n        اكتب أبياتًا بعد هذا البيت:\\n       ...   \n",
       "199  \\n        اكتب أبياتًا بعد هذا البيت:\\n       ...   \n",
       "\n",
       "                                                output  \\\n",
       "0    دع الأمانيّ أو رُمهنّ من ظُبةٍ فإنما هنّ من غي...   \n",
       "1    لا بل هوَ النورُ أضحى يَـــدِبُّ فـــي الظــلم...   \n",
       "2    لما سلكوا بالهجرِ يوماً طريقتي سـيَـنْـدم بُـع...   \n",
       "4    إِذا المَدحُ زانَ فَتى مَعشَرٍ فَإِنَّ يَزيدَ ...   \n",
       "5    إِنِّي لأَسْأَلُ وَالرَّفَاقُ تَحَمَّلوا أَتُر...   \n",
       "..                                                 ...   \n",
       "194  وَكَــــأَنَّهـــا رَوض نَـــضـــيـــر يـــانـ...   \n",
       "195  أَجْنَى إِلَيْهَا الرِّضَى جَنَانِي مِنَ الْمَ...   \n",
       "196  وَلَوى بِــقَــلبــي مُــذ لَوى أَصــداغــه وَ...   \n",
       "198  ألا فـي سـبـيـل الله فـقـد أخى تقى دعـاه إلى ا...   \n",
       "199  يطوي الليالي ساهراً متعذبا مـتـضـرعـاً مـن صـد...   \n",
       "\n",
       "                                                   MGT  \n",
       "0    \\nإذا تجلّى بها في الحرب ذو شطبٍ فذاك يومٌ على...  \n",
       "1    \\nفـيـهـا مـنـهـا مـاءٌ مـنـهـا مـاءٌ مـنـهـا ...  \n",
       "2    \\nلَما جـفـونـي بـالـتـقـطـيـعِ والهـجـرِ ولا ...  \n",
       "4     إِذا ما تَحَلّى بِالمَكارِمِ وَالخَلائِقِ وَا...  \n",
       "5    \\nأَيُّ رَجُلٍ يُرِيدُ أَنْ يَبْقَى وَفِي الدُ...  \n",
       "..                                                 ...  \n",
       "194  \\nوَرَأَيتُ أَنَّ لَيـسَ يَـكـفـي أَن أُجـيـبَ...  \n",
       "195  \\nأَبْهَى مِنَ الدُّرِّ وَأَحْلَى مِمَّا يَحْل...  \n",
       "196  \\nفــيــهــا مــنــهــا مــنــظــومــة قــد جـ...  \n",
       "198  \\nتــعــذبــه الأيــام حــتــى كـأنـه  عـلى كـ...  \n",
       "199  \\nفـمـا هـيـجـتـهـم مـنـهـم مـحـبـرة ولا هـيـج...  \n",
       "\n",
       "[177 rows x 3 columns]"
      ]
     },
     "execution_count": 19,
     "metadata": {},
     "output_type": "execute_result"
    }
   ],
   "source": [
    "filtered_fine_tuned_generation_data_df"
   ]
  },
  {
   "cell_type": "code",
   "execution_count": null,
   "metadata": {},
   "outputs": [],
   "source": [
    "comparision_df = pd.DataFrame({\n",
    "    \"input\": filter_base_model_generation_data_df[\"input\"].values,\n",
    "    \"output\":filter_base_model_generation_data_df[\"output\"].values,\n",
    "    \"Base\": filter_base_model_generation_data_df[\"MGT (200 , 1.05)\"].values,\n",
    "    \"Fine-tuned\": filtered_fine_tuned_generation_data_df[\"MGT\"].values,\n",
    "})\n",
    "comparision_df['Base'] = comparision_df['Base'].str.split('\\n')\n",
    "comparision_df['Fine-tuned'] = comparision_df['Fine-tuned'].str.split('\\n')"
   ]
  },
  {
   "cell_type": "code",
   "execution_count": 27,
   "metadata": {},
   "outputs": [
    {
     "name": "stdout",
     "output_type": "stream",
     "text": [
      "JSON and CSV files created successfully.\n"
     ]
    }
   ],
   "source": [
    "import json\n",
    "import csv\n",
    "\n",
    "# Prepare the data in the desired format\n",
    "json_data = [\n",
    "    {\"input\": f\"{row['input']}\".splitlines(),\n",
    "     \"output\": row['output'].splitlines(),\n",
    "     \"Base\": row['Base'],\n",
    "     \"Fine-tuned\": row['Fine-tuned']}\n",
    "    for _, row in comparision_df.iterrows()\n",
    "]\n",
    "\n",
    "# Save as JSON file\n",
    "with open('base_finetuned_results_comparison.json', 'w', encoding='utf-8') as json_file:\n",
    "    json.dump(json_data, json_file, ensure_ascii=False, indent=4)\n",
    "\n",
    "# Save as CSV file\n",
    "with open('base_finetuned_results_comparison.csv', 'w', encoding='utf-8-sig', newline='') as csv_file:\n",
    "    writer = csv.DictWriter(csv_file, fieldnames=[\"input\", \"output\", \"Base\", \"Fine-tuned\"])\n",
    "    writer.writeheader()\n",
    "    writer.writerows(json_data)\n",
    "\n",
    "print(\"JSON and CSV files created successfully.\")\n"
   ]
  },
  {
   "cell_type": "code",
   "execution_count": null,
   "metadata": {},
   "outputs": [],
   "source": [
    "import json\n",
    "import csv"
   ]
  },
  {
   "cell_type": "code",
   "execution_count": 16,
   "metadata": {},
   "outputs": [
    {
     "data": {
      "text/plain": [
       "' أَرى الأَيّامَ لا تُدارِي بِعَينِها وَما لِلحُرِّ غَيرُ مُصَمِّمٍ جِهَادِ'"
      ]
     },
     "execution_count": 16,
     "metadata": {},
     "output_type": "execute_result"
    }
   ],
   "source": [
    "fine_tuned_generation_data_df.iloc[30,2]"
   ]
  },
  {
   "cell_type": "code",
   "execution_count": null,
   "metadata": {},
   "outputs": [
    {
     "name": "stdout",
     "output_type": "stream",
     "text": [
      "JSON file created successfully.\n"
     ]
    }
   ],
   "source": [
    "json_data = [\n",
    "    {\"input\": f\"{row['input']}\".splitlines(),\n",
    "     \"output\": row['output'].splitlines(),\n",
    "    \"MGT (200 , 1.05)\": row['MGT'].splitlines()}\n",
    "    for _, row in generation_data_df.iterrows()\n",
    "]\n",
    "\n",
    "with open('base_results_gen_200_1.05.json', 'w', encoding='utf-8') as json_file:\n",
    "    json.dump(json_data, json_file, ensure_ascii=False, indent=4)\n",
    "    \n",
    "with open('base_results_gen_200_1.05.csv', 'w', encoding='utf-8-sig', newline='') as csv_file:\n",
    "    writer = csv.DictWriter(csv_file, fieldnames=[\"input\", \"output\", \"MGT (200 , 1.05)\"])\n",
    "    writer.writeheader()\n",
    "    writer.writerows(json_data)\n",
    "\n",
    "print(\"JSON file created successfully.\")"
   ]
  },
  {
   "cell_type": "code",
   "execution_count": 22,
   "metadata": {},
   "outputs": [
    {
     "name": "stdout",
     "output_type": "stream",
     "text": [
      "Conversion complete! Check output_file.json\n"
     ]
    }
   ],
   "source": [
    "import json\n",
    "\n",
    "# Load the JSON file\n",
    "with open(\"/home/ozeiri/Desktop/Allam-Challenge/base_results_gen_200_1.05.json\", \"r\", encoding=\"utf-8\") as file:\n",
    "    data = json.load(file)\n",
    "\n",
    "# Function to join lists in the JSON\n",
    "def join_fields(obj):\n",
    "    for key, value in obj.items():\n",
    "        if isinstance(value, list):\n",
    "            obj[key] = \"\\n\".join(value)  # Join list elements with new lines\n",
    "    return obj\n",
    "\n",
    "# Process each JSON object in the list\n",
    "new_data = [join_fields(item) for item in data]\n",
    "\n",
    "# Save the modified JSON to a new file\n",
    "with open(\"base_model_gen_results.json\", \"w\", encoding=\"utf-8\") as file:\n",
    "    json.dump(new_data, file, ensure_ascii=False, indent=4)\n",
    "\n",
    "print(\"Conversion complete! Check output_file.json\")"
   ]
  },
  {
   "cell_type": "code",
   "execution_count": null,
   "metadata": {},
   "outputs": [],
   "source": []
  }
 ],
 "metadata": {
  "kernelspec": {
   "display_name": "Python 3",
   "language": "python",
   "name": "python3"
  },
  "language_info": {
   "codemirror_mode": {
    "name": "ipython",
    "version": 3
   },
   "file_extension": ".py",
   "mimetype": "text/x-python",
   "name": "python",
   "nbconvert_exporter": "python",
   "pygments_lexer": "ipython3",
   "version": "3.10.12"
  }
 },
 "nbformat": 4,
 "nbformat_minor": 2
}
